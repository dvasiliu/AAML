{
 "cells": [
  {
   "cell_type": "code",
   "execution_count": 3,
   "metadata": {},
   "outputs": [],
   "source": [
    "import torch\n",
    "from torch.nn import Linear, MSELoss, Module\n",
    "from torch.optim import SGD, Adam\n",
    "import pandas as pd\n"
   ]
  },
  {
   "cell_type": "markdown",
   "metadata": {},
   "source": [
    "## Make a class for Elastic Net"
   ]
  },
  {
   "cell_type": "code",
   "execution_count": 32,
   "metadata": {},
   "outputs": [],
   "source": [
    "class ElasticNet(Module):\n",
    "    \n",
    "    def __init__(self,input_size, alpha=1.0, l1_ratio=0.5, fit_intercept=True):      \n",
    "        \n",
    "        # Define the linear regression layer\n",
    "        super(ElasticNet, self).__init__()\n",
    "        self.input_size = input_size\n",
    "        self.alpha = alpha\n",
    "        self.l1_ratio = l1_ratio\n",
    "        \n",
    "        # Define the linear regression layer\n",
    "        self.linear = Linear(input_size, 1,bias=fit_intercept,device='cpu',dtype=torch.float64)\n",
    "\n",
    "    def forward(self, x):\n",
    "\n",
    "        return self.linear(x)\n",
    "\n",
    "    def objfunc(self, y_pred, y_true):\n",
    "\n",
    "        mse_loss = MSELoss()(y_pred, y_true)\n",
    "        l1_reg = torch.norm(self.linear.weight, p=1)\n",
    "        l2_reg = torch.norm(self.linear.weight, p=2)\n",
    "\n",
    "        objective = (1/2) * mse_loss + self.alpha * (\n",
    "            self.l1_ratio * l1_reg + (1 - self.l1_ratio) * (1/2)*l2_reg**2)\n",
    "\n",
    "        return objective\n",
    "\n",
    "    def fit(self, X, y, num_epochs=1000, learning_rate=0.01):\n",
    "\n",
    "        \n",
    "        optimizer = Adam(self.parameters(), lr=learning_rate)\n",
    "\n",
    "        for epoch in range(num_epochs):\n",
    "            self.train() \n",
    "            optimizer.zero_grad()\n",
    "            y_pred = self(X)\n",
    "            obj_val = self.objfunc(y_pred, y)\n",
    "            loss = MSELoss()(y_pred, y)\n",
    "            obj_val.backward()\n",
    "            optimizer.step()\n",
    "\n",
    "            if (epoch + 1) % 100 == 0:\n",
    "                print(f\"Epoch [{epoch + 1}/{num_epochs}], MSE: {loss.item()}\")\n",
    "\n",
    "    def predict(self, X):\n",
    "\n",
    "        self.eval()\n",
    "        with torch.no_grad():\n",
    "            y_pred = self(X)\n",
    "        return y_pred\n",
    "    def get_coefficients(self):\n",
    "        return self.linear.weight\n"
   ]
  },
  {
   "cell_type": "code",
   "execution_count": 13,
   "metadata": {},
   "outputs": [],
   "source": [
    "data = pd.read_csv('https://github.com/dvasiliu/AML/blob/main/Data%20Sets/concrete.csv?raw=true')"
   ]
  },
  {
   "cell_type": "code",
   "execution_count": 26,
   "metadata": {},
   "outputs": [],
   "source": [
    "y = torch.tensor(data['strength'].values)\n",
    "x = torch.tensor(data.drop(columns=['strength']).values)"
   ]
  },
  {
   "cell_type": "code",
   "execution_count": 33,
   "metadata": {},
   "outputs": [],
   "source": [
    "model = ElasticNet(input_size=x.shape[1],alpha=0.01,l1_ratio=0.5)"
   ]
  },
  {
   "cell_type": "code",
   "execution_count": 35,
   "metadata": {},
   "outputs": [
    {
     "name": "stderr",
     "output_type": "stream",
     "text": [
      "/Users/daniel/hardmetal/lib/python3.9/site-packages/torch/nn/modules/loss.py:608: UserWarning: Using a target size (torch.Size([1030])) that is different to the input size (torch.Size([1030, 1])). This will likely lead to incorrect results due to broadcasting. Please ensure they have the same size.\n",
      "  return F.mse_loss(input, target, reduction=self.reduction)\n"
     ]
    },
    {
     "name": "stdout",
     "output_type": "stream",
     "text": [
      "Epoch [100/2000], MSE: 279.7943570747001\n",
      "Epoch [200/2000], MSE: 279.27410745628157\n",
      "Epoch [300/2000], MSE: 279.06874884108856\n",
      "Epoch [400/2000], MSE: 279.01017863181943\n",
      "Epoch [500/2000], MSE: 278.9983713401415\n",
      "Epoch [600/2000], MSE: 278.9965521929798\n",
      "Epoch [700/2000], MSE: 278.99629486526754\n",
      "Epoch [800/2000], MSE: 278.99621878104875\n",
      "Epoch [900/2000], MSE: 278.99615671693607\n",
      "Epoch [1000/2000], MSE: 278.9960917100273\n",
      "Epoch [1100/2000], MSE: 278.9960217605396\n",
      "Epoch [1200/2000], MSE: 278.99594645497126\n",
      "Epoch [1300/2000], MSE: 278.9958656020063\n",
      "Epoch [1400/2000], MSE: 278.9957790320001\n",
      "Epoch [1500/2000], MSE: 286.11687984888306\n",
      "Epoch [1600/2000], MSE: 278.9962973497253\n",
      "Epoch [1700/2000], MSE: 278.99555642354767\n",
      "Epoch [1800/2000], MSE: 278.99548235307304\n",
      "Epoch [1900/2000], MSE: 278.9954037654596\n",
      "Epoch [2000/2000], MSE: 278.995320452779\n"
     ]
    }
   ],
   "source": [
    "model.fit(x,y,num_epochs=2000,learning_rate=0.02)"
   ]
  },
  {
   "cell_type": "code",
   "execution_count": 11,
   "metadata": {},
   "outputs": [
    {
     "data": {
      "text/plain": [
       "8"
      ]
     },
     "execution_count": 11,
     "metadata": {},
     "output_type": "execute_result"
    }
   ],
   "source": [
    "x.shape[1]"
   ]
  },
  {
   "cell_type": "code",
   "execution_count": null,
   "metadata": {},
   "outputs": [],
   "source": []
  }
 ],
 "metadata": {
  "kernelspec": {
   "display_name": "hardmetal",
   "language": "python",
   "name": "python3"
  },
  "language_info": {
   "codemirror_mode": {
    "name": "ipython",
    "version": 3
   },
   "file_extension": ".py",
   "mimetype": "text/x-python",
   "name": "python",
   "nbconvert_exporter": "python",
   "pygments_lexer": "ipython3",
   "version": "3.9.6"
  }
 },
 "nbformat": 4,
 "nbformat_minor": 2
}
