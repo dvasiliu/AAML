{
 "cells": [
  {
   "cell_type": "code",
   "execution_count": 1,
   "metadata": {},
   "outputs": [
    {
     "data": {
      "text/plain": [
       "array([42], dtype=uint64)"
      ]
     },
     "execution_count": 1,
     "metadata": {},
     "output_type": "execute_result"
    }
   ],
   "source": [
    "import numpy as np\n",
    "from scipy.spatial.distance import cdist\n",
    "from usearch.index import search, MetricKind, Matches, BatchMatches"
   ]
  },
  {
   "cell_type": "markdown",
   "metadata": {},
   "source": [
    "# Example with USearch library\n",
    "\n",
    "Reference: https://github.com/unum-cloud/usearch"
   ]
  },
  {
   "cell_type": "code",
   "execution_count": 49,
   "metadata": {},
   "outputs": [],
   "source": [
    "# Generate 10'000 random vectors with 1024 dimensions\n",
    "vectors = np.random.rand(10000, 1024).astype(np.float32)\n",
    "vector = np.random.rand(1024).astype(np.float32)\n",
    "\n",
    "one_in_many: Matches = search(vectors, vector, 50, MetricKind.L2sq, exact=True)\n",
    "# many_in_many: BatchMatches = search(vectors, vectors, 50, MetricKind.L2sq, exact=True)\n",
    "\n"
   ]
  },
  {
   "cell_type": "code",
   "execution_count": 9,
   "metadata": {},
   "outputs": [
    {
     "data": {
      "text/plain": [
       "array([148.28493, 149.36392, 149.39612, 150.33774, 150.76176, 151.26874,\n",
       "       151.55542, 151.58168, 151.61359, 151.66888, 151.77277, 151.8819 ,\n",
       "       152.16907, 152.28232, 152.4141 , 152.41916, 152.45041, 152.47855,\n",
       "       152.56647, 152.61732, 152.81068, 152.91292, 152.9302 , 152.9842 ,\n",
       "       153.01051, 153.0383 , 153.09265, 153.14703, 153.23404, 153.30553,\n",
       "       153.60391, 153.68681, 153.98639, 154.01343, 154.26999, 154.3609 ,\n",
       "       154.38693, 154.4319 , 154.45644, 154.46512, 154.51248, 154.59296,\n",
       "       154.63261, 154.65158, 154.65529, 154.65904, 154.66281, 154.69044,\n",
       "       154.72095, 154.80173], dtype=float32)"
      ]
     },
     "execution_count": 9,
     "metadata": {},
     "output_type": "execute_result"
    }
   ],
   "source": [
    "one_in_many.distances"
   ]
  },
  {
   "cell_type": "code",
   "execution_count": 11,
   "metadata": {},
   "outputs": [
    {
     "data": {
      "text/plain": [
       "[(6398, 148.28492736816406),\n",
       " (143, 149.36392211914062),\n",
       " (5364, 149.3961181640625),\n",
       " (2408, 150.33773803710938),\n",
       " (4788, 150.7617645263672),\n",
       " (4569, 151.26873779296875),\n",
       " (8272, 151.555419921875),\n",
       " (3095, 151.58168029785156),\n",
       " (7043, 151.61358642578125),\n",
       " (5500, 151.66888427734375),\n",
       " (5613, 151.77276611328125),\n",
       " (6301, 151.88189697265625),\n",
       " (5890, 152.1690673828125),\n",
       " (540, 152.28231811523438),\n",
       " (9951, 152.41409301757812),\n",
       " (171, 152.41915893554688),\n",
       " (7865, 152.45040893554688),\n",
       " (9505, 152.47854614257812),\n",
       " (2065, 152.56646728515625),\n",
       " (762, 152.61732482910156),\n",
       " (2186, 152.81068420410156),\n",
       " (8400, 152.9129180908203),\n",
       " (649, 152.93020629882812),\n",
       " (4983, 152.9842071533203),\n",
       " (7042, 153.01051330566406),\n",
       " (5245, 153.03829956054688),\n",
       " (2278, 153.0926513671875),\n",
       " (609, 153.14703369140625),\n",
       " (3126, 153.23403930664062),\n",
       " (6393, 153.30552673339844),\n",
       " (950, 153.60391235351562),\n",
       " (1871, 153.6868133544922),\n",
       " (8731, 153.98638916015625),\n",
       " (1245, 154.013427734375),\n",
       " (8291, 154.26998901367188),\n",
       " (7755, 154.36090087890625),\n",
       " (5956, 154.38693237304688),\n",
       " (1757, 154.43190002441406),\n",
       " (3876, 154.45643615722656),\n",
       " (3581, 154.46511840820312),\n",
       " (4078, 154.51248168945312),\n",
       " (7307, 154.59295654296875),\n",
       " (3793, 154.6326141357422),\n",
       " (2265, 154.65158081054688),\n",
       " (7167, 154.65528869628906),\n",
       " (780, 154.65904235839844),\n",
       " (6597, 154.66281127929688),\n",
       " (4494, 154.69044494628906),\n",
       " (4969, 154.720947265625),\n",
       " (4393, 154.80172729492188)]"
      ]
     },
     "execution_count": 11,
     "metadata": {},
     "output_type": "execute_result"
    }
   ],
   "source": [
    "one_in_many.to_list()"
   ]
  },
  {
   "cell_type": "markdown",
   "metadata": {},
   "source": [
    "# Comparison with Scipy Spatial Distance"
   ]
  },
  {
   "cell_type": "code",
   "execution_count": 12,
   "metadata": {},
   "outputs": [],
   "source": [
    "# Another example to compare with scipy spatial.distance\n",
    "# Example vectors\n",
    "vector1 = np.random.uniform(2,3,size=[10,5])\n",
    "vector2 =np.array([np.random.uniform(2,3,size=5)])"
   ]
  },
  {
   "cell_type": "code",
   "execution_count": 13,
   "metadata": {},
   "outputs": [],
   "source": [
    "result: BatchMatches = search(vector1, vector2, 10, MetricKind.L2sq, exact=True)"
   ]
  },
  {
   "cell_type": "code",
   "execution_count": 35,
   "metadata": {},
   "outputs": [],
   "source": [
    "# get the indeces for ordering the pairwise distances\n",
    "ind = np.array(result.to_list())[:,0].astype('int64')"
   ]
  },
  {
   "cell_type": "code",
   "execution_count": 44,
   "metadata": {},
   "outputs": [
    {
     "data": {
      "text/plain": [
       "array([0, 1, 2, 3, 4, 5, 6, 7, 8, 9])"
      ]
     },
     "execution_count": 44,
     "metadata": {},
     "output_type": "execute_result"
    }
   ],
   "source": [
    "np.sort(ind)"
   ]
  },
  {
   "cell_type": "code",
   "execution_count": 15,
   "metadata": {},
   "outputs": [],
   "source": [
    "d = result.distances"
   ]
  },
  {
   "cell_type": "code",
   "execution_count": 47,
   "metadata": {},
   "outputs": [
    {
     "data": {
      "text/plain": [
       "array([1.2775285 , 0.6731909 , 0.61250603, 1.0589464 , 0.5932575 ,\n",
       "       0.94723815, 0.7952991 , 0.21066497, 0.96343386, 0.587761  ],\n",
       "      dtype=float32)"
      ]
     },
     "execution_count": 47,
     "metadata": {},
     "output_type": "execute_result"
    }
   ],
   "source": [
    "np.sqrt(d)[np.argsort(ind)]"
   ]
  },
  {
   "cell_type": "code",
   "execution_count": 37,
   "metadata": {},
   "outputs": [
    {
     "name": "stdout",
     "output_type": "stream",
     "text": [
      "Pairwise distances:\n",
      "[[1.27752856]\n",
      " [0.67319091]\n",
      " [0.61250603]\n",
      " [1.0589464 ]\n",
      " [0.59325747]\n",
      " [0.94723814]\n",
      " [0.79529909]\n",
      " [0.21066497]\n",
      " [0.96343388]\n",
      " [0.58776098]]\n"
     ]
    }
   ],
   "source": [
    "# Compute pairwise distances using Euclidean distance metric\n",
    "pairwise_distances = cdist(vector1, vector2, metric='euclidean')\n",
    "\n",
    "print(\"Pairwise distances:\")\n",
    "print(pairwise_distances)"
   ]
  },
  {
   "cell_type": "code",
   "execution_count": 16,
   "metadata": {},
   "outputs": [
    {
     "data": {
      "text/plain": [
       "(10, 1)"
      ]
     },
     "execution_count": 16,
     "metadata": {},
     "output_type": "execute_result"
    }
   ],
   "source": [
    "pairwise_distances.shape"
   ]
  },
  {
   "cell_type": "markdown",
   "metadata": {},
   "source": [
    "# FAISS is dangerous\n",
    "\n",
    "...and slower than USearch."
   ]
  },
  {
   "cell_type": "code",
   "execution_count": 51,
   "metadata": {},
   "outputs": [],
   "source": [
    "import faiss"
   ]
  },
  {
   "cell_type": "code",
   "execution_count": 54,
   "metadata": {},
   "outputs": [
    {
     "name": "stdout",
     "output_type": "stream",
     "text": [
      "Pairwise distances:\n",
      "[  0.      147.81537 149.88068 ... 188.24158 188.37915 188.89383]\n"
     ]
    }
   ],
   "source": [
    "# Concatenate the vectors into a single array\n",
    "all_vectors = np.concatenate((vectors, vector.reshape(1,-1)), axis=0)\n",
    "\n",
    "# Initialize Faiss index\n",
    "d = all_vectors.shape[1]  # Dimension of vectors\n",
    "index = faiss.IndexFlatL2(d)  # L2 distance (Euclidean distance)\n",
    "\n",
    "# Add vectors to the index\n",
    "index.add(all_vectors)\n",
    "\n",
    "# Query for the nearest neighbors (in this case, excluding the vector itself)\n",
    "k = all_vectors.shape[0] - 1  # Return distances to all other vectors\n",
    "D, I = index.search(all_vectors, k)\n",
    "\n",
    "# The first row of D corresponds to distances from vector1 to all vectors,\n",
    "# and the second row corresponds to distances from vector2 to all vectors\n",
    "pairwise_distances = D[1]\n",
    "\n",
    "print(\"Pairwise distances:\")\n",
    "print(pairwise_distances)"
   ]
  },
  {
   "cell_type": "code",
   "execution_count": 52,
   "metadata": {},
   "outputs": [
    {
     "name": "stdout",
     "output_type": "stream",
     "text": [
      "Pairwise distances:\n",
      "[0.         0.29514208 0.30921572 0.32049134 0.32110634 0.45318595\n",
      " 0.69156986 0.7355278  0.94303757 1.1888701 ]\n"
     ]
    }
   ],
   "source": [
    "# Concatenate the vectors into a single array\n",
    "all_vectors = np.concatenate((vector1, vector2), axis=0)\n",
    "\n",
    "# Initialize Faiss index\n",
    "d = all_vectors.shape[1]  # Dimension of vectors\n",
    "index = faiss.IndexFlatL2(d)  # L2 distance (Euclidean distance)\n",
    "\n",
    "# Add vectors to the index\n",
    "index.add(all_vectors)\n",
    "\n",
    "# Query for the nearest neighbors (in this case, excluding the vector itself)\n",
    "k = all_vectors.shape[0] - 1  # Return distances to all other vectors\n",
    "D, I = index.search(all_vectors, k)\n",
    "\n",
    "# The first row of D corresponds to distances from vector1 to all vectors,\n",
    "# and the second row corresponds to distances from vector2 to all vectors\n",
    "pairwise_distances = D[1]\n",
    "\n",
    "print(\"Pairwise distances:\")\n",
    "print(pairwise_distances)\n"
   ]
  },
  {
   "cell_type": "markdown",
   "metadata": {},
   "source": [
    "# Excuse for FAISS performance\n",
    "\n",
    "https://medium.com/mlearning-ai/why-you-should-be-careful-using-faiss-c44996eda9ee"
   ]
  },
  {
   "cell_type": "code",
   "execution_count": null,
   "metadata": {},
   "outputs": [],
   "source": []
  }
 ],
 "metadata": {
  "kernelspec": {
   "display_name": "venv",
   "language": "python",
   "name": "python3"
  },
  "language_info": {
   "codemirror_mode": {
    "name": "ipython",
    "version": 3
   },
   "file_extension": ".py",
   "mimetype": "text/x-python",
   "name": "python",
   "nbconvert_exporter": "python",
   "pygments_lexer": "ipython3",
   "version": "3.10.12"
  }
 },
 "nbformat": 4,
 "nbformat_minor": 2
}
