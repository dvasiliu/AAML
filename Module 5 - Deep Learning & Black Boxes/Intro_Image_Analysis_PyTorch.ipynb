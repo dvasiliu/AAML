{
  "nbformat": 4,
  "nbformat_minor": 0,
  "metadata": {
    "colab": {
      "provenance": [],
      "gpuType": "V100"
    },
    "kernelspec": {
      "name": "python3",
      "display_name": "Python 3"
    },
    "language_info": {
      "name": "python"
    },
    "accelerator": "GPU"
  },
  "cells": [
    {
      "cell_type": "code",
      "source": [
        "# setup\n",
        "import torch\n",
        "from torch import nn\n",
        "from torch.utils.data import DataLoader\n",
        "from torchvision import datasets\n",
        "from torchvision.transforms import ToTensor\n",
        "import matplotlib.pyplot as plt\n",
        "import numpy as np"
      ],
      "metadata": {
        "id": "kZsXKUVZUmZf"
      },
      "execution_count": 1,
      "outputs": []
    },
    {
      "cell_type": "code",
      "source": [
        "# Download training data from open datasets.\n",
        "training_data = datasets.FashionMNIST(\n",
        "    root=\"data\",\n",
        "    train=True,\n",
        "    download=True,\n",
        "    transform=ToTensor(),\n",
        ")\n",
        "\n",
        "# Download test data from open datasets.\n",
        "test_data = datasets.FashionMNIST(\n",
        "    root=\"data\",\n",
        "    train=False,\n",
        "    download=True,\n",
        "    transform=ToTensor(),\n",
        ")"
      ],
      "metadata": {
        "colab": {
          "base_uri": "https://localhost:8080/"
        },
        "id": "T8ROWbnQUyEE",
        "outputId": "34ed58c4-f549-409d-a3f2-06746b813cf1"
      },
      "execution_count": 2,
      "outputs": [
        {
          "output_type": "stream",
          "name": "stdout",
          "text": [
            "Downloading http://fashion-mnist.s3-website.eu-central-1.amazonaws.com/train-images-idx3-ubyte.gz\n",
            "Downloading http://fashion-mnist.s3-website.eu-central-1.amazonaws.com/train-images-idx3-ubyte.gz to data/FashionMNIST/raw/train-images-idx3-ubyte.gz\n"
          ]
        },
        {
          "output_type": "stream",
          "name": "stderr",
          "text": [
            "100%|██████████| 26421880/26421880 [00:01<00:00, 15182450.42it/s]\n"
          ]
        },
        {
          "output_type": "stream",
          "name": "stdout",
          "text": [
            "Extracting data/FashionMNIST/raw/train-images-idx3-ubyte.gz to data/FashionMNIST/raw\n",
            "\n",
            "Downloading http://fashion-mnist.s3-website.eu-central-1.amazonaws.com/train-labels-idx1-ubyte.gz\n",
            "Downloading http://fashion-mnist.s3-website.eu-central-1.amazonaws.com/train-labels-idx1-ubyte.gz to data/FashionMNIST/raw/train-labels-idx1-ubyte.gz\n"
          ]
        },
        {
          "output_type": "stream",
          "name": "stderr",
          "text": [
            "100%|██████████| 29515/29515 [00:00<00:00, 266828.07it/s]\n"
          ]
        },
        {
          "output_type": "stream",
          "name": "stdout",
          "text": [
            "Extracting data/FashionMNIST/raw/train-labels-idx1-ubyte.gz to data/FashionMNIST/raw\n",
            "\n",
            "Downloading http://fashion-mnist.s3-website.eu-central-1.amazonaws.com/t10k-images-idx3-ubyte.gz\n",
            "Downloading http://fashion-mnist.s3-website.eu-central-1.amazonaws.com/t10k-images-idx3-ubyte.gz to data/FashionMNIST/raw/t10k-images-idx3-ubyte.gz\n"
          ]
        },
        {
          "output_type": "stream",
          "name": "stderr",
          "text": [
            "100%|██████████| 4422102/4422102 [00:00<00:00, 4921453.72it/s]\n"
          ]
        },
        {
          "output_type": "stream",
          "name": "stdout",
          "text": [
            "Extracting data/FashionMNIST/raw/t10k-images-idx3-ubyte.gz to data/FashionMNIST/raw\n",
            "\n",
            "Downloading http://fashion-mnist.s3-website.eu-central-1.amazonaws.com/t10k-labels-idx1-ubyte.gz\n",
            "Downloading http://fashion-mnist.s3-website.eu-central-1.amazonaws.com/t10k-labels-idx1-ubyte.gz to data/FashionMNIST/raw/t10k-labels-idx1-ubyte.gz\n"
          ]
        },
        {
          "output_type": "stream",
          "name": "stderr",
          "text": [
            "100%|██████████| 5148/5148 [00:00<00:00, 19210210.85it/s]"
          ]
        },
        {
          "output_type": "stream",
          "name": "stdout",
          "text": [
            "Extracting data/FashionMNIST/raw/t10k-labels-idx1-ubyte.gz to data/FashionMNIST/raw\n",
            "\n"
          ]
        },
        {
          "output_type": "stream",
          "name": "stderr",
          "text": [
            "\n"
          ]
        }
      ]
    },
    {
      "cell_type": "code",
      "source": [
        "batch_size = 50\n",
        "\n",
        "# Create data loaders.\n",
        "train_dataloader = DataLoader(training_data, batch_size=batch_size)\n",
        "test_dataloader = DataLoader(test_data, batch_size=batch_size)\n",
        "\n",
        "for X, y in train_dataloader:\n",
        "    print(f\"Shape of X [N, C, H, W]: {X.shape}\")\n",
        "    print(f\"Shape of y: {y.shape} {y.dtype}\")\n",
        "    break"
      ],
      "metadata": {
        "colab": {
          "base_uri": "https://localhost:8080/"
        },
        "id": "OHskBAKOVNYJ",
        "outputId": "f2bdce21-c626-446b-9f8e-2f04178b9582"
      },
      "execution_count": 17,
      "outputs": [
        {
          "output_type": "stream",
          "name": "stdout",
          "text": [
            "Shape of X [N, C, H, W]: torch.Size([50, 1, 28, 28])\n",
            "Shape of y: torch.Size([50]) torch.int64\n"
          ]
        }
      ]
    },
    {
      "cell_type": "code",
      "source": [
        "plt.imshow(X[49,0,:],cmap='gray')\n",
        "plt.show()"
      ],
      "metadata": {
        "colab": {
          "base_uri": "https://localhost:8080/",
          "height": 430
        },
        "id": "FGvqfT7wVRNl",
        "outputId": "bb414097-d33d-401a-87c8-b60a6e74b6a8"
      },
      "execution_count": 6,
      "outputs": [
        {
          "output_type": "display_data",
          "data": {
            "text/plain": [
              "<Figure size 640x480 with 1 Axes>"
            ],
            "image/png": "[encoded data removed]"
          },
          "metadata": {}
        }
      ]
    },
    {
      "cell_type": "code",
      "source": [
        "# Get gpu, mps or cpu device for training.\n",
        "device = (\n",
        "    \"cuda\"\n",
        "    if torch.cuda.is_available()\n",
        "    else \"mps\"\n",
        "    if torch.backends.mps.is_available()\n",
        "    else \"cpu\"\n",
        ")\n",
        "print(f\"Using {device} device\")"
      ],
      "metadata": {
        "colab": {
          "base_uri": "https://localhost:8080/"
        },
        "id": "U0rUpKWhW5UI",
        "outputId": "fbcf81ff-ee67-41d3-e95e-a0586e11f16c"
      },
      "execution_count": 7,
      "outputs": [
        {
          "output_type": "stream",
          "name": "stdout",
          "text": [
            "Using cuda device\n"
          ]
        }
      ]
    },
    {
      "cell_type": "code",
      "source": [
        "# Define model\n",
        "class NeuralNetwork(nn.Module):\n",
        "    def __init__(self):\n",
        "        super().__init__()\n",
        "        self.flatten = nn.Flatten()\n",
        "        self.linear_relu_stack = nn.Sequential(\n",
        "            nn.Linear(28*28, 256),\n",
        "            nn.ReLU(),\n",
        "            nn.Linear(256, 512),\n",
        "            nn.ReLU(),\n",
        "            nn.Linear(512, 10) # output\n",
        "        )\n",
        "\n",
        "    def forward(self, x):\n",
        "        x = self.flatten(x)\n",
        "        logits = self.linear_relu_stack(x)\n",
        "        return logits\n",
        "\n",
        "model = NeuralNetwork().to(device)\n",
        "print(model)"
      ],
      "metadata": {
        "colab": {
          "base_uri": "https://localhost:8080/"
        },
        "id": "atfuL7GYXMBi",
        "outputId": "79e48ad4-60b7-4772-96dc-5648b7df2a7c"
      },
      "execution_count": 20,
      "outputs": [
        {
          "output_type": "stream",
          "name": "stdout",
          "text": [
            "NeuralNetwork(\n",
            "  (flatten): Flatten(start_dim=1, end_dim=-1)\n",
            "  (linear_relu_stack): Sequential(\n",
            "    (0): Linear(in_features=784, out_features=256, bias=True)\n",
            "    (1): ReLU()\n",
            "    (2): Linear(in_features=256, out_features=512, bias=True)\n",
            "    (3): ReLU()\n",
            "    (4): Linear(in_features=512, out_features=10, bias=True)\n",
            "  )\n",
            ")\n"
          ]
        }
      ]
    },
    {
      "cell_type": "code",
      "source": [
        "loss_fn = nn.CrossEntropyLoss()\n",
        "optimizer = torch.optim.Adam(model.parameters(), lr=1e-3)"
      ],
      "metadata": {
        "id": "GuTKJgQlXWQY"
      },
      "execution_count": 22,
      "outputs": []
    },
    {
      "cell_type": "code",
      "source": [
        "def train(dataloader, model, loss_fn, optimizer):\n",
        "    size = len(dataloader.dataset)\n",
        "    model.train()\n",
        "    for batch, (X, y) in enumerate(dataloader):\n",
        "        X, y = X.to(device), y.to(device)\n",
        "\n",
        "        # Compute prediction error\n",
        "        pred = model(X)\n",
        "        loss = loss_fn(pred, y)\n",
        "\n",
        "        # Backpropagation\n",
        "        loss.backward()\n",
        "        optimizer.step()\n",
        "        optimizer.zero_grad()\n",
        "\n",
        "        if batch % 50 == 0:\n",
        "            loss, current = loss.item(), (batch + 1) * len(X)\n",
        "            print(f\"loss: {loss:>7f}  [{current:>5d}/{size:>5d}]\")"
      ],
      "metadata": {
        "id": "CXLF8z29X8yK"
      },
      "execution_count": 11,
      "outputs": []
    },
    {
      "cell_type": "code",
      "source": [
        "def test(dataloader, model, loss_fn):\n",
        "    size = len(dataloader.dataset)\n",
        "    num_batches = len(dataloader)\n",
        "    model.eval()\n",
        "    test_loss, correct = 0, 0\n",
        "    with torch.no_grad():\n",
        "        for X, y in dataloader:\n",
        "            X, y = X.to(device), y.to(device)\n",
        "            pred = model(X)\n",
        "            test_loss += loss_fn(pred, y).item()\n",
        "            correct += (pred.argmax(1) == y).type(torch.float).sum().item()\n",
        "    test_loss /= num_batches\n",
        "    correct /= size\n",
        "    print(f\"Test Error: \\n Accuracy: {(100*correct):>0.1f}%, Avg loss: {test_loss:>8f} \\n\")"
      ],
      "metadata": {
        "id": "KIukze-YYYlQ"
      },
      "execution_count": 23,
      "outputs": []
    },
    {
      "cell_type": "code",
      "source": [
        "epochs = 10\n",
        "for t in range(epochs):\n",
        "    print(f\"Epoch {t+1}\\n-------------------------------\")\n",
        "    train(train_dataloader, model, loss_fn, optimizer)\n",
        "    test(test_dataloader, model, loss_fn)\n",
        "print(\"Done!\")"
      ],
      "metadata": {
        "colab": {
          "base_uri": "https://localhost:8080/"
        },
        "id": "zo1QcIkaYfLW",
        "outputId": "e39cd069-fd27-4e86-eef2-26f39cda410e"
      },
      "execution_count": 24,
      "outputs": [
        {
          "output_type": "stream",
          "name": "stdout",
          "text": [
            "Epoch 1\n",
            "-------------------------------\n",
            "loss: 2.307431  [   50/60000]\n",
            "loss: 0.633413  [ 2550/60000]\n",
            "loss: 0.635809  [ 5050/60000]\n",
            "loss: 0.635738  [ 7550/60000]\n",
            "loss: 0.377924  [10050/60000]\n",
            "loss: 0.415006  [12550/60000]\n",
            "loss: 0.385461  [15050/60000]\n",
            "loss: 0.564175  [17550/60000]\n",
            "loss: 0.340149  [20050/60000]\n",
            "loss: 0.650720  [22550/60000]\n",
            "loss: 0.209208  [25050/60000]\n",
            "loss: 0.290588  [27550/60000]\n",
            "loss: 0.396563  [30050/60000]\n",
            "loss: 0.223669  [32550/60000]\n",
            "loss: 0.321312  [35050/60000]\n",
            "loss: 0.325384  [37550/60000]\n",
            "loss: 0.593502  [40050/60000]\n",
            "loss: 0.444064  [42550/60000]\n",
            "loss: 0.481641  [45050/60000]\n",
            "loss: 0.679561  [47550/60000]\n",
            "loss: 0.788468  [50050/60000]\n",
            "loss: 0.591783  [52550/60000]\n",
            "loss: 0.548165  [55050/60000]\n",
            "loss: 0.265632  [57550/60000]\n",
            "Test Error: \n",
            " Accuracy: 85.3%, Avg loss: 0.408501 \n",
            "\n",
            "Epoch 2\n",
            "-------------------------------\n",
            "loss: 0.220536  [   50/60000]\n",
            "loss: 0.292879  [ 2550/60000]\n",
            "loss: 0.394427  [ 5050/60000]\n",
            "loss: 0.435228  [ 7550/60000]\n",
            "loss: 0.272008  [10050/60000]\n",
            "loss: 0.212055  [12550/60000]\n",
            "loss: 0.239402  [15050/60000]\n",
            "loss: 0.513745  [17550/60000]\n",
            "loss: 0.258814  [20050/60000]\n",
            "loss: 0.504591  [22550/60000]\n",
            "loss: 0.172834  [25050/60000]\n",
            "loss: 0.222048  [27550/60000]\n",
            "loss: 0.243747  [30050/60000]\n",
            "loss: 0.199197  [32550/60000]\n",
            "loss: 0.254445  [35050/60000]\n",
            "loss: 0.272644  [37550/60000]\n",
            "loss: 0.598184  [40050/60000]\n",
            "loss: 0.339745  [42550/60000]\n",
            "loss: 0.363195  [45050/60000]\n",
            "loss: 0.617778  [47550/60000]\n",
            "loss: 0.589037  [50050/60000]\n",
            "loss: 0.479991  [52550/60000]\n",
            "loss: 0.475165  [55050/60000]\n",
            "loss: 0.232029  [57550/60000]\n",
            "Test Error: \n",
            " Accuracy: 86.5%, Avg loss: 0.375145 \n",
            "\n",
            "Epoch 3\n",
            "-------------------------------\n",
            "loss: 0.196077  [   50/60000]\n",
            "loss: 0.274531  [ 2550/60000]\n",
            "loss: 0.375184  [ 5050/60000]\n",
            "loss: 0.361077  [ 7550/60000]\n",
            "loss: 0.248241  [10050/60000]\n",
            "loss: 0.149552  [12550/60000]\n",
            "loss: 0.195513  [15050/60000]\n",
            "loss: 0.485682  [17550/60000]\n",
            "loss: 0.262246  [20050/60000]\n",
            "loss: 0.439333  [22550/60000]\n",
            "loss: 0.166769  [25050/60000]\n",
            "loss: 0.192533  [27550/60000]\n",
            "loss: 0.202434  [30050/60000]\n",
            "loss: 0.167746  [32550/60000]\n",
            "loss: 0.247566  [35050/60000]\n",
            "loss: 0.222958  [37550/60000]\n",
            "loss: 0.615050  [40050/60000]\n",
            "loss: 0.297425  [42550/60000]\n",
            "loss: 0.315331  [45050/60000]\n",
            "loss: 0.575435  [47550/60000]\n",
            "loss: 0.509167  [50050/60000]\n",
            "loss: 0.416480  [52550/60000]\n",
            "loss: 0.391386  [55050/60000]\n",
            "loss: 0.236972  [57550/60000]\n",
            "Test Error: \n",
            " Accuracy: 86.5%, Avg loss: 0.365046 \n",
            "\n",
            "Epoch 4\n",
            "-------------------------------\n",
            "loss: 0.180792  [   50/60000]\n",
            "loss: 0.230712  [ 2550/60000]\n",
            "loss: 0.339296  [ 5050/60000]\n",
            "loss: 0.299838  [ 7550/60000]\n",
            "loss: 0.218445  [10050/60000]\n",
            "loss: 0.124296  [12550/60000]\n",
            "loss: 0.162071  [15050/60000]\n",
            "loss: 0.468311  [17550/60000]\n",
            "loss: 0.225379  [20050/60000]\n",
            "loss: 0.351680  [22550/60000]\n",
            "loss: 0.155386  [25050/60000]\n",
            "loss: 0.152548  [27550/60000]\n",
            "loss: 0.190253  [30050/60000]\n",
            "loss: 0.149891  [32550/60000]\n",
            "loss: 0.263987  [35050/60000]\n",
            "loss: 0.199605  [37550/60000]\n",
            "loss: 0.629469  [40050/60000]\n",
            "loss: 0.282772  [42550/60000]\n",
            "loss: 0.312772  [45050/60000]\n",
            "loss: 0.523951  [47550/60000]\n",
            "loss: 0.475165  [50050/60000]\n",
            "loss: 0.347043  [52550/60000]\n",
            "loss: 0.355200  [55050/60000]\n",
            "loss: 0.239442  [57550/60000]\n",
            "Test Error: \n",
            " Accuracy: 87.0%, Avg loss: 0.363934 \n",
            "\n",
            "Epoch 5\n",
            "-------------------------------\n",
            "loss: 0.149758  [   50/60000]\n",
            "loss: 0.217821  [ 2550/60000]\n",
            "loss: 0.307069  [ 5050/60000]\n",
            "loss: 0.293926  [ 7550/60000]\n",
            "loss: 0.179551  [10050/60000]\n",
            "loss: 0.113934  [12550/60000]\n",
            "loss: 0.167166  [15050/60000]\n",
            "loss: 0.409910  [17550/60000]\n",
            "loss: 0.213721  [20050/60000]\n",
            "loss: 0.262422  [22550/60000]\n",
            "loss: 0.125027  [25050/60000]\n",
            "loss: 0.153370  [27550/60000]\n",
            "loss: 0.159075  [30050/60000]\n",
            "loss: 0.102886  [32550/60000]\n",
            "loss: 0.283751  [35050/60000]\n",
            "loss: 0.166066  [37550/60000]\n",
            "loss: 0.581001  [40050/60000]\n",
            "loss: 0.262480  [42550/60000]\n",
            "loss: 0.272895  [45050/60000]\n",
            "loss: 0.497047  [47550/60000]\n",
            "loss: 0.434706  [50050/60000]\n",
            "loss: 0.344487  [52550/60000]\n",
            "loss: 0.320134  [55050/60000]\n",
            "loss: 0.198842  [57550/60000]\n",
            "Test Error: \n",
            " Accuracy: 86.7%, Avg loss: 0.368725 \n",
            "\n",
            "Epoch 6\n",
            "-------------------------------\n",
            "loss: 0.184117  [   50/60000]\n",
            "loss: 0.206135  [ 2550/60000]\n",
            "loss: 0.277138  [ 5050/60000]\n",
            "loss: 0.274760  [ 7550/60000]\n",
            "loss: 0.179445  [10050/60000]\n",
            "loss: 0.111761  [12550/60000]\n",
            "loss: 0.169515  [15050/60000]\n",
            "loss: 0.365456  [17550/60000]\n",
            "loss: 0.206898  [20050/60000]\n",
            "loss: 0.221652  [22550/60000]\n",
            "loss: 0.108018  [25050/60000]\n",
            "loss: 0.168147  [27550/60000]\n",
            "loss: 0.158490  [30050/60000]\n",
            "loss: 0.111545  [32550/60000]\n",
            "loss: 0.317589  [35050/60000]\n",
            "loss: 0.144965  [37550/60000]\n",
            "loss: 0.548639  [40050/60000]\n",
            "loss: 0.215371  [42550/60000]\n",
            "loss: 0.275351  [45050/60000]\n",
            "loss: 0.490842  [47550/60000]\n",
            "loss: 0.411640  [50050/60000]\n",
            "loss: 0.268848  [52550/60000]\n",
            "loss: 0.323683  [55050/60000]\n",
            "loss: 0.212646  [57550/60000]\n",
            "Test Error: \n",
            " Accuracy: 87.1%, Avg loss: 0.361663 \n",
            "\n",
            "Epoch 7\n",
            "-------------------------------\n",
            "loss: 0.151772  [   50/60000]\n",
            "loss: 0.198904  [ 2550/60000]\n",
            "loss: 0.289468  [ 5050/60000]\n",
            "loss: 0.248639  [ 7550/60000]\n",
            "loss: 0.260091  [10050/60000]\n",
            "loss: 0.069874  [12550/60000]\n",
            "loss: 0.165056  [15050/60000]\n",
            "loss: 0.311645  [17550/60000]\n",
            "loss: 0.194325  [20050/60000]\n",
            "loss: 0.261802  [22550/60000]\n",
            "loss: 0.083990  [25050/60000]\n",
            "loss: 0.193908  [27550/60000]\n",
            "loss: 0.168314  [30050/60000]\n",
            "loss: 0.085454  [32550/60000]\n",
            "loss: 0.269903  [35050/60000]\n",
            "loss: 0.162237  [37550/60000]\n",
            "loss: 0.534289  [40050/60000]\n",
            "loss: 0.223608  [42550/60000]\n",
            "loss: 0.246923  [45050/60000]\n",
            "loss: 0.422403  [47550/60000]\n",
            "loss: 0.358303  [50050/60000]\n",
            "loss: 0.194572  [52550/60000]\n",
            "loss: 0.284061  [55050/60000]\n",
            "loss: 0.180902  [57550/60000]\n",
            "Test Error: \n",
            " Accuracy: 87.1%, Avg loss: 0.363754 \n",
            "\n",
            "Epoch 8\n",
            "-------------------------------\n",
            "loss: 0.135050  [   50/60000]\n",
            "loss: 0.159060  [ 2550/60000]\n",
            "loss: 0.290785  [ 5050/60000]\n",
            "loss: 0.192862  [ 7550/60000]\n",
            "loss: 0.191091  [10050/60000]\n",
            "loss: 0.068730  [12550/60000]\n",
            "loss: 0.139057  [15050/60000]\n",
            "loss: 0.250599  [17550/60000]\n",
            "loss: 0.217993  [20050/60000]\n",
            "loss: 0.213260  [22550/60000]\n",
            "loss: 0.102787  [25050/60000]\n",
            "loss: 0.129575  [27550/60000]\n",
            "loss: 0.146081  [30050/60000]\n",
            "loss: 0.089863  [32550/60000]\n",
            "loss: 0.283239  [35050/60000]\n",
            "loss: 0.159037  [37550/60000]\n",
            "loss: 0.549138  [40050/60000]\n",
            "loss: 0.213686  [42550/60000]\n",
            "loss: 0.260050  [45050/60000]\n",
            "loss: 0.420389  [47550/60000]\n",
            "loss: 0.368534  [50050/60000]\n",
            "loss: 0.207622  [52550/60000]\n",
            "loss: 0.273769  [55050/60000]\n",
            "loss: 0.217761  [57550/60000]\n",
            "Test Error: \n",
            " Accuracy: 86.7%, Avg loss: 0.391670 \n",
            "\n",
            "Epoch 9\n",
            "-------------------------------\n",
            "loss: 0.118989  [   50/60000]\n",
            "loss: 0.199684  [ 2550/60000]\n",
            "loss: 0.236001  [ 5050/60000]\n",
            "loss: 0.192732  [ 7550/60000]\n",
            "loss: 0.178517  [10050/60000]\n",
            "loss: 0.077430  [12550/60000]\n",
            "loss: 0.138413  [15050/60000]\n",
            "loss: 0.221248  [17550/60000]\n",
            "loss: 0.206045  [20050/60000]\n",
            "loss: 0.197960  [22550/60000]\n",
            "loss: 0.091379  [25050/60000]\n",
            "loss: 0.134584  [27550/60000]\n",
            "loss: 0.111871  [30050/60000]\n",
            "loss: 0.070365  [32550/60000]\n",
            "loss: 0.283358  [35050/60000]\n",
            "loss: 0.107060  [37550/60000]\n",
            "loss: 0.543094  [40050/60000]\n",
            "loss: 0.208710  [42550/60000]\n",
            "loss: 0.229161  [45050/60000]\n",
            "loss: 0.399841  [47550/60000]\n",
            "loss: 0.422782  [50050/60000]\n",
            "loss: 0.128828  [52550/60000]\n",
            "loss: 0.246592  [55050/60000]\n",
            "loss: 0.203874  [57550/60000]\n",
            "Test Error: \n",
            " Accuracy: 87.2%, Avg loss: 0.384053 \n",
            "\n",
            "Epoch 10\n",
            "-------------------------------\n",
            "loss: 0.121055  [   50/60000]\n",
            "loss: 0.178216  [ 2550/60000]\n",
            "loss: 0.209092  [ 5050/60000]\n",
            "loss: 0.164539  [ 7550/60000]\n",
            "loss: 0.172462  [10050/60000]\n",
            "loss: 0.069565  [12550/60000]\n",
            "loss: 0.116173  [15050/60000]\n",
            "loss: 0.188171  [17550/60000]\n",
            "loss: 0.144523  [20050/60000]\n",
            "loss: 0.159805  [22550/60000]\n",
            "loss: 0.083291  [25050/60000]\n",
            "loss: 0.105195  [27550/60000]\n",
            "loss: 0.114500  [30050/60000]\n",
            "loss: 0.067496  [32550/60000]\n",
            "loss: 0.285956  [35050/60000]\n",
            "loss: 0.193896  [37550/60000]\n",
            "loss: 0.463348  [40050/60000]\n",
            "loss: 0.210940  [42550/60000]\n",
            "loss: 0.224112  [45050/60000]\n",
            "loss: 0.376086  [47550/60000]\n",
            "loss: 0.383407  [50050/60000]\n",
            "loss: 0.155163  [52550/60000]\n",
            "loss: 0.269264  [55050/60000]\n",
            "loss: 0.168342  [57550/60000]\n",
            "Test Error: \n",
            " Accuracy: 87.3%, Avg loss: 0.388269 \n",
            "\n",
            "Done!\n"
          ]
        }
      ]
    },
    {
      "cell_type": "code",
      "source": [
        "torch.save(model.state_dict(), \"model.pth\")\n",
        "print(\"Saved PyTorch Model State to model.pth\")"
      ],
      "metadata": {
        "colab": {
          "base_uri": "https://localhost:8080/"
        },
        "id": "izyIsaCiZhyG",
        "outputId": "314fba42-9dc0-44be-c0e9-6ed1f408bbc4"
      },
      "execution_count": 25,
      "outputs": [
        {
          "output_type": "stream",
          "name": "stdout",
          "text": [
            "Saved PyTorch Model State to model.pth\n"
          ]
        }
      ]
    },
    {
      "cell_type": "code",
      "source": [
        "# how to load a saved model\n",
        "model = NeuralNetwork().to(device)\n",
        "model.load_state_dict(torch.load(\"model.pth\"))"
      ],
      "metadata": {
        "colab": {
          "base_uri": "https://localhost:8080/"
        },
        "id": "ChvdgQvjZT9V",
        "outputId": "3db39d79-d218-4e79-8ac6-5d739a287f49"
      },
      "execution_count": 26,
      "outputs": [
        {
          "output_type": "execute_result",
          "data": {
            "text/plain": [
              "<All keys matched successfully>"
            ]
          },
          "metadata": {},
          "execution_count": 26
        }
      ]
    },
    {
      "cell_type": "code",
      "source": [
        "classes = [\n",
        "    \"T-shirt/top\",\n",
        "    \"Trouser\",\n",
        "    \"Pullover\",\n",
        "    \"Dress\",\n",
        "    \"Coat\",\n",
        "    \"Sandal\",\n",
        "    \"Shirt\",\n",
        "    \"Sneaker\",\n",
        "    \"Bag\",\n",
        "    \"Ankle boot\",\n",
        "]\n",
        "\n",
        "model.eval()\n",
        "i=2\n",
        "x, y = test_data[i][0], test_data[i][1]\n",
        "with torch.no_grad():\n",
        "    x = x.to(device)\n",
        "    pred = model(x)\n",
        "    predicted, actual = classes[pred[0].argmax(0)], classes[y]\n",
        "    print(f'Predicted: \"{predicted}\", Actual: \"{actual}\"')"
      ],
      "metadata": {
        "colab": {
          "base_uri": "https://localhost:8080/"
        },
        "id": "7T4-T7sXZU1w",
        "outputId": "5d573d17-38c6-442f-f54c-4d37c129fc41"
      },
      "execution_count": 27,
      "outputs": [
        {
          "output_type": "stream",
          "name": "stdout",
          "text": [
            "Predicted: \"Trouser\", Actual: \"Trouser\"\n"
          ]
        }
      ]
    },
    {
      "cell_type": "code",
      "source": [],
      "metadata": {
        "colab": {
          "base_uri": "https://localhost:8080/"
        },
        "id": "y9y9NdbbZ1n6",
        "outputId": "6f829452-ba77-4016-cd3f-1103eaafe399"
      },
      "execution_count": 28,
      "outputs": [
        {
          "output_type": "execute_result",
          "data": {
            "text/plain": [
              "784"
            ]
          },
          "metadata": {},
          "execution_count": 28
        }
      ]
    },
    {
      "cell_type": "code",
      "source": [],
      "metadata": {
        "id": "ogoubhqZgUVi"
      },
      "execution_count": null,
      "outputs": []
    }
  ]
}