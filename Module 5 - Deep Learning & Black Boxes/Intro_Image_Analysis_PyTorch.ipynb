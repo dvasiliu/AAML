{
  "cells": [
    {
      "cell_type": "code",
      "execution_count": 1,
      "metadata": {
        "id": "kZsXKUVZUmZf"
      },
      "outputs": [],
      "source": [
        "# setup\n",
        "import torch\n",
        "from torch import nn\n",
        "from torch.utils.data import DataLoader\n",
        "from torchvision import datasets\n",
        "from torchvision.transforms import ToTensor\n",
        "import matplotlib.pyplot as plt\n",
        "import numpy as np"
      ]
    },
    {
      "cell_type": "markdown",
      "metadata": {},
      "source": [
        "# Step I: Data Loading"
      ]
    },
    {
      "cell_type": "code",
      "execution_count": 3,
      "metadata": {
        "colab": {
          "base_uri": "https://localhost:8080/"
        },
        "id": "T8ROWbnQUyEE",
        "outputId": "34ed58c4-f549-409d-a3f2-06746b813cf1"
      },
      "outputs": [
        {
          "name": "stdout",
          "output_type": "stream",
          "text": [
            "Downloading http://fashion-mnist.s3-website.eu-central-1.amazonaws.com/train-images-idx3-ubyte.gz\n",
            "Downloading http://fashion-mnist.s3-website.eu-central-1.amazonaws.com/train-images-idx3-ubyte.gz to data/FashionMNIST/raw/train-images-idx3-ubyte.gz\n"
          ]
        },
        {
          "name": "stderr",
          "output_type": "stream",
          "text": [
            "100%|██████████| 26421880/26421880 [00:05<00:00, 4826160.97it/s]\n"
          ]
        },
        {
          "name": "stdout",
          "output_type": "stream",
          "text": [
            "Extracting data/FashionMNIST/raw/train-images-idx3-ubyte.gz to data/FashionMNIST/raw\n",
            "\n",
            "Downloading http://fashion-mnist.s3-website.eu-central-1.amazonaws.com/train-labels-idx1-ubyte.gz\n",
            "Downloading http://fashion-mnist.s3-website.eu-central-1.amazonaws.com/train-labels-idx1-ubyte.gz to data/FashionMNIST/raw/train-labels-idx1-ubyte.gz\n"
          ]
        },
        {
          "name": "stderr",
          "output_type": "stream",
          "text": [
            "100%|██████████| 29515/29515 [00:00<00:00, 167239.98it/s]\n"
          ]
        },
        {
          "name": "stdout",
          "output_type": "stream",
          "text": [
            "Extracting data/FashionMNIST/raw/train-labels-idx1-ubyte.gz to data/FashionMNIST/raw\n",
            "\n",
            "Downloading http://fashion-mnist.s3-website.eu-central-1.amazonaws.com/t10k-images-idx3-ubyte.gz\n",
            "Downloading http://fashion-mnist.s3-website.eu-central-1.amazonaws.com/t10k-images-idx3-ubyte.gz to data/FashionMNIST/raw/t10k-images-idx3-ubyte.gz\n"
          ]
        },
        {
          "name": "stderr",
          "output_type": "stream",
          "text": [
            "100%|██████████| 4422102/4422102 [00:00<00:00, 5186663.99it/s]\n"
          ]
        },
        {
          "name": "stdout",
          "output_type": "stream",
          "text": [
            "Extracting data/FashionMNIST/raw/t10k-images-idx3-ubyte.gz to data/FashionMNIST/raw\n",
            "\n",
            "Downloading http://fashion-mnist.s3-website.eu-central-1.amazonaws.com/t10k-labels-idx1-ubyte.gz\n",
            "Downloading http://fashion-mnist.s3-website.eu-central-1.amazonaws.com/t10k-labels-idx1-ubyte.gz to data/FashionMNIST/raw/t10k-labels-idx1-ubyte.gz\n"
          ]
        },
        {
          "name": "stderr",
          "output_type": "stream",
          "text": [
            "100%|██████████| 5148/5148 [00:00<00:00, 8784490.23it/s]"
          ]
        },
        {
          "name": "stdout",
          "output_type": "stream",
          "text": [
            "Extracting data/FashionMNIST/raw/t10k-labels-idx1-ubyte.gz to data/FashionMNIST/raw\n",
            "\n"
          ]
        },
        {
          "name": "stderr",
          "output_type": "stream",
          "text": [
            "\n"
          ]
        }
      ],
      "source": [
        "# Download training data from open datasets.\n",
        "training_data = datasets.FashionMNIST(\n",
        "    root=\"data\",\n",
        "    train=True,\n",
        "    download=True,\n",
        "    transform=ToTensor(),\n",
        ")\n",
        "\n",
        "# Download test data from open datasets.\n",
        "test_data = datasets.FashionMNIST(\n",
        "    root=\"data\",\n",
        "    train=False,\n",
        "    download=True,\n",
        "    transform=ToTensor(),\n",
        ")"
      ]
    },
    {
      "cell_type": "code",
      "execution_count": 4,
      "metadata": {
        "colab": {
          "base_uri": "https://localhost:8080/"
        },
        "id": "OHskBAKOVNYJ",
        "outputId": "f2bdce21-c626-446b-9f8e-2f04178b9582"
      },
      "outputs": [
        {
          "name": "stdout",
          "output_type": "stream",
          "text": [
            "Shape of X [N, C, H, W]: torch.Size([50, 1, 28, 28])\n",
            "Shape of y: torch.Size([50]) torch.int64\n"
          ]
        }
      ],
      "source": [
        "batch_size = 50\n",
        "\n",
        "# Create data loaders.\n",
        "train_dataloader = DataLoader(training_data, batch_size=batch_size)\n",
        "test_dataloader = DataLoader(test_data, batch_size=batch_size)\n",
        "\n",
        "for X, y in train_dataloader:\n",
        "    print(f\"Shape of X [N, C, H, W]: {X.shape}\")\n",
        "    print(f\"Shape of y: {y.shape} {y.dtype}\")\n",
        "    break"
      ]
    },
    {
      "cell_type": "code",
      "execution_count": 7,
      "metadata": {},
      "outputs": [
        {
          "data": {
            "text/plain": [
              "1200"
            ]
          },
          "execution_count": 7,
          "metadata": {},
          "output_type": "execute_result"
        }
      ],
      "source": [
        "len(train_dataloader)"
      ]
    },
    {
      "cell_type": "code",
      "execution_count": 12,
      "metadata": {
        "colab": {
          "base_uri": "https://localhost:8080/",
          "height": 430
        },
        "id": "FGvqfT7wVRNl",
        "outputId": "bb414097-d33d-401a-87c8-b60a6e74b6a8"
      },
      "outputs": [
        {
          "data": {
            "image/png": "[encoded data removed]",
            "text/plain": [
              "<Figure size 640x480 with 1 Axes>"
            ]
          },
          "metadata": {},
          "output_type": "display_data"
        }
      ],
      "source": [
        "plt.imshow(X[3,0,:],cmap='gray')\n",
        "plt.show()"
      ]
    },
    {
      "cell_type": "code",
      "execution_count": 13,
      "metadata": {
        "colab": {
          "base_uri": "https://localhost:8080/"
        },
        "id": "U0rUpKWhW5UI",
        "outputId": "fbcf81ff-ee67-41d3-e95e-a0586e11f16c"
      },
      "outputs": [
        {
          "name": "stdout",
          "output_type": "stream",
          "text": [
            "Using mps device\n"
          ]
        }
      ],
      "source": [
        "# Get gpu, mps or cpu device for training.\n",
        "device = (\n",
        "    \"cuda\"\n",
        "    if torch.cuda.is_available()\n",
        "    else \"mps\"\n",
        "    if torch.backends.mps.is_available()\n",
        "    else \"cpu\"\n",
        ")\n",
        "print(f\"Using {device} device\")"
      ]
    },
    {
      "cell_type": "code",
      "execution_count": 24,
      "metadata": {
        "colab": {
          "base_uri": "https://localhost:8080/"
        },
        "id": "atfuL7GYXMBi",
        "outputId": "79e48ad4-60b7-4772-96dc-5648b7df2a7c"
      },
      "outputs": [
        {
          "name": "stdout",
          "output_type": "stream",
          "text": [
            "NeuralNetwork(\n",
            "  (flatten): Flatten(start_dim=1, end_dim=-1)\n",
            "  (linear_relu_stack): Sequential(\n",
            "    (0): Linear(in_features=784, out_features=256, bias=True)\n",
            "    (1): ReLU()\n",
            "    (2): Linear(in_features=256, out_features=512, bias=True)\n",
            "    (3): ReLU()\n",
            "    (4): Linear(in_features=512, out_features=400, bias=True)\n",
            "    (5): ReLU()\n",
            "    (6): Linear(in_features=400, out_features=10, bias=True)\n",
            "  )\n",
            ")\n"
          ]
        }
      ],
      "source": [
        "# Define model\n",
        "class NeuralNetwork(nn.Module):\n",
        "    def __init__(self):\n",
        "        super().__init__()\n",
        "        self.flatten = nn.Flatten()\n",
        "        self.linear_relu_stack = nn.Sequential(\n",
        "            nn.Linear(28*28, 256),\n",
        "            nn.ReLU(),\n",
        "            nn.Linear(256, 512),\n",
        "            nn.ReLU(),\n",
        "            nn.Linear(512, 400),\n",
        "            nn.ReLU(),\n",
        "            nn.Linear(400, 10) # output\n",
        "        )\n",
        "\n",
        "    def forward(self, x):\n",
        "        x = self.flatten(x)\n",
        "        logits = self.linear_relu_stack(x)\n",
        "        return logits\n",
        "\n",
        "model = NeuralNetwork().to(device)\n",
        "print(model)"
      ]
    },
    {
      "cell_type": "code",
      "execution_count": 25,
      "metadata": {
        "id": "GuTKJgQlXWQY"
      },
      "outputs": [],
      "source": [
        "loss_fn = nn.CrossEntropyLoss()\n",
        "optimizer = torch.optim.Adam(model.parameters(), lr=1e-3)"
      ]
    },
    {
      "cell_type": "code",
      "execution_count": 26,
      "metadata": {
        "id": "CXLF8z29X8yK"
      },
      "outputs": [],
      "source": [
        "def train(dataloader, model, loss_fn, optimizer):\n",
        "    size = len(dataloader.dataset)\n",
        "    model.train()\n",
        "    for batch, (X, y) in enumerate(dataloader):\n",
        "        X, y = X.to(device), y.to(device)\n",
        "\n",
        "        # Compute prediction error\n",
        "        pred = model(X)\n",
        "        loss = loss_fn(pred, y)\n",
        "\n",
        "        # Backpropagation\n",
        "        loss.backward()\n",
        "        optimizer.step()\n",
        "        optimizer.zero_grad()\n",
        "\n",
        "        if batch % 100 == 0:\n",
        "            loss, current = loss.item(), (batch + 1) * len(X)\n",
        "            print(f\"loss: {loss:>7f}  [{current:>5d}/{size:>5d}]\")"
      ]
    },
    {
      "cell_type": "code",
      "execution_count": 27,
      "metadata": {
        "id": "KIukze-YYYlQ"
      },
      "outputs": [],
      "source": [
        "def test(dataloader, model, loss_fn):\n",
        "    size = len(dataloader.dataset)\n",
        "    num_batches = len(dataloader)\n",
        "    model.eval()\n",
        "    test_loss, correct = 0, 0\n",
        "    with torch.no_grad():\n",
        "        for X, y in dataloader:\n",
        "            X, y = X.to(device), y.to(device)\n",
        "            pred = model(X)\n",
        "            test_loss += loss_fn(pred, y).item()\n",
        "            correct += (pred.argmax(1) == y).type(torch.float).sum().item()\n",
        "    test_loss /= num_batches\n",
        "    correct /= size\n",
        "    print(f\"Test Error: \\n Accuracy: {(100*correct):>0.1f}%, Avg loss: {test_loss:>8f} \\n\")"
      ]
    },
    {
      "cell_type": "code",
      "execution_count": 28,
      "metadata": {
        "colab": {
          "base_uri": "https://localhost:8080/"
        },
        "id": "zo1QcIkaYfLW",
        "outputId": "e39cd069-fd27-4e86-eef2-26f39cda410e"
      },
      "outputs": [
        {
          "name": "stdout",
          "output_type": "stream",
          "text": [
            "Epoch 1\n",
            "-------------------------------\n",
            "loss: 2.302881  [   50/60000]\n",
            "loss: 0.653970  [ 5050/60000]\n",
            "loss: 0.420133  [10050/60000]\n",
            "loss: 0.333188  [15050/60000]\n",
            "loss: 0.351677  [20050/60000]\n",
            "loss: 0.213999  [25050/60000]\n",
            "loss: 0.446539  [30050/60000]\n",
            "loss: 0.349011  [35050/60000]\n",
            "loss: 0.618642  [40050/60000]\n",
            "loss: 0.438720  [45050/60000]\n",
            "loss: 0.747198  [50050/60000]\n",
            "loss: 0.594585  [55050/60000]\n",
            "Test Error: \n",
            " Accuracy: 84.3%, Avg loss: 0.437819 \n",
            "\n",
            "Epoch 2\n",
            "-------------------------------\n",
            "loss: 0.234345  [   50/60000]\n",
            "loss: 0.403242  [ 5050/60000]\n",
            "loss: 0.319878  [10050/60000]\n",
            "loss: 0.254148  [15050/60000]\n",
            "loss: 0.263139  [20050/60000]\n",
            "loss: 0.181453  [25050/60000]\n",
            "loss: 0.309679  [30050/60000]\n",
            "loss: 0.265815  [35050/60000]\n",
            "loss: 0.584402  [40050/60000]\n",
            "loss: 0.354738  [45050/60000]\n",
            "loss: 0.562648  [50050/60000]\n",
            "loss: 0.445752  [55050/60000]\n",
            "Test Error: \n",
            " Accuracy: 86.0%, Avg loss: 0.375404 \n",
            "\n",
            "Epoch 3\n",
            "-------------------------------\n",
            "loss: 0.198896  [   50/60000]\n",
            "loss: 0.341818  [ 5050/60000]\n",
            "loss: 0.242174  [10050/60000]\n",
            "loss: 0.174867  [15050/60000]\n",
            "loss: 0.195536  [20050/60000]\n",
            "loss: 0.156610  [25050/60000]\n",
            "loss: 0.243194  [30050/60000]\n",
            "loss: 0.262168  [35050/60000]\n",
            "loss: 0.542838  [40050/60000]\n",
            "loss: 0.318947  [45050/60000]\n",
            "loss: 0.539564  [50050/60000]\n",
            "loss: 0.362824  [55050/60000]\n",
            "Test Error: \n",
            " Accuracy: 85.4%, Avg loss: 0.393226 \n",
            "\n",
            "Epoch 4\n",
            "-------------------------------\n",
            "loss: 0.206662  [   50/60000]\n",
            "loss: 0.314280  [ 5050/60000]\n",
            "loss: 0.250506  [10050/60000]\n",
            "loss: 0.162474  [15050/60000]\n",
            "loss: 0.197069  [20050/60000]\n",
            "loss: 0.159537  [25050/60000]\n",
            "loss: 0.265689  [30050/60000]\n",
            "loss: 0.269281  [35050/60000]\n",
            "loss: 0.557488  [40050/60000]\n",
            "loss: 0.318034  [45050/60000]\n",
            "loss: 0.470670  [50050/60000]\n",
            "loss: 0.397874  [55050/60000]\n",
            "Test Error: \n",
            " Accuracy: 85.9%, Avg loss: 0.384741 \n",
            "\n",
            "Epoch 5\n",
            "-------------------------------\n",
            "loss: 0.181548  [   50/60000]\n",
            "loss: 0.345513  [ 5050/60000]\n",
            "loss: 0.215344  [10050/60000]\n",
            "loss: 0.151196  [15050/60000]\n",
            "loss: 0.188958  [20050/60000]\n",
            "loss: 0.138139  [25050/60000]\n",
            "loss: 0.227527  [30050/60000]\n",
            "loss: 0.279862  [35050/60000]\n",
            "loss: 0.557675  [40050/60000]\n",
            "loss: 0.293485  [45050/60000]\n",
            "loss: 0.468592  [50050/60000]\n",
            "loss: 0.350271  [55050/60000]\n",
            "Test Error: \n",
            " Accuracy: 86.6%, Avg loss: 0.378634 \n",
            "\n",
            "Epoch 6\n",
            "-------------------------------\n",
            "loss: 0.165361  [   50/60000]\n",
            "loss: 0.457273  [ 5050/60000]\n",
            "loss: 0.327410  [10050/60000]\n",
            "loss: 0.143827  [15050/60000]\n",
            "loss: 0.206566  [20050/60000]\n",
            "loss: 0.119105  [25050/60000]\n",
            "loss: 0.212285  [30050/60000]\n",
            "loss: 0.246094  [35050/60000]\n",
            "loss: 0.518371  [40050/60000]\n",
            "loss: 0.265010  [45050/60000]\n",
            "loss: 0.446506  [50050/60000]\n",
            "loss: 0.361671  [55050/60000]\n",
            "Test Error: \n",
            " Accuracy: 86.2%, Avg loss: 0.373298 \n",
            "\n",
            "Epoch 7\n",
            "-------------------------------\n",
            "loss: 0.170831  [   50/60000]\n",
            "loss: 0.280154  [ 5050/60000]\n",
            "loss: 0.203322  [10050/60000]\n",
            "loss: 0.157808  [15050/60000]\n",
            "loss: 0.218363  [20050/60000]\n",
            "loss: 0.114275  [25050/60000]\n",
            "loss: 0.189861  [30050/60000]\n",
            "loss: 0.247909  [35050/60000]\n",
            "loss: 0.588291  [40050/60000]\n",
            "loss: 0.264510  [45050/60000]\n",
            "loss: 0.419080  [50050/60000]\n",
            "loss: 0.385940  [55050/60000]\n",
            "Test Error: \n",
            " Accuracy: 86.7%, Avg loss: 0.383435 \n",
            "\n",
            "Epoch 8\n",
            "-------------------------------\n",
            "loss: 0.125381  [   50/60000]\n",
            "loss: 0.334513  [ 5050/60000]\n",
            "loss: 0.210415  [10050/60000]\n",
            "loss: 0.155891  [15050/60000]\n",
            "loss: 0.254543  [20050/60000]\n",
            "loss: 0.098669  [25050/60000]\n",
            "loss: 0.125313  [30050/60000]\n",
            "loss: 0.286540  [35050/60000]\n",
            "loss: 0.588270  [40050/60000]\n",
            "loss: 0.242764  [45050/60000]\n",
            "loss: 0.402324  [50050/60000]\n",
            "loss: 0.348136  [55050/60000]\n",
            "Test Error: \n",
            " Accuracy: 87.4%, Avg loss: 0.372992 \n",
            "\n",
            "Epoch 9\n",
            "-------------------------------\n",
            "loss: 0.115356  [   50/60000]\n",
            "loss: 0.255946  [ 5050/60000]\n",
            "loss: 0.208593  [10050/60000]\n",
            "loss: 0.147747  [15050/60000]\n",
            "loss: 0.156600  [20050/60000]\n",
            "loss: 0.108032  [25050/60000]\n",
            "loss: 0.129365  [30050/60000]\n",
            "loss: 0.253551  [35050/60000]\n",
            "loss: 0.580297  [40050/60000]\n",
            "loss: 0.274756  [45050/60000]\n",
            "loss: 0.415292  [50050/60000]\n",
            "loss: 0.333763  [55050/60000]\n",
            "Test Error: \n",
            " Accuracy: 87.4%, Avg loss: 0.364325 \n",
            "\n",
            "Epoch 10\n",
            "-------------------------------\n",
            "loss: 0.127946  [   50/60000]\n",
            "loss: 0.224607  [ 5050/60000]\n",
            "loss: 0.209876  [10050/60000]\n",
            "loss: 0.171467  [15050/60000]\n",
            "loss: 0.232614  [20050/60000]\n",
            "loss: 0.077966  [25050/60000]\n",
            "loss: 0.133004  [30050/60000]\n",
            "loss: 0.273144  [35050/60000]\n",
            "loss: 0.588003  [40050/60000]\n",
            "loss: 0.232457  [45050/60000]\n",
            "loss: 0.398307  [50050/60000]\n",
            "loss: 0.297819  [55050/60000]\n",
            "Test Error: \n",
            " Accuracy: 87.4%, Avg loss: 0.371327 \n",
            "\n",
            "Epoch 11\n",
            "-------------------------------\n",
            "loss: 0.120011  [   50/60000]\n",
            "loss: 0.333243  [ 5050/60000]\n",
            "loss: 0.232890  [10050/60000]\n",
            "loss: 0.155700  [15050/60000]\n",
            "loss: 0.152094  [20050/60000]\n",
            "loss: 0.087830  [25050/60000]\n",
            "loss: 0.141661  [30050/60000]\n",
            "loss: 0.235797  [35050/60000]\n",
            "loss: 0.488373  [40050/60000]\n",
            "loss: 0.213282  [45050/60000]\n",
            "loss: 0.422920  [50050/60000]\n",
            "loss: 0.429866  [55050/60000]\n",
            "Test Error: \n",
            " Accuracy: 87.2%, Avg loss: 0.379147 \n",
            "\n",
            "Epoch 12\n",
            "-------------------------------\n",
            "loss: 0.168828  [   50/60000]\n",
            "loss: 0.240449  [ 5050/60000]\n",
            "loss: 0.184850  [10050/60000]\n",
            "loss: 0.185848  [15050/60000]\n",
            "loss: 0.170722  [20050/60000]\n",
            "loss: 0.101653  [25050/60000]\n",
            "loss: 0.105178  [30050/60000]\n",
            "loss: 0.249346  [35050/60000]\n",
            "loss: 0.445051  [40050/60000]\n",
            "loss: 0.176856  [45050/60000]\n",
            "loss: 0.358147  [50050/60000]\n",
            "loss: 0.222455  [55050/60000]\n",
            "Test Error: \n",
            " Accuracy: 87.8%, Avg loss: 0.387539 \n",
            "\n",
            "Done!\n"
          ]
        }
      ],
      "source": [
        "epochs = 12\n",
        "for t in range(epochs):\n",
        "    print(f\"Epoch {t+1}\\n-------------------------------\")\n",
        "    train(train_dataloader, model, loss_fn, optimizer)\n",
        "    test(test_dataloader, model, loss_fn)\n",
        "print(\"Done!\")"
      ]
    },
    {
      "cell_type": "code",
      "execution_count": 20,
      "metadata": {
        "colab": {
          "base_uri": "https://localhost:8080/"
        },
        "id": "izyIsaCiZhyG",
        "outputId": "314fba42-9dc0-44be-c0e9-6ed1f408bbc4"
      },
      "outputs": [
        {
          "name": "stdout",
          "output_type": "stream",
          "text": [
            "Saved PyTorch Model State to model.pth\n"
          ]
        }
      ],
      "source": [
        "torch.save(model.state_dict(), \"model.pth\")\n",
        "print(\"Saved PyTorch Model State to model.pth\")"
      ]
    },
    {
      "cell_type": "code",
      "execution_count": 21,
      "metadata": {
        "colab": {
          "base_uri": "https://localhost:8080/"
        },
        "id": "ChvdgQvjZT9V",
        "outputId": "3db39d79-d218-4e79-8ac6-5d739a287f49"
      },
      "outputs": [
        {
          "data": {
            "text/plain": [
              "<All keys matched successfully>"
            ]
          },
          "execution_count": 21,
          "metadata": {},
          "output_type": "execute_result"
        }
      ],
      "source": [
        "# how to load a saved model\n",
        "model = NeuralNetwork().to(device)\n",
        "model.load_state_dict(torch.load(\"model.pth\"))"
      ]
    },
    {
      "cell_type": "code",
      "execution_count": 23,
      "metadata": {
        "colab": {
          "base_uri": "https://localhost:8080/"
        },
        "id": "7T4-T7sXZU1w",
        "outputId": "5d573d17-38c6-442f-f54c-4d37c129fc41"
      },
      "outputs": [
        {
          "name": "stdout",
          "output_type": "stream",
          "text": [
            "Predicted: \"Shirt\", Actual: \"Shirt\"\n"
          ]
        }
      ],
      "source": [
        "classes = [\n",
        "    \"T-shirt/top\",\n",
        "    \"Trouser\",\n",
        "    \"Pullover\",\n",
        "    \"Dress\",\n",
        "    \"Coat\",\n",
        "    \"Sandal\",\n",
        "    \"Shirt\",\n",
        "    \"Sneaker\",\n",
        "    \"Bag\",\n",
        "    \"Ankle boot\",\n",
        "]\n",
        "\n",
        "model.eval()\n",
        "i=40\n",
        "x, y = test_data[i][0], test_data[i][1]\n",
        "with torch.no_grad():\n",
        "    x = x.to(device)\n",
        "    pred = model(x)\n",
        "    predicted, actual = classes[pred[0].argmax(0)], classes[y]\n",
        "    print(f'Predicted: \"{predicted}\", Actual: \"{actual}\"')"
      ]
    },
    {
      "cell_type": "code",
      "execution_count": 28,
      "metadata": {
        "colab": {
          "base_uri": "https://localhost:8080/"
        },
        "id": "y9y9NdbbZ1n6",
        "outputId": "6f829452-ba77-4016-cd3f-1103eaafe399"
      },
      "outputs": [
        {
          "data": {
            "text/plain": [
              "784"
            ]
          },
          "execution_count": 28,
          "metadata": {},
          "output_type": "execute_result"
        }
      ],
      "source": []
    },
    {
      "cell_type": "code",
      "execution_count": null,
      "metadata": {
        "id": "ogoubhqZgUVi"
      },
      "outputs": [],
      "source": []
    }
  ],
  "metadata": {
    "accelerator": "GPU",
    "colab": {
      "gpuType": "V100",
      "provenance": []
    },
    "kernelspec": {
      "display_name": "Python 3",
      "name": "python3"
    },
    "language_info": {
      "codemirror_mode": {
        "name": "ipython",
        "version": 3
      },
      "file_extension": ".py",
      "mimetype": "text/x-python",
      "name": "python",
      "nbconvert_exporter": "python",
      "pygments_lexer": "ipython3",
      "version": "3.10.9"
    }
  },
  "nbformat": 4,
  "nbformat_minor": 0
}
