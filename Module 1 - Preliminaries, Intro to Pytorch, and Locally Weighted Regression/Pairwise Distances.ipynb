{
 "cells": [
  {
   "cell_type": "code",
   "execution_count": 3,
   "metadata": {},
   "outputs": [
    {
     "data": {
      "text/plain": [
       "array([42], dtype=uint64)"
      ]
     },
     "execution_count": 3,
     "metadata": {},
     "output_type": "execute_result"
    }
   ],
   "source": [
    "import numpy as np\n",
    "from usearch.index import Index\n",
    "\n",
    "index = Index(ndim=3)\n",
    "\n",
    "vector = np.array([0.2, 0.6, 0.4])\n",
    "index.add(42, vector)\n",
    "\n"
   ]
  },
  {
   "cell_type": "code",
   "execution_count": 4,
   "metadata": {},
   "outputs": [],
   "source": [
    "matches = index.search(vector, 10)\n",
    "\n"
   ]
  },
  {
   "cell_type": "code",
   "execution_count": 15,
   "metadata": {},
   "outputs": [
    {
     "name": "stdout",
     "output_type": "stream",
     "text": [
      "Pairwise distances:\n",
      "[[1.27444921]\n",
      " [0.63064583]\n",
      " [0.89990552]\n",
      " [1.11649876]\n",
      " [0.66901084]\n",
      " [1.34438868]\n",
      " [0.92961786]\n",
      " [0.93171742]\n",
      " [0.88970191]\n",
      " [0.67108949]]\n"
     ]
    }
   ],
   "source": [
    "from scipy.spatial.distance import cdist\n",
    "\n",
    "# Example vectors\n",
    "vector1 = np.random.uniform(2,3,size=[10,5])\n",
    "vector2 =np.array([np.random.uniform(2,3,size=5)])\n",
    "\n",
    "\n",
    "\n",
    "# Compute pairwise distances using Euclidean distance metric\n",
    "pairwise_distances = cdist(vector1, vector2, metric='euclidean')\n",
    "\n",
    "print(\"Pairwise distances:\")\n",
    "print(pairwise_distances)\n"
   ]
  },
  {
   "cell_type": "code",
   "execution_count": 16,
   "metadata": {},
   "outputs": [
    {
     "data": {
      "text/plain": [
       "(10, 1)"
      ]
     },
     "execution_count": 16,
     "metadata": {},
     "output_type": "execute_result"
    }
   ],
   "source": [
    "pairwise_distances.shape"
   ]
  },
  {
   "cell_type": "code",
   "execution_count": 2,
   "metadata": {},
   "outputs": [
    {
     "name": "stdout",
     "output_type": "stream",
     "text": [
      "Pairwise distances:\n",
      "[0.         0.14383581 0.41584057 0.4380216  0.44664857 0.57216394\n",
      " 0.6272121  0.6634663  0.71726936 1.1890131 ]\n"
     ]
    }
   ],
   "source": [
    "import faiss\n",
    "import numpy as np\n",
    "\n",
    "# Example vectors\n",
    "vector1 = np.random.uniform(2,3,size=[10,5])\n",
    "vector2 =np.array([np.random.uniform(2,3,size=5)])\n",
    "\n",
    "# Concatenate the vectors into a single array\n",
    "all_vectors = np.concatenate((vector1, vector2), axis=0)\n",
    "\n",
    "# Initialize Faiss index\n",
    "d = all_vectors.shape[1]  # Dimension of vectors\n",
    "index = faiss.IndexFlatL2(d)  # L2 distance (Euclidean distance)\n",
    "\n",
    "# Add vectors to the index\n",
    "index.add(all_vectors)\n",
    "\n",
    "# Query for the nearest neighbors (in this case, excluding the vector itself)\n",
    "k = all_vectors.shape[0] - 1  # Return distances to all other vectors\n",
    "D, I = index.search(all_vectors, k)\n",
    "\n",
    "# The first row of D corresponds to distances from vector1 to all vectors,\n",
    "# and the second row corresponds to distances from vector2 to all vectors\n",
    "pairwise_distances = D[1]\n",
    "\n",
    "print(\"Pairwise distances:\")\n",
    "print(pairwise_distances)\n"
   ]
  },
  {
   "cell_type": "code",
   "execution_count": null,
   "metadata": {},
   "outputs": [],
   "source": []
  }
 ],
 "metadata": {
  "kernelspec": {
   "display_name": "venv",
   "language": "python",
   "name": "python3"
  },
  "language_info": {
   "codemirror_mode": {
    "name": "ipython",
    "version": 3
   },
   "file_extension": ".py",
   "mimetype": "text/x-python",
   "name": "python",
   "nbconvert_exporter": "python",
   "pygments_lexer": "ipython3",
   "version": "3.10.12"
  }
 },
 "nbformat": 4,
 "nbformat_minor": 2
}
