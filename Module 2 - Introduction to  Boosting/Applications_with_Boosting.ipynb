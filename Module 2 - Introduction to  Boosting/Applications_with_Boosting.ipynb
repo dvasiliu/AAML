{
  "cells": [
    {
      "cell_type": "code",
      "execution_count": null,
      "metadata": {
        "id": "0Zls1--d3vMC"
      },
      "outputs": [],
      "source": [
        "# graphical libraries\n",
        "%matplotlib inline\n",
        "%config InlineBackend.figure_format = 'retina'\n",
        "import matplotlib.pyplot as plt\n",
        "import matplotlib as mpl\n",
        "mpl.rcParams['figure.dpi'] = 120\n",
        "from IPython.display import Image\n",
        "from IPython.display import display"
      ]
    },
    {
      "cell_type": "markdown",
      "metadata": {
        "id": "c6dJdRiJ3_E-"
      },
      "source": [
        "## Boosted Locally Weighted Regression\n",
        "\n",
        "### Gradient Boosting\n",
        "Assume you have an regressor $F$ and, for the observation $x_i$ we make the prediction $F(x_i)$. To improve the predictions, we can regard $F$ as a 'weak learner' and therefore train a decision tree (we can call it $h$) where the new output is $y_i-F(x_i)$. So, the new predictor is trained on the residuals of the previous one. Thus, there are increased chances that the new regressor\n",
        "\n",
        "$$\\large F + h$$ \n",
        "\n",
        "is better than the old one, $F.$\n",
        "\n",
        "Main task: implement this idea in an algorithm and test it on real data sets.\n",
        "\n",
        "\n",
        "<figure>\n",
        "<center>\n",
        "<img src='https://i.imgur.com/K2RC0le.png'width='400px'/>\n",
        "<figcaption>Computational Diagram for Gradient Boosting</figcaption></center>\n",
        "</figure>"
      ]
    },
    {
      "cell_type": "code",
      "execution_count": 46,
      "metadata": {
        "id": "xrHdV08V4C13"
      },
      "outputs": [],
      "source": [
        "# computational libraries\n",
        "import numpy as np\n",
        "import pandas as pd\n",
        "import xgboost\n",
        "from sklearn.linear_model import LinearRegression, Ridge\n",
        "from sklearn.preprocessing import StandardScaler, QuantileTransformer, MinMaxScaler, PolynomialFeatures\n",
        "from sklearn.decomposition import PCA\n",
        "from scipy.spatial import Delaunay\n",
        "from sklearn.ensemble import RandomForestRegressor\n",
        "from sklearn.pipeline import Pipeline\n",
        "import scipy.stats as stats \n",
        "from sklearn.model_selection import train_test_split as tts, KFold, GridSearchCV\n",
        "from sklearn.metrics import mean_squared_error as mse\n",
        "from scipy.spatial.distance import cdist\n",
        "from scipy.interpolate import interp1d, RegularGridInterpolator, griddata, LinearNDInterpolator, NearestNDInterpolator\n",
        "from math import ceil\n",
        "from scipy import linalg\n",
        "# the following line(s) are necessary if you want to make SKlearn compliant functions\n",
        "from sklearn.base import BaseEstimator, RegressorMixin\n",
        "from sklearn.utils.validation import check_X_y, check_array, check_is_fitted\n",
        "import warnings\n",
        "warnings.filterwarnings('ignore')"
      ]
    },
    {
      "cell_type": "code",
      "execution_count": 6,
      "metadata": {
        "id": "w5WbzbQHgjzN"
      },
      "outputs": [],
      "source": [
        "scale = MinMaxScaler()"
      ]
    },
    {
      "cell_type": "markdown",
      "metadata": {
        "id": "M7U1TMXrgmIb"
      },
      "source": [
        "## Kernels"
      ]
    },
    {
      "cell_type": "code",
      "execution_count": 7,
      "metadata": {
        "id": "2GSXLsUDgjiB"
      },
      "outputs": [],
      "source": [
        "# Gaussian Kernel\n",
        "def Gaussian(w):\n",
        "  return np.where(w>4,0,1/(np.sqrt(2*np.pi))*np.exp(-1/2*w**2))\n",
        "\n",
        "# Tricubic Kernel\n",
        "def Tricubic(w):\n",
        "  return np.where(w>1,0,70/81*(1-w**3)**3)\n",
        "\n",
        "# Quartic Kernel\n",
        "def Quartic(w):\n",
        "  return np.where(w>1,0,15/16*(1-w**2)**2)\n",
        "\n",
        "# Epanechnikov Kernel\n",
        "def Epanechnikov(w):\n",
        "  return np.where(w>1,0,3/4*(1-w**2)) "
      ]
    },
    {
      "cell_type": "code",
      "execution_count": 8,
      "metadata": {},
      "outputs": [],
      "source": [
        "def weight_function(u,v,kern=Gaussian,tau=0.5):\n",
        "    return kern(cdist(u, v, metric='euclidean')/(2*tau))"
      ]
    },
    {
      "cell_type": "markdown",
      "metadata": {
        "id": "bMa_Qu3s49Fn"
      },
      "source": [
        "## Function Definitions \n",
        "\n",
        "We define all the useful functions we need.\n",
        "\n",
        "- we need a distance function\n",
        "\n",
        "- we need the locally weighted regression for predicting the train data\n",
        "\n",
        "- we need an encapsulation for SkLearn"
      ]
    },
    {
      "cell_type": "code",
      "execution_count": null,
      "metadata": {
        "id": "U-rcevC3giH6"
      },
      "outputs": [],
      "source": []
    },
    {
      "cell_type": "code",
      "execution_count": 9,
      "metadata": {
        "id": "opnp4VRP5C9r"
      },
      "outputs": [],
      "source": [
        "# here we have a function that computes the Euclidean distance between all the observations in u, and v\n",
        "def dist(u,v):\n",
        "  return cdist(u, v, metric='euclidean')"
      ]
    },
    {
      "cell_type": "code",
      "execution_count": null,
      "metadata": {
        "id": "efRF_1M75gLP"
      },
      "outputs": [],
      "source": []
    },
    {
      "cell_type": "markdown",
      "metadata": {},
      "source": [
        "# Define Different Implementations of Locally Weighted Regression"
      ]
    },
    {
      "cell_type": "code",
      "execution_count": 50,
      "metadata": {
        "id": "Osoez3m9XmV-"
      },
      "outputs": [],
      "source": [
        "def lw_ag_md(x, y, xnew,f=2/3,iter=3, intercept=True):\n",
        "\n",
        "  n = len(x)\n",
        "  r = int(ceil(f * n))\n",
        "  yest = np.zeros(n)\n",
        "\n",
        "  if len(y.shape)==1: # here we make column vectors\n",
        "    y = y.reshape(-1,1)\n",
        "\n",
        "  if len(x.shape)==1:\n",
        "    x = x.reshape(-1,1)\n",
        "  \n",
        "  if intercept:\n",
        "    x1 = np.column_stack([np.ones((len(x),1)),x])\n",
        "  else:\n",
        "    x1 = x\n",
        "\n",
        "  h = [np.sort(np.sqrt(np.sum((x-x[i])**2,axis=1)))[r] for i in range(n)]\n",
        "  # dist(x,x) is always symmetric\n",
        "  w = np.clip(dist(x,x) / np.array(h), 0.0, 1.0)\n",
        "  # note that w is a square matrix and in Python arithmetic operations such as\n",
        "  # w**3 or 1-w**3 are performed element-wise\n",
        "  #w = (1-w**3)**3 # a Tricubic kernel\n",
        "  w = Epanechnikov(w)\n",
        "\n",
        "  #Looping through all X-points\n",
        "  delta = np.ones(n)\n",
        "  for iteration in range(iter):\n",
        "    for i in range(n):\n",
        "      W = np.diag(delta).dot(np.diag(w[i,:]))\n",
        "      # when we multiply two diagonal matrices we get also a diagonal matrix\n",
        "      b = np.transpose(x1).dot(W).dot(y)\n",
        "      A = np.transpose(x1).dot(W).dot(x1)\n",
        "      ##\n",
        "      A = A + 0.0001*np.eye(x1.shape[1]) # if we want L2 regularization for solving the system\n",
        "      beta = linalg.solve(A, b)\n",
        "\n",
        "      #beta, res, rnk, s = linalg.lstsq(A, b)\n",
        "      yest[i] = np.dot(x1[i],beta.ravel())\n",
        "\n",
        "    residuals = y.ravel() - yest\n",
        "    s = np.median(np.abs(residuals))\n",
        "\n",
        "    delta = np.clip(residuals / (6.0 * s), -1, 1)\n",
        "\n",
        "    delta = (1 - delta ** 2) ** 2\n",
        "    \n",
        "  # here we are making predictions for xnew by using an interpolation and the predictions we made for the train data\n",
        "  if x.shape[1]==1:\n",
        "    f = interp1d(x.flatten(),yest,fill_value='extrapolate')\n",
        "    output = f(xnew)\n",
        "  else:\n",
        "    output = np.zeros(len(xnew))\n",
        "    for i in range(len(xnew)):\n",
        "      ind = np.argsort(np.sqrt(np.sum((x-xnew[i])**2,axis=1)))[:r]\n",
        "      pca = PCA(n_components=3)\n",
        "      x_pca = pca.fit_transform(x[ind])\n",
        "      tri = Delaunay(x_pca,qhull_options='QJ Pp')\n",
        "      f = LinearNDInterpolator(tri,yest[ind])\n",
        "      input_i = pca.transform(xnew[i].reshape(1,-1))\n",
        "      output[i] = f(input_i)\n",
        "      # the output may have NaN's where the data points from xnew are outside the convex hull of X\n",
        "\n",
        "  if sum(np.isnan(output))>0:\n",
        "    g = NearestNDInterpolator(x,yest.ravel()) \n",
        "    # output[np.isnan(output)] = g(X[np.isnan(output)])\n",
        "    output[np.isnan(output)] = g(xnew[np.isnan(output)])\n",
        "  return output"
      ]
    },
    {
      "cell_type": "code",
      "execution_count": 57,
      "metadata": {
        "id": "J-Rjqext6CZt"
      },
      "outputs": [],
      "source": [
        "def lowess_int(x, y, xnew,kernel=Gaussian,tau=0.02,iter=1, intercept=True):\n",
        "\n",
        "  n = len(x)\n",
        "  \n",
        "  yest = np.zeros(n)\n",
        "\n",
        "  if len(y.shape)==1: # here we make column vectors\n",
        "    y = y.reshape(-1,1)\n",
        "\n",
        "  if len(x.shape)==1:\n",
        "    x = x.reshape(-1,1)\n",
        "  \n",
        "  if intercept:\n",
        "    x1 = np.column_stack([np.ones((len(x),1)),x])\n",
        "  else:\n",
        "    x1 = x\n",
        "\n",
        "  \n",
        "  # dist(x,x) is always symmetric\n",
        "  w = dist(x,x)\n",
        "  \n",
        "\n",
        "  #Looping through all X-points\n",
        "  delta = np.ones(n)\n",
        "  for iteration in range(iter):\n",
        "    for i in range(n):\n",
        "      W = np.diag(delta).dot(kernel(w[i,:]/(2*tau)).ravel())     \n",
        "      # when we multiply two diagonal matrices we get also a diagonal matrix\n",
        "      b = np.transpose(x1).dot(np.diag(W)).dot(y)\n",
        "      A = np.transpose(x1).dot(np.diag(W)).dot(x1)\n",
        "      ##\n",
        "      A = A + 0.0001*np.eye(x1.shape[1]) # if we want L2 regularization for solving the system\n",
        "      beta = linalg.solve(A, b)\n",
        "\n",
        "      #beta, res, rnk, s = linalg.lstsq(A, b)\n",
        "      yest[i] = np.dot(x1[i],beta.ravel())\n",
        "\n",
        "    residuals = y.ravel() - yest\n",
        "    s = np.median(np.abs(residuals))\n",
        "\n",
        "    delta = np.clip(residuals / (6.0 * s), -1, 1)\n",
        "\n",
        "    delta = (1 - delta ** 2) ** 2\n",
        "    \n",
        "  # here we are making predictions for xnew by using an interpolation and the predictions we made for the train data\n",
        "  if x.shape[1]==1:\n",
        "    f = interp1d(x.flatten(),yest,fill_value='extrapolate')\n",
        "    output = f(xnew)\n",
        "  else:\n",
        "    output = np.zeros(len(xnew))\n",
        "    for i in range(len(xnew)):\n",
        "      w = np.diag(kernel(dist(x,xnew[i])/(2*tau)).ravel())\n",
        "      # model = LinearRegression()\n",
        "      # model.fit(w.dot(x),w.dot(yest))\n",
        "      # output[i] = model.predict(xnew[i].reshape(1,-1))\n",
        "      \n",
        "      output[i] = np.sum(w.dot(yest))/np.trace(w)\n",
        "      # the output may have NaN's where the data points from xnew are outside the convex hull of X\n",
        "\n",
        "  if sum(np.isnan(output))>0:\n",
        "    g = NearestNDInterpolator(x,yest.ravel()) \n",
        "    # output[np.isnan(output)] = g(X[np.isnan(output)])\n",
        "    output[np.isnan(output)] = g(xnew[np.isnan(output)])\n",
        "  return output"
      ]
    },
    {
      "cell_type": "markdown",
      "metadata": {
        "id": "G0pZfYk1ffGy"
      },
      "source": [
        "## Scikit-Learn Compliant Classes"
      ]
    },
    {
      "cell_type": "code",
      "execution_count": 59,
      "metadata": {},
      "outputs": [],
      "source": [
        "class Lowess:\n",
        "    def __init__(self, kernel = Gaussian, tau=0.05):\n",
        "        self.kernel = kernel\n",
        "        self.tau = tau\n",
        "\n",
        "    def fit(self, x, y):\n",
        "        kernel = self.kernel\n",
        "        tau = self.tau\n",
        "        self.xtrain_ = x\n",
        "        self.yhat_ = y\n",
        "\n",
        "    def predict(self, x_new):\n",
        "        check_is_fitted(self)\n",
        "        x = self.xtrain_\n",
        "        y = self.yhat_\n",
        "        lm = Ridge(alpha=0.001)\n",
        "        w = weight_function(x,x_new,self.kernel,self.tau)\n",
        "\n",
        "        if np.isscalar(x_new):\n",
        "          lm.fit(np.diag(w)@(x.reshape(-1,1)),np.diag(w)@(y.reshape(-1,1)))\n",
        "          yest = lm.predict([[x_new]])[0][0]\n",
        "        else:\n",
        "\n",
        "          n = len(x_new)\n",
        "          yest_test = []\n",
        "          #Looping through all x-points\n",
        "          for i in range(n):\n",
        "            lm.fit(np.diag(w[:,i])@x,np.diag(w[:,i])@y)\n",
        "            yest_test.append(lm.predict(x_new[i].reshape(1,-1)))\n",
        "        return np.array(yest_test).reshape(-1,1)\n",
        "    def get_params(self, deep=True):\n",
        "    # suppose this estimator has parameters \"f\", \"iter\" and \"intercept\"\n",
        "        return {\"f\": self.f, \"iter\": self.iter,\"intercept\":self.intercept}\n",
        "\n",
        "    def set_params(self, **parameters):\n",
        "        for parameter, value in parameters.items():\n",
        "            setattr(self, parameter, value)\n",
        "        return self"
      ]
    },
    {
      "cell_type": "markdown",
      "metadata": {},
      "source": [
        "### Gramfort's Approach"
      ]
    },
    {
      "cell_type": "code",
      "execution_count": 39,
      "metadata": {
        "id": "6r_cVSa6dEPM"
      },
      "outputs": [],
      "source": [
        "class Lowess_AG_MD:\n",
        "    def __init__(self, f = 1/10, iter = 3,intercept=True):\n",
        "        self.f = f\n",
        "        self.iter = iter\n",
        "        self.intercept = intercept\n",
        "    \n",
        "    def fit(self, x, y):\n",
        "        f = self.f\n",
        "        iter = self.iter\n",
        "        self.xtrain_ = x\n",
        "        self.yhat_ = y\n",
        "\n",
        "    def predict(self, x_new):\n",
        "        check_is_fitted(self)\n",
        "        x = self.xtrain_\n",
        "        y = self.yhat_\n",
        "        f = self.f\n",
        "        iter = self.iter\n",
        "        intercept = self.intercept\n",
        "        return lw_ag_md(x, y, x_new, f, iter, intercept) # this is actually our defined function of Lowess\n",
        "\n",
        "    def get_params(self, deep=True):\n",
        "    # suppose this estimator has parameters \"f\", \"iter\" and \"intercept\"\n",
        "        return {\"f\": self.f, \"iter\": self.iter,\"intercept\":self.intercept}\n",
        "\n",
        "    def set_params(self, **parameters):\n",
        "        for parameter, value in parameters.items():\n",
        "            setattr(self, parameter, value)\n",
        "        return self"
      ]
    },
    {
      "cell_type": "markdown",
      "metadata": {
        "id": "0EJAtJ8zWZjj"
      },
      "source": [
        "## The Boosted Regressor"
      ]
    },
    {
      "cell_type": "code",
      "execution_count": 82,
      "metadata": {
        "id": "z-paidTgFF1l"
      },
      "outputs": [],
      "source": [
        "def boosted_lwr(x, y, xnew):\n",
        "  # we need decision trees\n",
        "  # for training the boosted method we use x and y\n",
        "  #model1 = Lowess_AG_MD(f=f,iter=iter,intercept=intercept)\n",
        "  model1 = Lowess(kernel=Gaussian,tau=0.2)\n",
        "  model1.fit(x,y)\n",
        "  residuals1 = y - model1.predict(x).ravel()\n",
        "  #model2 = Lowess_AG_MD(f=f,iter=iter,intercept=intercept)\n",
        "  model2 = Lowess(kernel=Gaussian,tau=0.2)\n",
        "  #model2 = RandomForestRegressor(n_estimators=200,max_depth=9)\n",
        "  model2.fit(x,residuals1)\n",
        "  output = model1.predict(xnew) + model2.predict(xnew)\n",
        "  return output "
      ]
    },
    {
      "cell_type": "code",
      "execution_count": null,
      "metadata": {
        "id": "Ft-VEKIVFFrr"
      },
      "outputs": [],
      "source": []
    },
    {
      "cell_type": "markdown",
      "metadata": {},
      "source": [
        "# Import Data"
      ]
    },
    {
      "cell_type": "code",
      "execution_count": 73,
      "metadata": {
        "colab": {
          "base_uri": "https://localhost:8080/",
          "height": 424
        },
        "id": "UZ046CJLFFgw",
        "outputId": "0afb8a6a-b87e-4668-bebc-5045c3d68021"
      },
      "outputs": [
        {
          "data": {
            "text/html": [
              "<div>\n",
              "<style scoped>\n",
              "    .dataframe tbody tr th:only-of-type {\n",
              "        vertical-align: middle;\n",
              "    }\n",
              "\n",
              "    .dataframe tbody tr th {\n",
              "        vertical-align: top;\n",
              "    }\n",
              "\n",
              "    .dataframe thead th {\n",
              "        text-align: right;\n",
              "    }\n",
              "</style>\n",
              "<table border=\"1\" class=\"dataframe\">\n",
              "  <thead>\n",
              "    <tr style=\"text-align: right;\">\n",
              "      <th></th>\n",
              "      <th>cement</th>\n",
              "      <th>slag</th>\n",
              "      <th>ash</th>\n",
              "      <th>water</th>\n",
              "      <th>superplastic</th>\n",
              "      <th>coarseagg</th>\n",
              "      <th>fineagg</th>\n",
              "      <th>age</th>\n",
              "      <th>strength</th>\n",
              "    </tr>\n",
              "  </thead>\n",
              "  <tbody>\n",
              "    <tr>\n",
              "      <th>0</th>\n",
              "      <td>540.0</td>\n",
              "      <td>0.0</td>\n",
              "      <td>0.0</td>\n",
              "      <td>162.0</td>\n",
              "      <td>2.5</td>\n",
              "      <td>1040.0</td>\n",
              "      <td>676.0</td>\n",
              "      <td>28</td>\n",
              "      <td>79.99</td>\n",
              "    </tr>\n",
              "    <tr>\n",
              "      <th>1</th>\n",
              "      <td>540.0</td>\n",
              "      <td>0.0</td>\n",
              "      <td>0.0</td>\n",
              "      <td>162.0</td>\n",
              "      <td>2.5</td>\n",
              "      <td>1055.0</td>\n",
              "      <td>676.0</td>\n",
              "      <td>28</td>\n",
              "      <td>61.89</td>\n",
              "    </tr>\n",
              "    <tr>\n",
              "      <th>2</th>\n",
              "      <td>332.5</td>\n",
              "      <td>142.5</td>\n",
              "      <td>0.0</td>\n",
              "      <td>228.0</td>\n",
              "      <td>0.0</td>\n",
              "      <td>932.0</td>\n",
              "      <td>594.0</td>\n",
              "      <td>270</td>\n",
              "      <td>40.27</td>\n",
              "    </tr>\n",
              "    <tr>\n",
              "      <th>3</th>\n",
              "      <td>332.5</td>\n",
              "      <td>142.5</td>\n",
              "      <td>0.0</td>\n",
              "      <td>228.0</td>\n",
              "      <td>0.0</td>\n",
              "      <td>932.0</td>\n",
              "      <td>594.0</td>\n",
              "      <td>365</td>\n",
              "      <td>41.05</td>\n",
              "    </tr>\n",
              "    <tr>\n",
              "      <th>4</th>\n",
              "      <td>198.6</td>\n",
              "      <td>132.4</td>\n",
              "      <td>0.0</td>\n",
              "      <td>192.0</td>\n",
              "      <td>0.0</td>\n",
              "      <td>978.4</td>\n",
              "      <td>825.5</td>\n",
              "      <td>360</td>\n",
              "      <td>44.30</td>\n",
              "    </tr>\n",
              "    <tr>\n",
              "      <th>...</th>\n",
              "      <td>...</td>\n",
              "      <td>...</td>\n",
              "      <td>...</td>\n",
              "      <td>...</td>\n",
              "      <td>...</td>\n",
              "      <td>...</td>\n",
              "      <td>...</td>\n",
              "      <td>...</td>\n",
              "      <td>...</td>\n",
              "    </tr>\n",
              "    <tr>\n",
              "      <th>1025</th>\n",
              "      <td>276.4</td>\n",
              "      <td>116.0</td>\n",
              "      <td>90.3</td>\n",
              "      <td>179.6</td>\n",
              "      <td>8.9</td>\n",
              "      <td>870.1</td>\n",
              "      <td>768.3</td>\n",
              "      <td>28</td>\n",
              "      <td>44.28</td>\n",
              "    </tr>\n",
              "    <tr>\n",
              "      <th>1026</th>\n",
              "      <td>322.2</td>\n",
              "      <td>0.0</td>\n",
              "      <td>115.6</td>\n",
              "      <td>196.0</td>\n",
              "      <td>10.4</td>\n",
              "      <td>817.9</td>\n",
              "      <td>813.4</td>\n",
              "      <td>28</td>\n",
              "      <td>31.18</td>\n",
              "    </tr>\n",
              "    <tr>\n",
              "      <th>1027</th>\n",
              "      <td>148.5</td>\n",
              "      <td>139.4</td>\n",
              "      <td>108.6</td>\n",
              "      <td>192.7</td>\n",
              "      <td>6.1</td>\n",
              "      <td>892.4</td>\n",
              "      <td>780.0</td>\n",
              "      <td>28</td>\n",
              "      <td>23.70</td>\n",
              "    </tr>\n",
              "    <tr>\n",
              "      <th>1028</th>\n",
              "      <td>159.1</td>\n",
              "      <td>186.7</td>\n",
              "      <td>0.0</td>\n",
              "      <td>175.6</td>\n",
              "      <td>11.3</td>\n",
              "      <td>989.6</td>\n",
              "      <td>788.9</td>\n",
              "      <td>28</td>\n",
              "      <td>32.77</td>\n",
              "    </tr>\n",
              "    <tr>\n",
              "      <th>1029</th>\n",
              "      <td>260.9</td>\n",
              "      <td>100.5</td>\n",
              "      <td>78.3</td>\n",
              "      <td>200.6</td>\n",
              "      <td>8.6</td>\n",
              "      <td>864.5</td>\n",
              "      <td>761.5</td>\n",
              "      <td>28</td>\n",
              "      <td>32.40</td>\n",
              "    </tr>\n",
              "  </tbody>\n",
              "</table>\n",
              "<p>1030 rows × 9 columns</p>\n",
              "</div>"
            ],
            "text/plain": [
              "      cement   slag    ash  water  superplastic  coarseagg  fineagg  age  \\\n",
              "0      540.0    0.0    0.0  162.0           2.5     1040.0    676.0   28   \n",
              "1      540.0    0.0    0.0  162.0           2.5     1055.0    676.0   28   \n",
              "2      332.5  142.5    0.0  228.0           0.0      932.0    594.0  270   \n",
              "3      332.5  142.5    0.0  228.0           0.0      932.0    594.0  365   \n",
              "4      198.6  132.4    0.0  192.0           0.0      978.4    825.5  360   \n",
              "...      ...    ...    ...    ...           ...        ...      ...  ...   \n",
              "1025   276.4  116.0   90.3  179.6           8.9      870.1    768.3   28   \n",
              "1026   322.2    0.0  115.6  196.0          10.4      817.9    813.4   28   \n",
              "1027   148.5  139.4  108.6  192.7           6.1      892.4    780.0   28   \n",
              "1028   159.1  186.7    0.0  175.6          11.3      989.6    788.9   28   \n",
              "1029   260.9  100.5   78.3  200.6           8.6      864.5    761.5   28   \n",
              "\n",
              "      strength  \n",
              "0        79.99  \n",
              "1        61.89  \n",
              "2        40.27  \n",
              "3        41.05  \n",
              "4        44.30  \n",
              "...        ...  \n",
              "1025     44.28  \n",
              "1026     31.18  \n",
              "1027     23.70  \n",
              "1028     32.77  \n",
              "1029     32.40  \n",
              "\n",
              "[1030 rows x 9 columns]"
            ]
          },
          "execution_count": 73,
          "metadata": {},
          "output_type": "execute_result"
        }
      ],
      "source": [
        "data = pd.read_csv('../Data Sets/concrete.csv')\n",
        "data"
      ]
    },
    {
      "cell_type": "code",
      "execution_count": 74,
      "metadata": {
        "id": "HnAvtJn1Ya-M"
      },
      "outputs": [],
      "source": [
        "x = data.loc[:,'cement':'age'].values\n",
        "y = data['strength'].values"
      ]
    },
    {
      "cell_type": "code",
      "execution_count": 76,
      "metadata": {},
      "outputs": [
        {
          "data": {
            "text/plain": [
              "(1030,)"
            ]
          },
          "execution_count": 76,
          "metadata": {},
          "output_type": "execute_result"
        }
      ],
      "source": [
        "y.shape"
      ]
    },
    {
      "cell_type": "markdown",
      "metadata": {
        "id": "a3www91YkTOO"
      },
      "source": [
        "## Test a Complete K-Fold CV"
      ]
    },
    {
      "cell_type": "code",
      "execution_count": 83,
      "metadata": {
        "colab": {
          "base_uri": "https://localhost:8080/"
        },
        "id": "DcMO-O2vbBMC",
        "outputId": "e7e2eb64-b02a-4762-bb05-c9ea9603c79b"
      },
      "outputs": [
        {
          "name": "stdout",
          "output_type": "stream",
          "text": [
            "The Cross-validated Mean Squared Error for Locally Weighted Regression is : 43.79910647178945\n",
            "The Cross-validated Mean Squared Error for Random Forest is : 45.82211307541025\n"
          ]
        }
      ],
      "source": [
        "mse_lwr = []\n",
        "mse_rf = []\n",
        "\n",
        "for idxtrain, idxtest in kf.split(x):\n",
        "  xtrain = x[idxtrain]\n",
        "  ytrain = y[idxtrain]\n",
        "  ytest = y[idxtest]\n",
        "  xtest = x[idxtest]\n",
        "  xtrain = scale.fit_transform(xtrain)\n",
        "  xtest = scale.transform(xtest)\n",
        "\n",
        "  yhat_lw = boosted_lwr(xtrain,ytrain,xtest)\n",
        "  \n",
        "  model_rf.fit(xtrain,ytrain)\n",
        "  yhat_rf = model_rf.predict(xtest)\n",
        "\n",
        "  mse_lwr.append(mse(ytest,yhat_lw))\n",
        "  mse_rf.append(mse(ytest,yhat_rf))\n",
        "print('The Cross-validated Mean Squared Error for Locally Weighted Regression is : '+str(np.mean(mse_lwr)))\n",
        "print('The Cross-validated Mean Squared Error for Random Forest is : '+str(np.mean(mse_rf)))"
      ]
    },
    {
      "cell_type": "markdown",
      "metadata": {
        "id": "VZ6MQtWjXeTu"
      },
      "source": [
        "## Polynomial Features - A Form of Feature Engineering\n",
        "\n",
        "This allows for more polynomially engineered features in the data. Let's see if results improve."
      ]
    },
    {
      "cell_type": "code",
      "execution_count": null,
      "metadata": {
        "id": "RUjqZiI17Dhe"
      },
      "outputs": [],
      "source": [
        "poly = PolynomialFeatures(degree=2)\n",
        "scale = StandardScaler()\n",
        "pipe = Pipeline([['zscores',scale],['Poly',poly]])"
      ]
    },
    {
      "cell_type": "code",
      "execution_count": null,
      "metadata": {
        "colab": {
          "base_uri": "https://localhost:8080/"
        },
        "id": "9hL_GmGnXISW",
        "outputId": "be6673f7-a283-40d0-9eda-e11a0ee2e6b0"
      },
      "outputs": [
        {
          "name": "stdout",
          "output_type": "stream",
          "text": [
            "MSE Fold 1 :63.80053774991302\n",
            "MSE Fold 2 :47.73682100017316\n",
            "MSE Fold 3 :43.12602069919888\n",
            "MSE Fold 4 :37.937798704824715\n",
            "MSE Fold 5 :38.87599271164445\n",
            "MSE Fold 6 :44.95975550888706\n",
            "MSE Fold 7 :57.703227331401564\n",
            "MSE Fold 8 :56.35719574743018\n",
            "MSE Fold 9 :88.60327031261076\n",
            "MSE Fold 10 :58.216548891120496\n",
            "The Cross-validated Mean Squared Error for Locally Weighted Regression is : 53.73171686572043\n"
          ]
        }
      ],
      "source": [
        "mse_lwr = []\n",
        "mse_rf = []\n",
        "kf = KFold(n_splits=10,shuffle=True,random_state=1234)\n",
        "model_rf = RandomForestRegressor(n_estimators=200,max_depth=5)\n",
        "i = 1\n",
        "for idxtrain, idxtest in kf.split(x):\n",
        "  xtrain = x[idxtrain]\n",
        "  ytrain = y[idxtrain]\n",
        "  ytest = y[idxtest]\n",
        "  xtest = x[idxtest]\n",
        "  xtrain = pipe.fit_transform(xtrain)\n",
        "  xtest = pipe.transform(xtest)\n",
        "\n",
        "  yhat_lw = boosted_lwr(xtrain,ytrain,xtest,f=25/len(xtrain),iter=1,intercept=True)\n",
        "  \n",
        "  # model_rf.fit(xtrain,ytrain)\n",
        "  # yhat_rf = model_rf.predict(xtest)\n",
        "\n",
        "  mse_lwr.append(mse(ytest,yhat_lw))\n",
        "  print('MSE Fold '+str(i)+' : '+str(mse(ytest,yhat_lw)))\n",
        "  i += 1\n",
        "  # mse_rf.append(mse(ytest,yhat_rf))\n",
        "print('The Cross-validated Mean Squared Error for Locally Weighted Regression is : '+str(np.mean(mse_lwr)))\n",
        "# print('The Cross-validated Mean Squared Error for Random Forest is : '+str(np.mean(mse_rf)))"
      ]
    },
    {
      "cell_type": "code",
      "execution_count": null,
      "metadata": {
        "id": "_7ngdoTOZQnE"
      },
      "outputs": [],
      "source": []
    }
  ],
  "metadata": {
    "colab": {
      "provenance": []
    },
    "kernelspec": {
      "display_name": "Python 3",
      "name": "python3"
    },
    "language_info": {
      "codemirror_mode": {
        "name": "ipython",
        "version": 3
      },
      "file_extension": ".py",
      "mimetype": "text/x-python",
      "name": "python",
      "nbconvert_exporter": "python",
      "pygments_lexer": "ipython3",
      "version": "3.10.12"
    }
  },
  "nbformat": 4,
  "nbformat_minor": 0
}
