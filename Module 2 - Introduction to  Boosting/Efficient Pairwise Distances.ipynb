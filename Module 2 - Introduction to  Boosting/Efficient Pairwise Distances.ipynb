{
 "cells": [
  {
   "cell_type": "markdown",
   "metadata": {},
   "source": [
    "# Example with USearch library\n",
    "\n",
    "Reference: https://github.com/unum-cloud/usearch\n",
    "\n",
    "https://www.unum.cloud/blog/2021-12-31-dbms-startups"
   ]
  },
  {
   "cell_type": "code",
   "execution_count": 1,
   "metadata": {},
   "outputs": [],
   "source": [
    "import numpy as np\n",
    "from scipy.spatial.distance import cdist\n",
    "from usearch.index import search, MetricKind, Matches, BatchMatches"
   ]
  },
  {
   "cell_type": "code",
   "execution_count": 2,
   "metadata": {},
   "outputs": [],
   "source": [
    "# Generate 10'000 random vectors with 1024 dimensions\n",
    "vectors = np.random.rand(20000, 1024).astype(np.float32)\n",
    "vector = np.random.rand(1024).astype(np.float32)\n",
    "\n",
    "# first we compute the pairwise distances between vector and the rows in vectors\n",
    "one_in_many: Matches = search(vectors, vector, vectors.shape[0], MetricKind.L2sq, exact=True)\n",
    "\n",
    "# second we compute all the pairwise distances between all the rows in vectors\n",
    "many_in_many: BatchMatches = search(vectors, vectors, vectors.shape[0], MetricKind.L2sq, exact=True)\n",
    "\n"
   ]
  },
  {
   "cell_type": "code",
   "execution_count": 29,
   "metadata": {},
   "outputs": [],
   "source": [
    "pairwise_distances1 = cdist(vectors, [vector], metric='euclidean')\n",
    "pairwise_distances2 = cdist(vectors, vectors, metric='euclidean')"
   ]
  },
  {
   "cell_type": "code",
   "execution_count": 11,
   "metadata": {},
   "outputs": [
    {
     "data": {
      "text/plain": [
       "(20000, 1024)"
      ]
     },
     "execution_count": 11,
     "metadata": {},
     "output_type": "execute_result"
    }
   ],
   "source": [
    "vectors.shape"
   ]
  },
  {
   "cell_type": "code",
   "execution_count": 7,
   "metadata": {},
   "outputs": [
    {
     "data": {
      "text/plain": [
       "array([149.06035, 149.87482, 150.19632, 150.26244, 150.34021, 150.95145,\n",
       "       151.10468, 151.19652, 151.50356, 151.5379 , 151.6048 , 151.70966,\n",
       "       151.881  , 151.93915, 152.17819, 152.43797, 152.47408, 152.60005,\n",
       "       152.62799, 152.65417, 152.67267, 152.84586, 152.9353 , 153.19278,\n",
       "       153.19736, 153.25937, 153.3535 , 153.35486, 153.47995, 153.51808],\n",
       "      dtype=float32)"
      ]
     },
     "execution_count": 7,
     "metadata": {},
     "output_type": "execute_result"
    }
   ],
   "source": [
    "one_in_many.distances"
   ]
  },
  {
   "cell_type": "code",
   "execution_count": 8,
   "metadata": {},
   "outputs": [
    {
     "data": {
      "text/plain": [
       "[(14827, 149.0603485107422),\n",
       " (11228, 149.87481689453125),\n",
       " (3879, 150.19631958007812),\n",
       " (12326, 150.26243591308594),\n",
       " (5320, 150.3402099609375),\n",
       " (135, 150.95144653320312),\n",
       " (6811, 151.10467529296875),\n",
       " (19397, 151.19651794433594),\n",
       " (16299, 151.50355529785156),\n",
       " (8123, 151.53790283203125),\n",
       " (17450, 151.60479736328125),\n",
       " (13892, 151.70965576171875),\n",
       " (3780, 151.88099670410156),\n",
       " (2249, 151.93914794921875),\n",
       " (17329, 152.17819213867188),\n",
       " (5476, 152.43797302246094),\n",
       " (16357, 152.4740753173828),\n",
       " (17636, 152.6000518798828),\n",
       " (9124, 152.62799072265625),\n",
       " (3937, 152.6541748046875),\n",
       " (11974, 152.67266845703125),\n",
       " (17005, 152.84585571289062),\n",
       " (9448, 152.935302734375),\n",
       " (6367, 153.19277954101562),\n",
       " (10898, 153.19735717773438),\n",
       " (14157, 153.25936889648438),\n",
       " (12493, 153.35350036621094),\n",
       " (16891, 153.3548583984375),\n",
       " (8456, 153.47994995117188),\n",
       " (7408, 153.51808166503906)]"
      ]
     },
     "execution_count": 8,
     "metadata": {},
     "output_type": "execute_result"
    }
   ],
   "source": [
    "one_in_many.to_list()"
   ]
  },
  {
   "cell_type": "markdown",
   "metadata": {},
   "source": [
    "# Comparison with Scipy Spatial Distance"
   ]
  },
  {
   "cell_type": "code",
   "execution_count": 12,
   "metadata": {},
   "outputs": [],
   "source": [
    "# Another example to compare with scipy spatial.distance\n",
    "# Example vectors and we pay attention to the actual values of the distances\n",
    "data = np.random.uniform(2,3,size=[10,5])\n",
    "vector2 =np.array([np.random.uniform(2,3,size=5)])"
   ]
  },
  {
   "cell_type": "code",
   "execution_count": 15,
   "metadata": {},
   "outputs": [
    {
     "name": "stdout",
     "output_type": "stream",
     "text": [
      "CPU times: user 2 µs, sys: 1 µs, total: 3 µs\n",
      "Wall time: 5.96 µs\n"
     ]
    }
   ],
   "source": [
    "%time\n",
    "result: BatchMatches = search(data, vector2, data.shape[0], MetricKind.L2sq, exact=True)"
   ]
  },
  {
   "cell_type": "code",
   "execution_count": 16,
   "metadata": {},
   "outputs": [],
   "source": [
    "# get the indeces for ordering the pairwise distances\n",
    "ind = np.array(result.to_list())[:,0].astype('int64')"
   ]
  },
  {
   "cell_type": "code",
   "execution_count": 17,
   "metadata": {},
   "outputs": [
    {
     "data": {
      "text/plain": [
       "array([8, 1, 7, 5, 9, 6, 3, 2, 0, 4])"
      ]
     },
     "execution_count": 17,
     "metadata": {},
     "output_type": "execute_result"
    }
   ],
   "source": [
    "ind"
   ]
  },
  {
   "cell_type": "code",
   "execution_count": 18,
   "metadata": {},
   "outputs": [],
   "source": [
    "d = result.distances"
   ]
  },
  {
   "cell_type": "code",
   "execution_count": 19,
   "metadata": {},
   "outputs": [
    {
     "data": {
      "text/plain": [
       "array([1.179276  , 0.52923083, 0.967594  , 0.8504675 , 1.2874043 ,\n",
       "       0.58930093, 0.80207235, 0.56880563, 0.35001096, 0.78043014],\n",
       "      dtype=float32)"
      ]
     },
     "execution_count": 19,
     "metadata": {},
     "output_type": "execute_result"
    }
   ],
   "source": [
    "np.sqrt(d)[np.argsort(ind)]"
   ]
  },
  {
   "cell_type": "markdown",
   "metadata": {},
   "source": [
    "# We compare to Scipy cdist function"
   ]
  },
  {
   "cell_type": "code",
   "execution_count": 22,
   "metadata": {},
   "outputs": [
    {
     "name": "stdout",
     "output_type": "stream",
     "text": [
      "Pairwise distances:\n",
      "[[1.17927596 1.17927599]\n",
      " [0.52923081 0.52923083]\n",
      " [0.96759402 0.96759403]\n",
      " [0.8504675  0.8504675 ]\n",
      " [1.28740426 1.2874043 ]\n",
      " [0.58930093 0.58930093]\n",
      " [0.80207232 0.80207235]\n",
      " [0.5688056  0.56880563]\n",
      " [0.35001097 0.35001096]\n",
      " [0.78043013 0.78043014]]\n"
     ]
    }
   ],
   "source": [
    "# Compute pairwise distances using Euclidean distance metric\n",
    "pairwise_distances = cdist(data, vector2, metric='euclidean')\n",
    "\n",
    "print(\"Pairwise distances:\")\n",
    "print(np.column_stack([pairwise_distances,np.sqrt(d)[np.argsort(ind)]]))"
   ]
  },
  {
   "cell_type": "code",
   "execution_count": 16,
   "metadata": {},
   "outputs": [
    {
     "data": {
      "text/plain": [
       "(10, 1)"
      ]
     },
     "execution_count": 16,
     "metadata": {},
     "output_type": "execute_result"
    }
   ],
   "source": [
    "pairwise_distances.shape"
   ]
  },
  {
   "cell_type": "markdown",
   "metadata": {},
   "source": [
    "# FAISS is dangerous\n",
    "\n",
    "...and slower than USearch."
   ]
  },
  {
   "cell_type": "code",
   "execution_count": 4,
   "metadata": {},
   "outputs": [],
   "source": [
    "import faiss"
   ]
  },
  {
   "cell_type": "code",
   "execution_count": 5,
   "metadata": {},
   "outputs": [],
   "source": [
    "# Concatenate the vectors into a single array\n",
    "all_vectors = np.concatenate((vectors, vectors), axis=0)\n",
    "\n",
    "# Initialize Faiss index\n",
    "d = all_vectors.shape[1]  # Dimension of vectors\n",
    "index = faiss.IndexFlatL2(d)  # L2 distance (Euclidean distance)\n",
    "\n",
    "# Add vectors to the index\n",
    "index.add(all_vectors)\n",
    "\n",
    "# Query for the nearest neighbors (in this case, excluding the vector itself)\n",
    "k = all_vectors.shape[0] - 1  # Return distances to all other vectors\n",
    "D, I = index.search(all_vectors, k)\n",
    "\n",
    "# The first row of D corresponds to distances from vector1 to all vectors,\n",
    "# and the second row corresponds to distances from vector2 to all vectors\n",
    "pairwise_distances = D[1]\n",
    "\n",
    "print(\"Pairwise distances:\")\n",
    "print(pairwise_distances)"
   ]
  },
  {
   "cell_type": "code",
   "execution_count": 52,
   "metadata": {},
   "outputs": [
    {
     "name": "stdout",
     "output_type": "stream",
     "text": [
      "Pairwise distances:\n",
      "[0.         0.29514208 0.30921572 0.32049134 0.32110634 0.45318595\n",
      " 0.69156986 0.7355278  0.94303757 1.1888701 ]\n"
     ]
    }
   ],
   "source": [
    "# Concatenate the vectors into a single array\n",
    "all_vectors = np.concatenate((vector1, vector2), axis=0)\n",
    "\n",
    "# Initialize Faiss index\n",
    "d = all_vectors.shape[1]  # Dimension of vectors\n",
    "index = faiss.IndexFlatL2(d)  # L2 distance (Euclidean distance)\n",
    "\n",
    "# Add vectors to the index\n",
    "index.add(all_vectors)\n",
    "\n",
    "# Query for the nearest neighbors (in this case, excluding the vector itself)\n",
    "k = all_vectors.shape[0] - 1  # Return distances to all other vectors\n",
    "D, I = index.search(all_vectors, k)\n",
    "\n",
    "# The first row of D corresponds to distances from vector1 to all vectors,\n",
    "# and the second row corresponds to distances from vector2 to all vectors\n",
    "pairwise_distances = D[1]\n",
    "\n",
    "print(\"Pairwise distances:\")\n",
    "print(pairwise_distances)\n"
   ]
  },
  {
   "cell_type": "markdown",
   "metadata": {},
   "source": [
    "# Excuse for FAISS performance\n",
    "\n",
    "https://medium.com/mlearning-ai/why-you-should-be-careful-using-faiss-c44996eda9ee"
   ]
  },
  {
   "cell_type": "code",
   "execution_count": null,
   "metadata": {},
   "outputs": [],
   "source": []
  }
 ],
 "metadata": {
  "kernelspec": {
   "display_name": "venv",
   "language": "python",
   "name": "python3"
  },
  "language_info": {
   "codemirror_mode": {
    "name": "ipython",
    "version": 3
   },
   "file_extension": ".py",
   "mimetype": "text/x-python",
   "name": "python",
   "nbconvert_exporter": "python",
   "pygments_lexer": "ipython3",
   "version": "3.10.9"
  }
 },
 "nbformat": 4,
 "nbformat_minor": 2
}
