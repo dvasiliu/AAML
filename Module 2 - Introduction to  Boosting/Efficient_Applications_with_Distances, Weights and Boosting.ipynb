{
  "cells": [
    {
      "cell_type": "code",
      "execution_count": 1,
      "metadata": {
        "id": "1ubUVEm8bA4o"
      },
      "outputs": [],
      "source": [
        "# # this block of code imports graphical libraries for plotting graphs with high resolution\n",
        "%matplotlib inline\n",
        "%config InlineBackend.figure_format = 'retina'\n",
        "import matplotlib.pyplot as plt\n",
        "import matplotlib as mpl\n",
        "mpl.rcParams['figure.dpi'] = 120"
      ]
    },
    {
      "cell_type": "code",
      "execution_count": 2,
      "metadata": {
        "id": "Wb-immanch1H"
      },
      "outputs": [],
      "source": [
        "# Libraries of functions need to be imported\n",
        "import numpy as np\n",
        "import pandas as pd\n",
        "from xgboost import XGBRegressor\n",
        "from sklearn import linear_model\n",
        "from sklearn.preprocessing import StandardScaler, MinMaxScaler\n",
        "from scipy.spatial import Delaunay\n",
        "from sklearn.ensemble import RandomForestRegressor\n",
        "from sklearn.model_selection import KFold, GridSearchCV\n",
        "from sklearn.metrics import mean_squared_error as mse\n",
        "from scipy import linalg\n",
        "from scipy.interpolate import interp1d, LinearNDInterpolator, NearestNDInterpolator\n",
        "from sklearn.decomposition import PCA\n",
        "\n",
        "from scipy.spatial.distance import cdist\n",
        "\n",
        "# the following line(s) are necessary if you want to make SKlearn compliant functions\n",
        "from sklearn.base import BaseEstimator, RegressorMixin\n",
        "from sklearn.utils.validation import check_X_y, check_array, check_is_fitted"
      ]
    },
    {
      "cell_type": "code",
      "execution_count": null,
      "metadata": {
        "id": "jbDdhEvYcsm3"
      },
      "outputs": [],
      "source": []
    },
    {
      "cell_type": "markdown",
      "metadata": {},
      "source": [
        "# Lowess with distance calculations and boosting"
      ]
    },
    {
      "cell_type": "code",
      "execution_count": 3,
      "metadata": {
        "id": "pVJN1dFl1FH1"
      },
      "outputs": [],
      "source": [
        "# Gaussian Kernel\n",
        "def Gaussian(x):\n",
        "  return np.where(np.abs(x)>4,0,1/(np.sqrt(2*np.pi))*np.exp(-1/2*x**2))"
      ]
    },
    {
      "cell_type": "code",
      "execution_count": 4,
      "metadata": {
        "id": "2rh_RP12cYwK"
      },
      "outputs": [],
      "source": [
        "# this is the correct vectorized version\n",
        "def Tricubic(x):\n",
        "  return np.where(np.abs(x)>1,0,(1-np.abs(x)**3)**3)"
      ]
    },
    {
      "cell_type": "code",
      "execution_count": 5,
      "metadata": {
        "id": "4TtZzxpteCO0"
      },
      "outputs": [],
      "source": [
        "# Epanechnikov Kernel\n",
        "def Epanechnikov(x):\n",
        "  return np.where(np.abs(x)>1,0,3/4*(1-np.abs(x)**2))"
      ]
    },
    {
      "cell_type": "code",
      "execution_count": 6,
      "metadata": {
        "id": "lZ1rmjMfywSx"
      },
      "outputs": [],
      "source": [
        "# Quartic Kernel\n",
        "def Quartic(x):\n",
        "  return np.where(np.abs(x)>1,0,15/16*(1-np.abs(x)**2)**2)"
      ]
    },
    {
      "cell_type": "markdown",
      "metadata": {
        "id": "RdKyfWvRbIDV"
      },
      "source": [
        "# Learning Objectives\n",
        "\n",
        "-  How to efficiently compute all the pairwise distances among different observations.\n",
        "- How to use the weights with the distances.\n",
        "- Test the locally weighted regressors.\n",
        "- Develop applications with boosting techniques."
      ]
    },
    {
      "cell_type": "code",
      "execution_count": 7,
      "metadata": {
        "id": "aZsASz_wbK_K"
      },
      "outputs": [],
      "source": [
        "# real data application includes cars.csv, concrete.csv and more\n",
        "data = pd.read_csv('../Data Sets/cars.csv')"
      ]
    },
    {
      "cell_type": "code",
      "execution_count": 8,
      "metadata": {
        "colab": {
          "base_uri": "https://localhost:8080/",
          "height": 444
        },
        "id": "xzKkcJwjdD3Y",
        "outputId": "4aa7c28a-115e-48db-c748-30e10baa1d42"
      },
      "outputs": [
        {
          "data": {
            "text/html": [
              "<div>\n",
              "<style scoped>\n",
              "    .dataframe tbody tr th:only-of-type {\n",
              "        vertical-align: middle;\n",
              "    }\n",
              "\n",
              "    .dataframe tbody tr th {\n",
              "        vertical-align: top;\n",
              "    }\n",
              "\n",
              "    .dataframe thead th {\n",
              "        text-align: right;\n",
              "    }\n",
              "</style>\n",
              "<table border=\"1\" class=\"dataframe\">\n",
              "  <thead>\n",
              "    <tr style=\"text-align: right;\">\n",
              "      <th></th>\n",
              "      <th>MPG</th>\n",
              "      <th>CYL</th>\n",
              "      <th>ENG</th>\n",
              "      <th>WGT</th>\n",
              "    </tr>\n",
              "  </thead>\n",
              "  <tbody>\n",
              "    <tr>\n",
              "      <th>0</th>\n",
              "      <td>18.0</td>\n",
              "      <td>8</td>\n",
              "      <td>307.0</td>\n",
              "      <td>3504</td>\n",
              "    </tr>\n",
              "    <tr>\n",
              "      <th>1</th>\n",
              "      <td>15.0</td>\n",
              "      <td>8</td>\n",
              "      <td>350.0</td>\n",
              "      <td>3693</td>\n",
              "    </tr>\n",
              "    <tr>\n",
              "      <th>2</th>\n",
              "      <td>18.0</td>\n",
              "      <td>8</td>\n",
              "      <td>318.0</td>\n",
              "      <td>3436</td>\n",
              "    </tr>\n",
              "    <tr>\n",
              "      <th>3</th>\n",
              "      <td>16.0</td>\n",
              "      <td>8</td>\n",
              "      <td>304.0</td>\n",
              "      <td>3433</td>\n",
              "    </tr>\n",
              "    <tr>\n",
              "      <th>4</th>\n",
              "      <td>17.0</td>\n",
              "      <td>8</td>\n",
              "      <td>302.0</td>\n",
              "      <td>3449</td>\n",
              "    </tr>\n",
              "    <tr>\n",
              "      <th>...</th>\n",
              "      <td>...</td>\n",
              "      <td>...</td>\n",
              "      <td>...</td>\n",
              "      <td>...</td>\n",
              "    </tr>\n",
              "    <tr>\n",
              "      <th>387</th>\n",
              "      <td>27.0</td>\n",
              "      <td>4</td>\n",
              "      <td>140.0</td>\n",
              "      <td>2790</td>\n",
              "    </tr>\n",
              "    <tr>\n",
              "      <th>388</th>\n",
              "      <td>44.0</td>\n",
              "      <td>4</td>\n",
              "      <td>97.0</td>\n",
              "      <td>2130</td>\n",
              "    </tr>\n",
              "    <tr>\n",
              "      <th>389</th>\n",
              "      <td>32.0</td>\n",
              "      <td>4</td>\n",
              "      <td>135.0</td>\n",
              "      <td>2295</td>\n",
              "    </tr>\n",
              "    <tr>\n",
              "      <th>390</th>\n",
              "      <td>28.0</td>\n",
              "      <td>4</td>\n",
              "      <td>120.0</td>\n",
              "      <td>2625</td>\n",
              "    </tr>\n",
              "    <tr>\n",
              "      <th>391</th>\n",
              "      <td>31.0</td>\n",
              "      <td>4</td>\n",
              "      <td>119.0</td>\n",
              "      <td>2720</td>\n",
              "    </tr>\n",
              "  </tbody>\n",
              "</table>\n",
              "<p>392 rows × 4 columns</p>\n",
              "</div>"
            ],
            "text/plain": [
              "      MPG  CYL    ENG   WGT\n",
              "0    18.0    8  307.0  3504\n",
              "1    15.0    8  350.0  3693\n",
              "2    18.0    8  318.0  3436\n",
              "3    16.0    8  304.0  3433\n",
              "4    17.0    8  302.0  3449\n",
              "..    ...  ...    ...   ...\n",
              "387  27.0    4  140.0  2790\n",
              "388  44.0    4   97.0  2130\n",
              "389  32.0    4  135.0  2295\n",
              "390  28.0    4  120.0  2625\n",
              "391  31.0    4  119.0  2720\n",
              "\n",
              "[392 rows x 4 columns]"
            ]
          },
          "execution_count": 8,
          "metadata": {},
          "output_type": "execute_result"
        }
      ],
      "source": [
        "data"
      ]
    },
    {
      "cell_type": "code",
      "execution_count": 9,
      "metadata": {
        "id": "TC2QKDdTdFPU"
      },
      "outputs": [],
      "source": [
        "x = data.drop(columns=['MPG']).values\n",
        "y = data['MPG'].values.reshape(-1,1)"
      ]
    },
    {
      "cell_type": "markdown",
      "metadata": {
        "id": "87l5-5tVdtJ_"
      },
      "source": [
        "## Compute all pairwise distances efficiently\n",
        "\n",
        "This means we build a general case, assuming two matrices, we want to compute all the pairwise distances between the rows of matrix 1 and the rows of matrix 2.\n",
        "\n",
        "The Euclidean distance between $\\vec{u}$ and $\\vec{v}$ is:\n",
        "\n",
        "$$\\large \\text{dist}\\left(\\vec{u},\\vec{v}\\right):= \\sqrt{\\sum(u_i-v_i)^2}$$"
      ]
    },
    {
      "cell_type": "code",
      "execution_count": null,
      "metadata": {
        "colab": {
          "base_uri": "https://localhost:8080/"
        },
        "id": "qqiFEZRSjED2",
        "outputId": "e1e14767-8c38-48c2-a66f-5ba3e0b9f0c2"
      },
      "outputs": [],
      "source": [
        "%time\n",
        "cdist(x, x[0:2], metric='euclidean')"
      ]
    },
    {
      "cell_type": "markdown",
      "metadata": {},
      "source": [
        "A better choice would be to use Usearch."
      ]
    },
    {
      "cell_type": "markdown",
      "metadata": {},
      "source": [
        "# Important"
      ]
    },
    {
      "cell_type": "code",
      "execution_count": 11,
      "metadata": {
        "id": "Yn17gvTAjpwb"
      },
      "outputs": [],
      "source": [
        "def weight_function(u,v,kern=Gaussian,tau=0.5):\n",
        "    return kern(cdist(u, v, metric='euclidean')/(2*tau))"
      ]
    },
    {
      "cell_type": "markdown",
      "metadata": {},
      "source": [
        "## Scaling is very important for Locally Weighted Regression"
      ]
    },
    {
      "cell_type": "code",
      "execution_count": 12,
      "metadata": {},
      "outputs": [],
      "source": [
        "# we show now the effect of scaling onto the data\n",
        "scale = MinMaxScaler()"
      ]
    },
    {
      "cell_type": "code",
      "execution_count": null,
      "metadata": {
        "id": "nRpga6zKjTO8"
      },
      "outputs": [],
      "source": [
        "# Example of the weights matrix if we used all the data\n",
        "# provided that you have defined xtrain and xtest\n",
        "W = weight_function(scale.fit_transform(xtrain),scale.transform(xtest),kern=Tricubic,tau=0.3)"
      ]
    },
    {
      "cell_type": "markdown",
      "metadata": {},
      "source": [
        "# The Lowess Class - Version without Triangulation"
      ]
    },
    {
      "cell_type": "code",
      "execution_count": 14,
      "metadata": {
        "id": "s73EG_FGkefQ"
      },
      "outputs": [],
      "source": [
        "class Lowess:\n",
        "    def __init__(self, kernel = Gaussian, tau=0.05):\n",
        "        self.kernel = kernel\n",
        "        self.tau = tau\n",
        "\n",
        "    def fit(self, x, y):\n",
        "        kernel = self.kernel\n",
        "        tau = self.tau\n",
        "        self.xtrain_ = x\n",
        "        self.yhat_ = y\n",
        "\n",
        "    def predict(self, x_new):\n",
        "        check_is_fitted(self)\n",
        "        x = self.xtrain_\n",
        "        y = self.yhat_\n",
        "        lm = linear_model.Ridge(alpha=0.001)\n",
        "        w = weight_function(x,x_new,self.kernel,self.tau)\n",
        "\n",
        "        if np.isscalar(x_new):\n",
        "          lm.fit(np.diag(w)@(x.reshape(-1,1)),np.diag(w)@(y.reshape(-1,1)))\n",
        "          yest = lm.predict([[x_new]])[0][0]\n",
        "        else:\n",
        "          n = len(x_new)\n",
        "          yest_test = []\n",
        "          #Looping through all x-points\n",
        "          for i in range(n):\n",
        "            lm.fit(np.diag(w[:,i])@x,np.diag(w[:,i])@y)\n",
        "            yest_test.append(lm.predict([x_new[i]]))\n",
        "        return np.array(yest_test).flatten()"
      ]
    },
    {
      "cell_type": "markdown",
      "metadata": {},
      "source": [
        "# We benchmark on a complete k-Fold cross-validation"
      ]
    },
    {
      "cell_type": "code",
      "execution_count": 16,
      "metadata": {
        "colab": {
          "base_uri": "https://localhost:8080/"
        },
        "id": "Pv7EDClIn7Y7",
        "outputId": "b9b4782b-2db7-47f4-bb88-49746dd8ea38"
      },
      "outputs": [
        {
          "name": "stdout",
          "output_type": "stream",
          "text": [
            "The Cross-validated Mean Squared Error for Locally Weighted Regression is : 16.455751824171323\n",
            "The Cross-validated Mean Squared Error for Random Forest is : 17.691805463792996\n"
          ]
        }
      ],
      "source": [
        "mse_lwr = []\n",
        "mse_rf = []\n",
        "kf = KFold(n_splits=10,shuffle=True,random_state=1234)\n",
        "model_rf = RandomForestRegressor(n_estimators=200,max_depth=7)\n",
        "# model_lw = Lowess_AG_MD(f=1/3,iter=2,intercept=True)\n",
        "model_lw = Lowess(kernel= Epanechnikov,tau=0.14)\n",
        "\n",
        "for idxtrain, idxtest in kf.split(x):\n",
        "  xtrain = x[idxtrain]\n",
        "  ytrain = y[idxtrain].ravel()\n",
        "  ytest = y[idxtest].ravel()\n",
        "  xtest = x[idxtest]\n",
        "  xtrain = scale.fit_transform(xtrain)\n",
        "  xtest = scale.transform(xtest)\n",
        "\n",
        "  model_lw.fit(xtrain,ytrain)\n",
        "  yhat_lw = model_lw.predict(xtest)\n",
        "\n",
        "  model_rf.fit(xtrain,ytrain)\n",
        "  yhat_rf = model_rf.predict(xtest)\n",
        "\n",
        "  mse_lwr.append(mse(ytest,yhat_lw))\n",
        "  mse_rf.append(mse(ytest,yhat_rf))\n",
        "print('The Cross-validated Mean Squared Error for Locally Weighted Regression is : '+str(np.mean(mse_lwr)))\n",
        "print('The Cross-validated Mean Squared Error for Random Forest is : '+str(np.mean(mse_rf)))"
      ]
    },
    {
      "cell_type": "code",
      "execution_count": 37,
      "metadata": {
        "id": "_opnPB27opDD"
      },
      "outputs": [],
      "source": [
        "scale = MinMaxScaler()"
      ]
    },
    {
      "cell_type": "markdown",
      "metadata": {
        "id": "CPW9-6zgqTMp"
      },
      "source": [
        "# Boosting Applications\n",
        "\n",
        "We implement Gradient Boosting\n",
        "\n",
        "In plain words:\n",
        "\n",
        " - you fit the model1 on the train\n",
        " - you obtain the residuals from predicting the ytrain\n",
        " - you fit another model on the xtrain and the residuals of model1: i.e. model2.fit(xtrain,residuals_train)\n",
        " - you predict the xtest by using (model1 + model2).predict(xtest)"
      ]
    },
    {
      "cell_type": "markdown",
      "metadata": {},
      "source": [
        "## Work with Different Implementations of Locally Weighted Regression"
      ]
    },
    {
      "cell_type": "code",
      "execution_count": 45,
      "metadata": {},
      "outputs": [],
      "source": [
        "def lw_ag_md(x, y, xnew,f=2/3,iter=3, intercept=True):\n",
        "\n",
        "  n = len(x)\n",
        "  r = int(np.ceil(f * n))\n",
        "  yest = np.zeros(n)\n",
        "\n",
        "  if len(y.shape)==1: # here we make column vectors\n",
        "    y = y.reshape(-1,1)\n",
        "\n",
        "  if len(x.shape)==1:\n",
        "    x = x.reshape(-1,1)\n",
        "\n",
        "  if intercept:\n",
        "    x1 = np.column_stack([np.ones((len(x),1)),x])\n",
        "  else:\n",
        "    x1 = x\n",
        "\n",
        "  def dist(u,v):\n",
        "    if len(v.shape)==1:\n",
        "      v = v.reshape(1,-1)\n",
        "      d = np.sqrt(np.sum((u-v)**2,axis=1))\n",
        "    else:\n",
        "      d = np.array([np.sqrt(np.sum((u-v[i])**2,axis=1)) for i in range(len(v))])\n",
        "    return d\n",
        "\n",
        "  h = [np.sort(np.sqrt(np.sum((x-x[i])**2,axis=1)))[r] for i in range(n)]\n",
        "  # dist(x,x) is always symmetric\n",
        "  w = np.clip(dist(x,x) / h, 0.0, 1.0)\n",
        "  w = (1 - w ** 3) ** 3\n",
        "\n",
        "  #Looping through all X-points\n",
        "  delta = np.ones(n)\n",
        "  for iteration in range(iter):\n",
        "    for i in range(n):\n",
        "      W = np.diag(delta).dot(np.diag(w[i,:]))\n",
        "      # when we multiply two diagional matrices we get also a diagonal matrix\n",
        "      b = np.transpose(x1).dot(W).dot(y)\n",
        "      A = np.transpose(x1).dot(W).dot(x1)\n",
        "      ##\n",
        "      A = A + 0.0001*np.eye(x1.shape[1]) # if we want L2 regularization\n",
        "      beta = linalg.solve(A, b)\n",
        "      #beta, res, rnk, s = linalg.lstsq(A, b)\n",
        "      yest[i] = np.dot(x1[i],beta)[0]\n",
        "\n",
        "    residuals = y.ravel() - yest\n",
        "    s = np.median(np.abs(residuals))\n",
        "\n",
        "    delta = np.clip(residuals / (6.0 * s), -1, 1)\n",
        "\n",
        "    delta = (1 - delta ** 2) ** 2\n",
        "\n",
        "  if x.shape[1]==1:\n",
        "    f = interp1d(x.flatten(),yest,fill_value='extrapolate')\n",
        "    output = f(xnew)\n",
        "  else:\n",
        "    output = np.zeros(len(xnew))\n",
        "    for i in range(len(xnew)):\n",
        "      ind = np.argsort(np.sqrt(np.sum((x-xnew[i])**2,axis=1)))[:r]\n",
        "      pca = PCA(n_components=2)\n",
        "      x_pca = pca.fit_transform(x[ind])\n",
        "      tri = Delaunay(x_pca,qhull_options='QJ')\n",
        "      f = LinearNDInterpolator(tri,yest[ind])\n",
        "      output[i] = f(pca.transform(xnew[i].reshape(1,-1))).flatten()[0] # the output may have NaN's where the data points from xnew are outside the convex hull of X\n",
        "  if sum(np.isnan(output))>0:\n",
        "    g = NearestNDInterpolator(x,y.ravel())\n",
        "    # output[np.isnan(output)] = g(X[np.isnan(output)])\n",
        "    output[np.isnan(output)] = g(xnew[np.isnan(output)]).flatten()[0]\n",
        "  return output"
      ]
    },
    {
      "cell_type": "code",
      "execution_count": 46,
      "metadata": {},
      "outputs": [],
      "source": [
        "class Lowess_AG_MD:\n",
        "    def __init__(self, f = 1/10, iter = 3,intercept=True):\n",
        "        self.f = f\n",
        "        self.iter = iter\n",
        "        self.intercept = intercept\n",
        "\n",
        "    def fit(self, x, y):\n",
        "        f = self.f\n",
        "        iter = self.iter\n",
        "        self.xtrain_ = x\n",
        "        self.yhat_ = y\n",
        "\n",
        "    def predict(self, x_new):\n",
        "        check_is_fitted(self)\n",
        "        x = self.xtrain_\n",
        "        y = self.yhat_\n",
        "        f = self.f\n",
        "        iter = self.iter\n",
        "        intercept = self.intercept\n",
        "        return lw_ag_md(x, y, x_new, f, iter, intercept) # this is actually our defined function of Lowess\n",
        "\n",
        "    def get_params(self, deep=True):\n",
        "    # suppose this estimator has parameters \"f\", \"iter\" and \"intercept\"\n",
        "        return {\"f\": self.f, \"iter\": self.iter,\"intercept\":self.intercept}\n",
        "\n",
        "    def set_params(self, **parameters):\n",
        "        for parameter, value in parameters.items():\n",
        "            setattr(self, parameter, value)\n",
        "        return self"
      ]
    },
    {
      "cell_type": "code",
      "execution_count": 52,
      "metadata": {
        "id": "AZGjUXNKsOZ9"
      },
      "outputs": [
        {
          "name": "stdout",
          "output_type": "stream",
          "text": [
            "The Cross-validated Mean Squared Error for Locally Weighted Regression is : 16.435142867293514\n",
            "The Cross-validated Mean Squared Error for Random Forest is : 15.66650408467198\n"
          ]
        }
      ],
      "source": [
        "mse_lwr = []\n",
        "mse_rf = []\n",
        "kf = KFold(n_splits=10,shuffle=True,random_state=1234)\n",
        "model_rf = RandomForestRegressor(n_estimators=200,max_depth=7)\n",
        "#model_rf = XGBRegressor(objective ='reg:squarederror',n_estimators=100,reg_lambda=20,alpha=1,gamma=10,max_depth=3)\n",
        "# model_lw = Lowess_AG_MD(f=1/3,iter=2,intercept=True)\n",
        "model_1 = Lowess(kernel= Epanechnikov,tau=0.14)\n",
        "model_2 = Lowess(kernel= Gaussian,tau=0.2)\n",
        "#model_2 = Lowess_AG_MD(f=1/3,iter=2,intercept=True)\n",
        "\n",
        "for idxtrain, idxtest in kf.split(x):\n",
        "  xtrain = x[idxtrain]\n",
        "  ytrain = y[idxtrain].ravel()\n",
        "  ytest = y[idxtest].ravel()\n",
        "  xtest = x[idxtest]\n",
        "  xtrain = scale.fit_transform(xtrain)\n",
        "  xtest = scale.transform(xtest)\n",
        "\n",
        "  model_1.fit(xtrain,ytrain)\n",
        "  yhat_train = model_1.predict(xtrain)\n",
        "  residuals_train = ytrain - yhat_train\n",
        "  model_2.fit(xtrain,residuals_train)\n",
        "  residuals_hat = model_2.predict(xtest)\n",
        "  yhat_lw = model_1.predict(xtest) + model_2.predict(xtest)\n",
        "\n",
        "  model_rf.fit(xtrain,ytrain)\n",
        "  yhat_rf = model_rf.predict(xtest)\n",
        "\n",
        "  mse_lwr.append(mse(ytest,yhat_lw))\n",
        "  mse_rf.append(mse(ytest,yhat_rf))\n",
        "print('The Cross-validated Mean Squared Error for Locally Weighted Regression is : '+str(np.mean(mse_lwr)))\n",
        "print('The Cross-validated Mean Squared Error for a DT-based method: '+str(np.mean(mse_rf)))"
      ]
    },
    {
      "cell_type": "code",
      "execution_count": 48,
      "metadata": {},
      "outputs": [],
      "source": []
    },
    {
      "cell_type": "code",
      "execution_count": null,
      "metadata": {},
      "outputs": [],
      "source": []
    }
  ],
  "metadata": {
    "colab": {
      "provenance": []
    },
    "kernelspec": {
      "display_name": "Python 3",
      "name": "python3"
    },
    "language_info": {
      "codemirror_mode": {
        "name": "ipython",
        "version": 3
      },
      "file_extension": ".py",
      "mimetype": "text/x-python",
      "name": "python",
      "nbconvert_exporter": "python",
      "pygments_lexer": "ipython3",
      "version": "3.10.12"
    }
  },
  "nbformat": 4,
  "nbformat_minor": 0
}
