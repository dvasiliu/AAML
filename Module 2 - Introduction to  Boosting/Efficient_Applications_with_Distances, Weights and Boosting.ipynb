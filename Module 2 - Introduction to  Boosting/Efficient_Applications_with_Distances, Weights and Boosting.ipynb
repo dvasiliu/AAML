{
  "cells": [
    {
      "cell_type": "code",
      "execution_count": null,
      "metadata": {
        "id": "1ubUVEm8bA4o"
      },
      "outputs": [],
      "source": [
        "# # this block of code imports graphical libraries for plotting graphs with high resolution\n",
        "%matplotlib inline\n",
        "%config InlineBackend.figure_format = 'retina'\n",
        "import matplotlib.pyplot as plt\n",
        "import matplotlib as mpl\n",
        "mpl.rcParams['figure.dpi'] = 120"
      ]
    },
    {
      "cell_type": "code",
      "execution_count": null,
      "metadata": {
        "id": "Wb-immanch1H"
      },
      "outputs": [],
      "source": [
        "# Libraries of functions need to be imported\n",
        "import numpy as np\n",
        "import pandas as pd\n",
        "from sklearn import linear_model\n",
        "from sklearn.preprocessing import StandardScaler, MinMaxScaler\n",
        "from scipy.spatial import Delaunay\n",
        "from sklearn.ensemble import RandomForestRegressor\n",
        "from sklearn.model_selection import KFold, GridSearchCV\n",
        "from sklearn.metrics import mean_squared_error as mse\n",
        "from scipy import linalg\n",
        "from scipy.interpolate import interp1d, LinearNDInterpolator, NearestNDInterpolator\n",
        "from sklearn.decomposition import PCA\n",
        "\n",
        "# the following line(s) are necessary if you want to make SKlearn compliant functions\n",
        "from sklearn.base import BaseEstimator, RegressorMixin\n",
        "from sklearn.utils.validation import check_X_y, check_array, check_is_fitted"
      ]
    },
    {
      "cell_type": "code",
      "execution_count": null,
      "metadata": {
        "id": "jbDdhEvYcsm3"
      },
      "outputs": [],
      "source": []
    },
    {
      "cell_type": "code",
      "execution_count": null,
      "metadata": {
        "id": "pVJN1dFl1FH1"
      },
      "outputs": [],
      "source": [
        "# Gaussian Kernel\n",
        "def Gaussian(x):\n",
        "  return np.where(np.abs(x)>4,0,1/(np.sqrt(2*np.pi))*np.exp(-1/2*x**2))"
      ]
    },
    {
      "cell_type": "code",
      "execution_count": null,
      "metadata": {
        "id": "2rh_RP12cYwK"
      },
      "outputs": [],
      "source": [
        "# this is the correct vectorized version\n",
        "def Tricubic(x):\n",
        "  return np.where(np.abs(x)>1,0,(1-np.abs(x)**3)**3)"
      ]
    },
    {
      "cell_type": "code",
      "execution_count": null,
      "metadata": {
        "id": "4TtZzxpteCO0"
      },
      "outputs": [],
      "source": [
        "# Epanechnikov Kernel\n",
        "def Epanechnikov(x):\n",
        "  return np.where(np.abs(x)>1,0,3/4*(1-np.abs(x)**2))"
      ]
    },
    {
      "cell_type": "code",
      "execution_count": null,
      "metadata": {
        "id": "lZ1rmjMfywSx"
      },
      "outputs": [],
      "source": [
        "# Quartic Kernel\n",
        "def Quartic(x):\n",
        "  return np.where(np.abs(x)>1,0,15/16*(1-np.abs(x)**2)**2)"
      ]
    },
    {
      "cell_type": "markdown",
      "metadata": {
        "id": "RdKyfWvRbIDV"
      },
      "source": [
        "# Learning Objectives\n",
        "\n",
        "-  How to efficiently compute all the pairwise distances among different observations.\n",
        "- How to use the weights with the distances.\n",
        "- Test the locally weighted regressors.\n",
        "- We want to see how to boost their performance; this means boosting, such as gradient boosting."
      ]
    },
    {
      "cell_type": "code",
      "execution_count": null,
      "metadata": {
        "id": "aZsASz_wbK_K"
      },
      "outputs": [],
      "source": [
        "# real data application includes cars.csv, concrete.csv and more\n",
        "data = pd.read_csv('drive/MyDrive/Data Sets/cars.csv')"
      ]
    },
    {
      "cell_type": "code",
      "execution_count": null,
      "metadata": {
        "colab": {
          "base_uri": "https://localhost:8080/",
          "height": 444
        },
        "id": "xzKkcJwjdD3Y",
        "outputId": "4aa7c28a-115e-48db-c748-30e10baa1d42"
      },
      "outputs": [
        {
          "data": {
            "text/html": [
              "\n",
              "  <div id=\"df-31001d3f-4137-4866-aee0-89b162e4872c\" class=\"colab-df-container\">\n",
              "    <div>\n",
              "<style scoped>\n",
              "    .dataframe tbody tr th:only-of-type {\n",
              "        vertical-align: middle;\n",
              "    }\n",
              "\n",
              "    .dataframe tbody tr th {\n",
              "        vertical-align: top;\n",
              "    }\n",
              "\n",
              "    .dataframe thead th {\n",
              "        text-align: right;\n",
              "    }\n",
              "</style>\n",
              "<table border=\"1\" class=\"dataframe\">\n",
              "  <thead>\n",
              "    <tr style=\"text-align: right;\">\n",
              "      <th></th>\n",
              "      <th>MPG</th>\n",
              "      <th>CYL</th>\n",
              "      <th>ENG</th>\n",
              "      <th>WGT</th>\n",
              "    </tr>\n",
              "  </thead>\n",
              "  <tbody>\n",
              "    <tr>\n",
              "      <th>0</th>\n",
              "      <td>18.0</td>\n",
              "      <td>8</td>\n",
              "      <td>307.0</td>\n",
              "      <td>3504</td>\n",
              "    </tr>\n",
              "    <tr>\n",
              "      <th>1</th>\n",
              "      <td>15.0</td>\n",
              "      <td>8</td>\n",
              "      <td>350.0</td>\n",
              "      <td>3693</td>\n",
              "    </tr>\n",
              "    <tr>\n",
              "      <th>2</th>\n",
              "      <td>18.0</td>\n",
              "      <td>8</td>\n",
              "      <td>318.0</td>\n",
              "      <td>3436</td>\n",
              "    </tr>\n",
              "    <tr>\n",
              "      <th>3</th>\n",
              "      <td>16.0</td>\n",
              "      <td>8</td>\n",
              "      <td>304.0</td>\n",
              "      <td>3433</td>\n",
              "    </tr>\n",
              "    <tr>\n",
              "      <th>4</th>\n",
              "      <td>17.0</td>\n",
              "      <td>8</td>\n",
              "      <td>302.0</td>\n",
              "      <td>3449</td>\n",
              "    </tr>\n",
              "    <tr>\n",
              "      <th>...</th>\n",
              "      <td>...</td>\n",
              "      <td>...</td>\n",
              "      <td>...</td>\n",
              "      <td>...</td>\n",
              "    </tr>\n",
              "    <tr>\n",
              "      <th>387</th>\n",
              "      <td>27.0</td>\n",
              "      <td>4</td>\n",
              "      <td>140.0</td>\n",
              "      <td>2790</td>\n",
              "    </tr>\n",
              "    <tr>\n",
              "      <th>388</th>\n",
              "      <td>44.0</td>\n",
              "      <td>4</td>\n",
              "      <td>97.0</td>\n",
              "      <td>2130</td>\n",
              "    </tr>\n",
              "    <tr>\n",
              "      <th>389</th>\n",
              "      <td>32.0</td>\n",
              "      <td>4</td>\n",
              "      <td>135.0</td>\n",
              "      <td>2295</td>\n",
              "    </tr>\n",
              "    <tr>\n",
              "      <th>390</th>\n",
              "      <td>28.0</td>\n",
              "      <td>4</td>\n",
              "      <td>120.0</td>\n",
              "      <td>2625</td>\n",
              "    </tr>\n",
              "    <tr>\n",
              "      <th>391</th>\n",
              "      <td>31.0</td>\n",
              "      <td>4</td>\n",
              "      <td>119.0</td>\n",
              "      <td>2720</td>\n",
              "    </tr>\n",
              "  </tbody>\n",
              "</table>\n",
              "<p>392 rows × 4 columns</p>\n",
              "</div>\n",
              "    <div class=\"colab-df-buttons\">\n",
              "\n",
              "  <div class=\"colab-df-container\">\n",
              "    <button class=\"colab-df-convert\" onclick=\"convertToInteractive('df-31001d3f-4137-4866-aee0-89b162e4872c')\"\n",
              "            title=\"Convert this dataframe to an interactive table.\"\n",
              "            style=\"display:none;\">\n",
              "\n",
              "  <svg xmlns=\"http://www.w3.org/2000/svg\" height=\"24px\" viewBox=\"0 -960 960 960\">\n",
              "    <path d=\"M120-120v-720h720v720H120Zm60-500h600v-160H180v160Zm220 220h160v-160H400v160Zm0 220h160v-160H400v160ZM180-400h160v-160H180v160Zm440 0h160v-160H620v160ZM180-180h160v-160H180v160Zm440 0h160v-160H620v160Z\"/>\n",
              "  </svg>\n",
              "    </button>\n",
              "\n",
              "  <style>\n",
              "    .colab-df-container {\n",
              "      display:flex;\n",
              "      gap: 12px;\n",
              "    }\n",
              "\n",
              "    .colab-df-convert {\n",
              "      background-color: #E8F0FE;\n",
              "      border: none;\n",
              "      border-radius: 50%;\n",
              "      cursor: pointer;\n",
              "      display: none;\n",
              "      fill: #1967D2;\n",
              "      height: 32px;\n",
              "      padding: 0 0 0 0;\n",
              "      width: 32px;\n",
              "    }\n",
              "\n",
              "    .colab-df-convert:hover {\n",
              "      background-color: #E2EBFA;\n",
              "      box-shadow: 0px 1px 2px rgba(60, 64, 67, 0.3), 0px 1px 3px 1px rgba(60, 64, 67, 0.15);\n",
              "      fill: #174EA6;\n",
              "    }\n",
              "\n",
              "    .colab-df-buttons div {\n",
              "      margin-bottom: 4px;\n",
              "    }\n",
              "\n",
              "    [theme=dark] .colab-df-convert {\n",
              "      background-color: #3B4455;\n",
              "      fill: #D2E3FC;\n",
              "    }\n",
              "\n",
              "    [theme=dark] .colab-df-convert:hover {\n",
              "      background-color: #434B5C;\n",
              "      box-shadow: 0px 1px 3px 1px rgba(0, 0, 0, 0.15);\n",
              "      filter: drop-shadow(0px 1px 2px rgba(0, 0, 0, 0.3));\n",
              "      fill: #FFFFFF;\n",
              "    }\n",
              "  </style>\n",
              "\n",
              "    <script>\n",
              "      const buttonEl =\n",
              "        document.querySelector('#df-31001d3f-4137-4866-aee0-89b162e4872c button.colab-df-convert');\n",
              "      buttonEl.style.display =\n",
              "        google.colab.kernel.accessAllowed ? 'block' : 'none';\n",
              "\n",
              "      async function convertToInteractive(key) {\n",
              "        const element = document.querySelector('#df-31001d3f-4137-4866-aee0-89b162e4872c');\n",
              "        const dataTable =\n",
              "          await google.colab.kernel.invokeFunction('convertToInteractive',\n",
              "                                                    [key], {});\n",
              "        if (!dataTable) return;\n",
              "\n",
              "        const docLinkHtml = 'Like what you see? Visit the ' +\n",
              "          '<a target=\"_blank\" href=https://colab.research.google.com/notebooks/data_table.ipynb>data table notebook</a>'\n",
              "          + ' to learn more about interactive tables.';\n",
              "        element.innerHTML = '';\n",
              "        dataTable['output_type'] = 'display_data';\n",
              "        await google.colab.output.renderOutput(dataTable, element);\n",
              "        const docLink = document.createElement('div');\n",
              "        docLink.innerHTML = docLinkHtml;\n",
              "        element.appendChild(docLink);\n",
              "      }\n",
              "    </script>\n",
              "  </div>\n",
              "\n",
              "\n",
              "<div id=\"df-874118f7-78dd-4165-89b1-2dbc8f303f9e\">\n",
              "  <button class=\"colab-df-quickchart\" onclick=\"quickchart('df-874118f7-78dd-4165-89b1-2dbc8f303f9e')\"\n",
              "            title=\"Suggest charts\"\n",
              "            style=\"display:none;\">\n",
              "\n",
              "<svg xmlns=\"http://www.w3.org/2000/svg\" height=\"24px\"viewBox=\"0 0 24 24\"\n",
              "     width=\"24px\">\n",
              "    <g>\n",
              "        <path d=\"M19 3H5c-1.1 0-2 .9-2 2v14c0 1.1.9 2 2 2h14c1.1 0 2-.9 2-2V5c0-1.1-.9-2-2-2zM9 17H7v-7h2v7zm4 0h-2V7h2v10zm4 0h-2v-4h2v4z\"/>\n",
              "    </g>\n",
              "</svg>\n",
              "  </button>\n",
              "\n",
              "<style>\n",
              "  .colab-df-quickchart {\n",
              "      --bg-color: #E8F0FE;\n",
              "      --fill-color: #1967D2;\n",
              "      --hover-bg-color: #E2EBFA;\n",
              "      --hover-fill-color: #174EA6;\n",
              "      --disabled-fill-color: #AAA;\n",
              "      --disabled-bg-color: #DDD;\n",
              "  }\n",
              "\n",
              "  [theme=dark] .colab-df-quickchart {\n",
              "      --bg-color: #3B4455;\n",
              "      --fill-color: #D2E3FC;\n",
              "      --hover-bg-color: #434B5C;\n",
              "      --hover-fill-color: #FFFFFF;\n",
              "      --disabled-bg-color: #3B4455;\n",
              "      --disabled-fill-color: #666;\n",
              "  }\n",
              "\n",
              "  .colab-df-quickchart {\n",
              "    background-color: var(--bg-color);\n",
              "    border: none;\n",
              "    border-radius: 50%;\n",
              "    cursor: pointer;\n",
              "    display: none;\n",
              "    fill: var(--fill-color);\n",
              "    height: 32px;\n",
              "    padding: 0;\n",
              "    width: 32px;\n",
              "  }\n",
              "\n",
              "  .colab-df-quickchart:hover {\n",
              "    background-color: var(--hover-bg-color);\n",
              "    box-shadow: 0 1px 2px rgba(60, 64, 67, 0.3), 0 1px 3px 1px rgba(60, 64, 67, 0.15);\n",
              "    fill: var(--button-hover-fill-color);\n",
              "  }\n",
              "\n",
              "  .colab-df-quickchart-complete:disabled,\n",
              "  .colab-df-quickchart-complete:disabled:hover {\n",
              "    background-color: var(--disabled-bg-color);\n",
              "    fill: var(--disabled-fill-color);\n",
              "    box-shadow: none;\n",
              "  }\n",
              "\n",
              "  .colab-df-spinner {\n",
              "    border: 2px solid var(--fill-color);\n",
              "    border-color: transparent;\n",
              "    border-bottom-color: var(--fill-color);\n",
              "    animation:\n",
              "      spin 1s steps(1) infinite;\n",
              "  }\n",
              "\n",
              "  @keyframes spin {\n",
              "    0% {\n",
              "      border-color: transparent;\n",
              "      border-bottom-color: var(--fill-color);\n",
              "      border-left-color: var(--fill-color);\n",
              "    }\n",
              "    20% {\n",
              "      border-color: transparent;\n",
              "      border-left-color: var(--fill-color);\n",
              "      border-top-color: var(--fill-color);\n",
              "    }\n",
              "    30% {\n",
              "      border-color: transparent;\n",
              "      border-left-color: var(--fill-color);\n",
              "      border-top-color: var(--fill-color);\n",
              "      border-right-color: var(--fill-color);\n",
              "    }\n",
              "    40% {\n",
              "      border-color: transparent;\n",
              "      border-right-color: var(--fill-color);\n",
              "      border-top-color: var(--fill-color);\n",
              "    }\n",
              "    60% {\n",
              "      border-color: transparent;\n",
              "      border-right-color: var(--fill-color);\n",
              "    }\n",
              "    80% {\n",
              "      border-color: transparent;\n",
              "      border-right-color: var(--fill-color);\n",
              "      border-bottom-color: var(--fill-color);\n",
              "    }\n",
              "    90% {\n",
              "      border-color: transparent;\n",
              "      border-bottom-color: var(--fill-color);\n",
              "    }\n",
              "  }\n",
              "</style>\n",
              "\n",
              "  <script>\n",
              "    async function quickchart(key) {\n",
              "      const quickchartButtonEl =\n",
              "        document.querySelector('#' + key + ' button');\n",
              "      quickchartButtonEl.disabled = true;  // To prevent multiple clicks.\n",
              "      quickchartButtonEl.classList.add('colab-df-spinner');\n",
              "      try {\n",
              "        const charts = await google.colab.kernel.invokeFunction(\n",
              "            'suggestCharts', [key], {});\n",
              "      } catch (error) {\n",
              "        console.error('Error during call to suggestCharts:', error);\n",
              "      }\n",
              "      quickchartButtonEl.classList.remove('colab-df-spinner');\n",
              "      quickchartButtonEl.classList.add('colab-df-quickchart-complete');\n",
              "    }\n",
              "    (() => {\n",
              "      let quickchartButtonEl =\n",
              "        document.querySelector('#df-874118f7-78dd-4165-89b1-2dbc8f303f9e button');\n",
              "      quickchartButtonEl.style.display =\n",
              "        google.colab.kernel.accessAllowed ? 'block' : 'none';\n",
              "    })();\n",
              "  </script>\n",
              "</div>\n",
              "\n",
              "  <div id=\"id_57a5f0cd-3577-4ac1-84d9-cbeabe9c95df\">\n",
              "    <style>\n",
              "      .colab-df-generate {\n",
              "        background-color: #E8F0FE;\n",
              "        border: none;\n",
              "        border-radius: 50%;\n",
              "        cursor: pointer;\n",
              "        display: none;\n",
              "        fill: #1967D2;\n",
              "        height: 32px;\n",
              "        padding: 0 0 0 0;\n",
              "        width: 32px;\n",
              "      }\n",
              "\n",
              "      .colab-df-generate:hover {\n",
              "        background-color: #E2EBFA;\n",
              "        box-shadow: 0px 1px 2px rgba(60, 64, 67, 0.3), 0px 1px 3px 1px rgba(60, 64, 67, 0.15);\n",
              "        fill: #174EA6;\n",
              "      }\n",
              "\n",
              "      [theme=dark] .colab-df-generate {\n",
              "        background-color: #3B4455;\n",
              "        fill: #D2E3FC;\n",
              "      }\n",
              "\n",
              "      [theme=dark] .colab-df-generate:hover {\n",
              "        background-color: #434B5C;\n",
              "        box-shadow: 0px 1px 3px 1px rgba(0, 0, 0, 0.15);\n",
              "        filter: drop-shadow(0px 1px 2px rgba(0, 0, 0, 0.3));\n",
              "        fill: #FFFFFF;\n",
              "      }\n",
              "    </style>\n",
              "    <button class=\"colab-df-generate\" onclick=\"generateWithVariable('data')\"\n",
              "            title=\"Generate code using this dataframe.\"\n",
              "            style=\"display:none;\">\n",
              "\n",
              "  <svg xmlns=\"http://www.w3.org/2000/svg\" height=\"24px\"viewBox=\"0 0 24 24\"\n",
              "       width=\"24px\">\n",
              "    <path d=\"M7,19H8.4L18.45,9,17,7.55,7,17.6ZM5,21V16.75L18.45,3.32a2,2,0,0,1,2.83,0l1.4,1.43a1.91,1.91,0,0,1,.58,1.4,1.91,1.91,0,0,1-.58,1.4L9.25,21ZM18.45,9,17,7.55Zm-12,3A5.31,5.31,0,0,0,4.9,8.1,5.31,5.31,0,0,0,1,6.5,5.31,5.31,0,0,0,4.9,4.9,5.31,5.31,0,0,0,6.5,1,5.31,5.31,0,0,0,8.1,4.9,5.31,5.31,0,0,0,12,6.5,5.46,5.46,0,0,0,6.5,12Z\"/>\n",
              "  </svg>\n",
              "    </button>\n",
              "    <script>\n",
              "      (() => {\n",
              "      const buttonEl =\n",
              "        document.querySelector('#id_57a5f0cd-3577-4ac1-84d9-cbeabe9c95df button.colab-df-generate');\n",
              "      buttonEl.style.display =\n",
              "        google.colab.kernel.accessAllowed ? 'block' : 'none';\n",
              "\n",
              "      buttonEl.onclick = () => {\n",
              "        google.colab.notebook.generateWithVariable('data');\n",
              "      }\n",
              "      })();\n",
              "    </script>\n",
              "  </div>\n",
              "\n",
              "    </div>\n",
              "  </div>\n"
            ],
            "text/plain": [
              "      MPG  CYL    ENG   WGT\n",
              "0    18.0    8  307.0  3504\n",
              "1    15.0    8  350.0  3693\n",
              "2    18.0    8  318.0  3436\n",
              "3    16.0    8  304.0  3433\n",
              "4    17.0    8  302.0  3449\n",
              "..    ...  ...    ...   ...\n",
              "387  27.0    4  140.0  2790\n",
              "388  44.0    4   97.0  2130\n",
              "389  32.0    4  135.0  2295\n",
              "390  28.0    4  120.0  2625\n",
              "391  31.0    4  119.0  2720\n",
              "\n",
              "[392 rows x 4 columns]"
            ]
          },
          "execution_count": 8,
          "metadata": {},
          "output_type": "execute_result"
        }
      ],
      "source": [
        "data"
      ]
    },
    {
      "cell_type": "code",
      "execution_count": null,
      "metadata": {
        "id": "TC2QKDdTdFPU"
      },
      "outputs": [],
      "source": [
        "x = data.drop(columns=['MPG']).values\n",
        "y = data['MPG'].values"
      ]
    },
    {
      "cell_type": "markdown",
      "metadata": {
        "id": "87l5-5tVdtJ_"
      },
      "source": [
        "## Compute all pairwise distances efficiently\n",
        "\n",
        "This means we build a general case, assuming two matrices, we want to compute all the pairwise distances between the rows of matrix 1 and the rows of matrix 2."
      ]
    },
    {
      "cell_type": "code",
      "execution_count": null,
      "metadata": {
        "id": "EEo0NZ2gdSdo"
      },
      "outputs": [],
      "source": [
        "# we want the Euclidean distance\n",
        "u = np.array(np.random.uniform(2,5,5))\n",
        "v = np.array(np.random.uniform(1,2,5))"
      ]
    },
    {
      "cell_type": "code",
      "execution_count": null,
      "metadata": {
        "colab": {
          "base_uri": "https://localhost:8080/"
        },
        "id": "LzP7EQH1eVm1",
        "outputId": "679a917b-da4c-49a7-dc1f-457a9dac9664"
      },
      "outputs": [
        {
          "data": {
            "text/plain": [
              "array([3.11739825, 4.88848224, 3.29316218, 2.88324214, 3.02431272])"
            ]
          },
          "execution_count": 13,
          "metadata": {},
          "output_type": "execute_result"
        }
      ],
      "source": [
        "u"
      ]
    },
    {
      "cell_type": "code",
      "execution_count": null,
      "metadata": {
        "colab": {
          "base_uri": "https://localhost:8080/"
        },
        "id": "ooR4Dy5deWMw",
        "outputId": "fa093502-fb12-4c11-dc0e-9683411b1723"
      },
      "outputs": [
        {
          "data": {
            "text/plain": [
              "array([1.33246486, 1.57575096, 1.71185006, 1.37392515, 1.90510822])"
            ]
          },
          "execution_count": 14,
          "metadata": {},
          "output_type": "execute_result"
        }
      ],
      "source": [
        "v"
      ]
    },
    {
      "cell_type": "markdown",
      "metadata": {
        "id": "bhjGvoh7ekZo"
      },
      "source": [
        "\n",
        "$$\\large \\text{dist}\\left(\\vec{u},\\vec{v}\\right):= \\sqrt{\\sum(u_i-v_i)^2}$$"
      ]
    },
    {
      "cell_type": "code",
      "execution_count": null,
      "metadata": {
        "colab": {
          "base_uri": "https://localhost:8080/"
        },
        "id": "DTZKB6ulefIe",
        "outputId": "3e3d5237-dc83-4c89-80a1-e8bec1c23f5c"
      },
      "outputs": [
        {
          "data": {
            "text/plain": [
              "4.493481972090788"
            ]
          },
          "execution_count": 15,
          "metadata": {},
          "output_type": "execute_result"
        }
      ],
      "source": [
        "np.sqrt(np.sum((u-v)**2))"
      ]
    },
    {
      "cell_type": "code",
      "execution_count": null,
      "metadata": {
        "id": "0LTE39_qfJ0A"
      },
      "outputs": [],
      "source": [
        "# what happens if u is matrix that has n rows and 5 columns?\n",
        "u = np.random.uniform(2,5,(10,5))"
      ]
    },
    {
      "cell_type": "code",
      "execution_count": null,
      "metadata": {
        "colab": {
          "base_uri": "https://localhost:8080/"
        },
        "id": "trfyZbLEfYZp",
        "outputId": "18c91090-a012-4bb4-b057-d2757ef80b2d"
      },
      "outputs": [
        {
          "data": {
            "text/plain": [
              "(10, 5)"
            ]
          },
          "execution_count": 18,
          "metadata": {},
          "output_type": "execute_result"
        }
      ],
      "source": [
        "# check the shape\n",
        "u.shape"
      ]
    },
    {
      "cell_type": "code",
      "execution_count": null,
      "metadata": {
        "colab": {
          "base_uri": "https://localhost:8080/"
        },
        "id": "zesq9ZwOfZjL",
        "outputId": "c321c6e4-a2f5-4d91-f908-2dc73691f60c"
      },
      "outputs": [
        {
          "data": {
            "text/plain": [
              "(5,)"
            ]
          },
          "execution_count": 19,
          "metadata": {},
          "output_type": "execute_result"
        }
      ],
      "source": [
        "v.shape # this may create a problem"
      ]
    },
    {
      "cell_type": "code",
      "execution_count": null,
      "metadata": {
        "id": "lvXdhn3OfgOa"
      },
      "outputs": [],
      "source": [
        "# let's show a simple code\n",
        "def dist(u,v):\n",
        "  return np.sqrt(np.sum((u-v)**2,axis=1))"
      ]
    },
    {
      "cell_type": "code",
      "execution_count": null,
      "metadata": {
        "colab": {
          "base_uri": "https://localhost:8080/"
        },
        "id": "JaFv_So3gPSr",
        "outputId": "ab60b2ae-c5e1-4dd2-e60e-28b401b9546c"
      },
      "outputs": [
        {
          "data": {
            "text/plain": [
              "array([4.28831296, 4.00575339, 5.62032324, 5.3093832 , 4.4798848 ,\n",
              "       5.55294533, 4.82613811, 4.80947072, 4.82808324, 4.16231254])"
            ]
          },
          "execution_count": 24,
          "metadata": {},
          "output_type": "execute_result"
        }
      ],
      "source": [
        "dist(u,v)"
      ]
    },
    {
      "cell_type": "code",
      "execution_count": null,
      "metadata": {
        "id": "9iggjGCsgqQ7"
      },
      "outputs": [],
      "source": [
        "# how about the case when v is a matrix with 5 columns?\n",
        "def dist(u,v):\n",
        "  D = []\n",
        "  if len(v.shape)==1:\n",
        "    v = v.reshape(1,-1)\n",
        "  # we would like all the pairwise combinations if u and v are matrices\n",
        "  # we could avoid two for loops if we consider broadcasting\n",
        "  for rowj in v:\n",
        "    D.append(np.sqrt(np.sum((u-rowj)**2,axis=1)))\n",
        "  return np.array(D).T"
      ]
    },
    {
      "cell_type": "code",
      "execution_count": null,
      "metadata": {
        "colab": {
          "base_uri": "https://localhost:8080/"
        },
        "id": "Odj1WPNph2yu",
        "outputId": "1ef9a7b4-0385-493f-c88d-38410c932afb"
      },
      "outputs": [
        {
          "data": {
            "text/plain": [
              "array([[4.28831296, 4.00575339, 5.62032324, 5.3093832 , 4.4798848 ,\n",
              "        5.55294533, 4.82613811, 4.80947072, 4.82808324, 4.16231254]])"
            ]
          },
          "execution_count": 35,
          "metadata": {},
          "output_type": "execute_result"
        }
      ],
      "source": [
        "dist(u,v)"
      ]
    },
    {
      "cell_type": "code",
      "execution_count": null,
      "metadata": {
        "id": "6ztaK0uYh6T7"
      },
      "outputs": [],
      "source": [
        "v = np.random.uniform(1,2,(20,5))"
      ]
    },
    {
      "cell_type": "code",
      "execution_count": null,
      "metadata": {
        "id": "Zvz04qaKiWE5"
      },
      "outputs": [],
      "source": [
        "D = dist(u,v)"
      ]
    },
    {
      "cell_type": "code",
      "execution_count": null,
      "metadata": {
        "colab": {
          "base_uri": "https://localhost:8080/"
        },
        "id": "_h5lXCkJjDB5",
        "outputId": "a39595d6-fe8e-4dc7-efa5-3c96fc2424cc"
      },
      "outputs": [
        {
          "data": {
            "text/plain": [
              "(10, 20)"
            ]
          },
          "execution_count": 41,
          "metadata": {},
          "output_type": "execute_result"
        }
      ],
      "source": [
        "D.shape"
      ]
    },
    {
      "cell_type": "code",
      "execution_count": null,
      "metadata": {
        "colab": {
          "base_uri": "https://localhost:8080/"
        },
        "id": "qqiFEZRSjED2",
        "outputId": "e1e14767-8c38-48c2-a66f-5ba3e0b9f0c2"
      },
      "outputs": [
        {
          "data": {
            "text/plain": [
              "array([[4.34425678, 4.39002234, 4.65859935, 4.68886774, 4.64099   ,\n",
              "        4.10836079, 3.8516475 , 4.46624481, 4.63096529, 4.12261168,\n",
              "        4.68204756, 4.45579403, 4.52245258, 4.69293154, 4.51745849,\n",
              "        4.68398539, 4.15873783, 4.20708627, 4.99788228, 4.12717817],\n",
              "       [4.14314325, 4.14149829, 4.0058683 , 4.19985548, 4.22514908,\n",
              "        3.67146567, 3.5899247 , 4.19414238, 4.32546104, 4.07018172,\n",
              "        4.2381748 , 3.95946516, 3.99765945, 4.52051303, 4.18795029,\n",
              "        4.32116993, 4.09976548, 4.00066191, 4.59082572, 3.94902733],\n",
              "       [5.60976866, 5.77332143, 5.58459429, 5.95814152, 5.65634027,\n",
              "        5.5085904 , 5.11003692, 5.74817857, 5.74099237, 5.57201478,\n",
              "        6.07124447, 5.40600566, 5.55331412, 6.01619952, 5.70655521,\n",
              "        5.71051656, 5.47360456, 5.56069375, 6.08391667, 5.50611746],\n",
              "       [5.43232078, 5.71014001, 5.57439343, 5.68129106, 5.53163233,\n",
              "        5.30181574, 4.91952869, 5.59588946, 5.61242799, 5.1368552 ,\n",
              "        5.80081162, 5.47425035, 5.34387498, 5.98243345, 5.55022012,\n",
              "        5.45603874, 5.10708427, 5.37609568, 5.8358441 , 5.32473603],\n",
              "       [4.57853079, 4.62353136, 4.63254005, 4.90725416, 4.64485911,\n",
              "        4.53034416, 3.93328241, 4.54909929, 4.68297938, 4.59824431,\n",
              "        4.93776135, 4.37009775, 4.34476376, 4.8642524 , 4.72808341,\n",
              "        4.64108051, 4.41756463, 4.35717626, 4.99515912, 4.4289869 ],\n",
              "       [5.94641985, 5.73343657, 6.06419899, 5.99831271, 6.10853117,\n",
              "        5.60626747, 5.07653038, 5.67355285, 6.10699788, 5.84931993,\n",
              "        5.83025924, 5.84170681, 5.44134693, 6.11375071, 6.12487842,\n",
              "        6.03276838, 5.73420266, 5.43532556, 6.29767846, 5.65761859],\n",
              "       [4.81045051, 4.81622942, 4.96472778, 5.17089596, 5.04699741,\n",
              "        4.54411358, 4.32930519, 4.94182442, 5.06490861, 4.72063465,\n",
              "        5.18301891, 4.7558522 , 4.98057964, 5.120196  , 4.94652272,\n",
              "        5.16661874, 4.73366802, 4.7053617 , 5.48347346, 4.60701616],\n",
              "       [5.02744565, 5.18660158, 5.22778966, 5.26168311, 5.15873168,\n",
              "        4.89870403, 4.37211553, 5.05351055, 5.20182099, 4.77367188,\n",
              "        5.2989871 , 5.05816006, 4.80135044, 5.47702543, 5.1904179 ,\n",
              "        5.04970613, 4.68645121, 4.81722854, 5.41798256, 4.86573991],\n",
              "       [4.88076584, 4.98545429, 5.24103288, 5.32941328, 5.1288324 ,\n",
              "        4.86253176, 4.33970092, 4.96425344, 5.10570166, 4.70063555,\n",
              "        5.33970254, 4.9589377 , 4.95797365, 5.21370015, 5.09185176,\n",
              "        5.10332706, 4.61553595, 4.71612193, 5.46657362, 4.70699989],\n",
              "       [4.27742903, 4.37987236, 4.54487672, 4.69736479, 4.38302569,\n",
              "        4.44700285, 3.65958425, 4.21703581, 4.36477668, 4.24831058,\n",
              "        4.71679718, 4.21646993, 4.05723671, 4.53219153, 4.49004967,\n",
              "        4.27762716, 3.99919048, 4.02763411, 4.64081662, 4.15457172]])"
            ]
          },
          "execution_count": 42,
          "metadata": {},
          "output_type": "execute_result"
        }
      ],
      "source": [
        "D"
      ]
    },
    {
      "cell_type": "code",
      "execution_count": null,
      "metadata": {
        "id": "Yn17gvTAjpwb"
      },
      "outputs": [],
      "source": [
        "def weight_function(u,v,kern=Gaussian,tau=0.5):\n",
        "    return kern(dist(u,v)/(2*tau))"
      ]
    },
    {
      "cell_type": "code",
      "execution_count": null,
      "metadata": {
        "id": "nRpga6zKjTO8"
      },
      "outputs": [],
      "source": [
        "W = weight_function(u,v,kern=Tricubic,tau=1.7)"
      ]
    },
    {
      "cell_type": "code",
      "execution_count": null,
      "metadata": {
        "id": "GUVQ5n6pkAya"
      },
      "outputs": [],
      "source": [
        "# we show now the effect of scaling onto the data\n",
        "scale = MinMaxScaler()\n",
        "uscaled = scale.fit_transform(u)\n",
        "vscaled = scale.fit_transform(v)"
      ]
    },
    {
      "cell_type": "code",
      "execution_count": null,
      "metadata": {
        "id": "aoevNr1ikZtA"
      },
      "outputs": [],
      "source": [
        "W = weight_function(uscaled,vscaled,kern=Tricubic,tau=0.35)"
      ]
    },
    {
      "cell_type": "code",
      "execution_count": null,
      "metadata": {
        "id": "s73EG_FGkefQ"
      },
      "outputs": [],
      "source": [
        "class Lowess:\n",
        "    def __init__(self, kernel = Gaussian, tau=0.05):\n",
        "        self.kernel = kernel\n",
        "        self.tau = tau\n",
        "\n",
        "    def fit(self, x, y):\n",
        "        kernel = self.kernel\n",
        "        tau = self.tau\n",
        "        self.xtrain_ = x\n",
        "        self.yhat_ = y\n",
        "\n",
        "    def predict(self, x_new):\n",
        "        check_is_fitted(self)\n",
        "        x = self.xtrain_\n",
        "        y = self.yhat_\n",
        "        lm = linear_model.Ridge(alpha=0.001)\n",
        "        w = weight_function(x,x_new,self.kernel,self.tau)\n",
        "\n",
        "        if np.isscalar(x_new):\n",
        "          lm.fit(np.diag(w)@(x.reshape(-1,1)),np.diag(w)@(y.reshape(-1,1)))\n",
        "          yest = lm.predict([[x_new]])[0][0]\n",
        "        else:\n",
        "          n = len(x_new)\n",
        "          yest_test = np.zeros(n)\n",
        "          #Looping through all x-points\n",
        "          for i in range(n):\n",
        "            lm.fit(np.diag(w[:,i])@x,np.diag(w[:,i])@y)\n",
        "            yest_test[i] = lm.predict(x_new[i].reshape(1,-1))\n",
        "        return yest_test"
      ]
    },
    {
      "cell_type": "code",
      "execution_count": null,
      "metadata": {
        "id": "P5US-j1Ike_V"
      },
      "outputs": [],
      "source": [
        "model = Lowess(kernel=Epanechnikov,tau=0.02)"
      ]
    },
    {
      "cell_type": "code",
      "execution_count": null,
      "metadata": {
        "id": "GHIw1PgnmTBJ"
      },
      "outputs": [],
      "source": [
        "xscaled = scale.fit_transform(x)"
      ]
    },
    {
      "cell_type": "code",
      "execution_count": null,
      "metadata": {
        "id": "AEiR6W-amW8e"
      },
      "outputs": [],
      "source": [
        "model.fit(xscaled,y)"
      ]
    },
    {
      "cell_type": "code",
      "execution_count": null,
      "metadata": {
        "id": "rW-WJvgemdDS"
      },
      "outputs": [],
      "source": [
        "yhat = model.predict(xscaled)"
      ]
    },
    {
      "cell_type": "code",
      "execution_count": null,
      "metadata": {
        "colab": {
          "base_uri": "https://localhost:8080/"
        },
        "id": "XeHK5XXpmfy0",
        "outputId": "4b91dc39-8eb0-4970-927e-a12597127bf6"
      },
      "outputs": [
        {
          "data": {
            "text/plain": [
              "9.608473561664933"
            ]
          },
          "execution_count": 109,
          "metadata": {},
          "output_type": "execute_result"
        }
      ],
      "source": [
        "mse(yhat,y)"
      ]
    },
    {
      "cell_type": "code",
      "execution_count": null,
      "metadata": {
        "id": "yLeKhtEHm3sh"
      },
      "outputs": [],
      "source": [
        "# we can try the \"elbow\" approach for tunning tau\n",
        "taus = np.arange(0.01,0.25,0.01)"
      ]
    },
    {
      "cell_type": "code",
      "execution_count": null,
      "metadata": {
        "id": "-Me88zXpnlMw"
      },
      "outputs": [],
      "source": [
        "mse_list = []\n",
        "for tau in taus:\n",
        "  model = Lowess(kernel=Epanechnikov,tau=tau)\n",
        "  model.fit(xscaled,y)\n",
        "  yhat = model.predict(xscaled)\n",
        "  mse_list.append(mse(yhat,y))"
      ]
    },
    {
      "cell_type": "code",
      "execution_count": null,
      "metadata": {
        "colab": {
          "base_uri": "https://localhost:8080/",
          "height": 550
        },
        "id": "XqBcwDXonlvH",
        "outputId": "3fe70a49-8584-411e-ab4f-2f0056005ebe"
      },
      "outputs": [
        {
          "data": {
            "text/plain": [
              "[<matplotlib.lines.Line2D at 0x78800bb84f10>]"
            ]
          },
          "execution_count": 101,
          "metadata": {},
          "output_type": "execute_result"
        },
        {
          "data": {
            "image/png": "[encoded data removed]",
            "text/plain": [
              "<Figure size 768x576 with 1 Axes>"
            ]
          },
          "metadata": {
            "image/png": {
              "height": 495,
              "width": 667
            }
          },
          "output_type": "display_data"
        }
      ],
      "source": [
        "plt.plot(taus,mse_list)"
      ]
    },
    {
      "cell_type": "code",
      "execution_count": null,
      "metadata": {
        "colab": {
          "base_uri": "https://localhost:8080/"
        },
        "id": "Pv7EDClIn7Y7",
        "outputId": "b9b4782b-2db7-47f4-bb88-49746dd8ea38"
      },
      "outputs": [
        {
          "name": "stdout",
          "output_type": "stream",
          "text": [
            "The Cross-validated Mean Squared Error for Locally Weighted Regression is : 16.455751824170868\n",
            "The Cross-validated Mean Squared Error for Random Forest is : 17.678888857376226\n"
          ]
        }
      ],
      "source": [
        "mse_lwr = []\n",
        "mse_rf = []\n",
        "kf = KFold(n_splits=10,shuffle=True,random_state=1234)\n",
        "model_rf = RandomForestRegressor(n_estimators=200,max_depth=7)\n",
        "# model_lw = Lowess_AG_MD(f=1/3,iter=2,intercept=True)\n",
        "model_lw = Lowess(kernel= Epanechnikov,tau=0.14)\n",
        "\n",
        "for idxtrain, idxtest in kf.split(x):\n",
        "  xtrain = x[idxtrain]\n",
        "  ytrain = y[idxtrain]\n",
        "  ytest = y[idxtest]\n",
        "  xtest = x[idxtest]\n",
        "  xtrain = scale.fit_transform(xtrain)\n",
        "  xtest = scale.transform(xtest)\n",
        "\n",
        "  model_lw.fit(xtrain,ytrain)\n",
        "  yhat_lw = model_lw.predict(xtest)\n",
        "\n",
        "  model_rf.fit(xtrain,ytrain)\n",
        "  yhat_rf = model_rf.predict(xtest)\n",
        "\n",
        "  mse_lwr.append(mse(ytest,yhat_lw))\n",
        "  mse_rf.append(mse(ytest,yhat_rf))\n",
        "print('The Cross-validated Mean Squared Error for Locally Weighted Regression is : '+str(np.mean(mse_lwr)))\n",
        "print('The Cross-validated Mean Squared Error for Random Forest is : '+str(np.mean(mse_rf)))"
      ]
    },
    {
      "cell_type": "code",
      "execution_count": null,
      "metadata": {
        "id": "_opnPB27opDD"
      },
      "outputs": [],
      "source": []
    },
    {
      "cell_type": "markdown",
      "metadata": {
        "id": "CPW9-6zgqTMp"
      },
      "source": [
        "## Efficient Classes for Computing all the Pairwise Distances"
      ]
    },
    {
      "cell_type": "markdown",
      "metadata": {
        "id": "wCjNLl4yqjg1"
      },
      "source": []
    },
    {
      "cell_type": "markdown",
      "metadata": {
        "id": "wB_2WannqjjK"
      },
      "source": [
        "### Scipy Classes"
      ]
    },
    {
      "cell_type": "code",
      "execution_count": null,
      "metadata": {
        "colab": {
          "base_uri": "https://localhost:8080/"
        },
        "id": "dj_W1N7Co5WB",
        "outputId": "be21cd80-485b-485f-b820-d753d63a7cd4"
      },
      "outputs": [
        {
          "name": "stdout",
          "output_type": "stream",
          "text": [
            "Pairwise distances:\n",
            "[[0.02176528 0.97589949 1.07465667 ... 1.03367484 1.01079351 0.43947887]\n",
            " [0.14026861 1.04976726 1.15993053 ... 1.11468563 1.08905696 0.49942492]\n",
            " [0.03618592 0.98196775 1.08333189 ... 1.04113141 1.01752722 0.44213376]\n",
            " ...\n",
            " [0.96796902 0.0156773  0.15794466 ... 0.09154571 0.05475171 0.55698237]\n",
            " [0.95897078 0.11560343 0.19009382 ... 0.14837735 0.13319966 0.55417906]\n",
            " [0.95406098 0.14144446 0.21195662 ... 0.17423515 0.1604333  0.55106959]]\n"
          ]
        }
      ],
      "source": [
        "from scipy.spatial.distance import cdist\n",
        "\n",
        "\n",
        "\n",
        "\n",
        "# Compute pairwise distances using Euclidean distance metric\n",
        "pairwise_distances = cdist(xtrain, xtest, metric='euclidean')\n",
        "\n",
        "print(\"Pairwise distances:\")\n",
        "print(pairwise_distances)"
      ]
    },
    {
      "cell_type": "markdown",
      "metadata": {
        "id": "s_V5_7yrrVSZ"
      },
      "source": [
        "## Faiss"
      ]
    },
    {
      "cell_type": "code",
      "execution_count": null,
      "metadata": {
        "colab": {
          "base_uri": "https://localhost:8080/"
        },
        "id": "G7poizBTpOkg",
        "outputId": "9c09288c-e3fe-44bf-b975-d52081977fec"
      },
      "outputs": [
        {
          "name": "stdout",
          "output_type": "stream",
          "text": [
            "Collecting faiss-cpu\n",
            "  Downloading faiss_cpu-1.7.4-cp310-cp310-manylinux_2_17_x86_64.manylinux2014_x86_64.whl (17.6 MB)\n",
            "\u001b[2K     \u001b[90m━━━━━━━━━━━━━━━━━━━━━━━━━━━━━━━━━━━━━━━━\u001b[0m \u001b[32m17.6/17.6 MB\u001b[0m \u001b[31m40.9 MB/s\u001b[0m eta \u001b[36m0:00:00\u001b[0m\n",
            "\u001b[?25hInstalling collected packages: faiss-cpu\n",
            "Successfully installed faiss-cpu-1.7.4\n"
          ]
        }
      ],
      "source": [
        "!pip install faiss-cpu"
      ]
    },
    {
      "cell_type": "code",
      "execution_count": null,
      "metadata": {
        "id": "kkhNU8V4rYKR"
      },
      "outputs": [],
      "source": [
        "import faiss"
      ]
    },
    {
      "cell_type": "code",
      "execution_count": null,
      "metadata": {
        "colab": {
          "base_uri": "https://localhost:8080/"
        },
        "id": "djU4as-Proiz",
        "outputId": "1b51a41e-5d1f-4d4b-8055-c1edd5e1c341"
      },
      "outputs": [
        {
          "name": "stdout",
          "output_type": "stream",
          "text": [
            "Pairwise distances:\n",
            "[0.00000000e+00 6.89029694e-05 8.41617584e-05 1.24669075e-03\n",
            " 2.01201439e-03 3.51595879e-03 5.63931465e-03 5.67364693e-03\n",
            " 6.98184967e-03 7.14087486e-03 7.15255737e-03 7.41600990e-03\n",
            " 8.37707520e-03 8.65793228e-03 1.06999874e-02 1.07526779e-02\n",
            " 1.18432045e-02 1.22568607e-02 1.24166012e-02 1.27058029e-02\n",
            " 1.35922432e-02 1.39296055e-02 1.41646862e-02 1.41646862e-02\n",
            " 1.52766705e-02 1.52938366e-02 1.54678822e-02 1.56049728e-02\n",
            " 1.63900852e-02 1.66249275e-02 1.70717239e-02 1.73778534e-02\n",
            " 1.74448490e-02 1.79543495e-02 1.82802677e-02 1.89366341e-02\n",
            " 1.91261768e-02 1.94141865e-02 1.96754932e-02 2.00660229e-02\n",
            " 2.01635361e-02 2.02689171e-02 2.18474865e-02 2.23650932e-02\n",
            " 2.28676796e-02 2.32322216e-02 2.53779888e-02 2.58045197e-02\n",
            " 2.71050930e-02 2.76982784e-02 3.11198235e-02 3.18522453e-02\n",
            " 3.38265896e-02 3.49245071e-02 3.58791351e-02 3.65049839e-02\n",
            " 3.68406773e-02 3.79137993e-02 3.87270451e-02 3.94816399e-02\n",
            " 4.02293205e-02 4.47731018e-02 4.50217724e-02 4.51204777e-02\n",
            " 4.57866192e-02 4.57899570e-02 4.66330051e-02 4.77695465e-02\n",
            " 4.94666100e-02 5.06229401e-02 5.33051491e-02 5.37028313e-02\n",
            " 5.47318459e-02 5.59849739e-02 6.00101948e-02 6.01987839e-02\n",
            " 6.02993965e-02 6.29110336e-02 6.51352406e-02 6.54687881e-02\n",
            " 6.54687881e-02 6.99865818e-02 7.04207420e-02 7.61256218e-02\n",
            " 7.62591362e-02 7.64465332e-02 8.30416679e-02 8.55231285e-02\n",
            " 8.86602402e-02 9.46946144e-02 1.02707624e-01 1.03846312e-01\n",
            " 1.07674599e-01 1.08068943e-01 1.14173889e-01 1.17579937e-01\n",
            " 1.37423992e-01 1.37953758e-01 1.43174648e-01 1.56218529e-01\n",
            " 1.71732903e-01 1.88498020e-01 2.03468800e-01 2.16626167e-01\n",
            " 2.16819048e-01 2.23085403e-01 2.26958513e-01 2.27404833e-01\n",
            " 2.27931499e-01 2.29085445e-01 2.29225159e-01 2.30184317e-01\n",
            " 2.31262445e-01 2.32359171e-01 2.36254930e-01 2.37027168e-01\n",
            " 2.37227201e-01 2.37641335e-01 2.39314079e-01 2.40630388e-01\n",
            " 2.40901232e-01 2.49425173e-01 2.50255346e-01 2.51953363e-01\n",
            " 2.56600618e-01 2.58310080e-01 2.59598970e-01 2.60360003e-01\n",
            " 2.60445595e-01 2.60893583e-01 2.62591124e-01 2.63823748e-01\n",
            " 2.64472008e-01 2.64652967e-01 2.64764547e-01 2.64852524e-01\n",
            " 2.65021563e-01 2.66428947e-01 2.68000841e-01 2.68592834e-01\n",
            " 2.69621134e-01 2.70002842e-01 2.71020889e-01 2.72032976e-01\n",
            " 2.72112370e-01 2.72315025e-01 2.73426294e-01 2.79428720e-01\n",
            " 2.81689882e-01 2.83302307e-01 2.89648294e-01 2.91173935e-01\n",
            " 2.98879385e-01 3.02763700e-01 3.04439545e-01 3.13375235e-01\n",
            " 3.20025682e-01 3.33981276e-01 3.42078924e-01 3.42924118e-01\n",
            " 3.43109369e-01 3.44991922e-01 3.48284960e-01 3.50783348e-01\n",
            " 3.53718758e-01 3.65344524e-01 3.74951363e-01 3.81540775e-01\n",
            " 3.82490635e-01 3.96610022e-01 4.00058031e-01 4.01846170e-01\n",
            " 4.10602808e-01 4.15183067e-01 4.18579102e-01 4.31473851e-01\n",
            " 4.32767034e-01 4.46068645e-01 4.50091600e-01 4.59062934e-01\n",
            " 4.63909507e-01 4.68106747e-01 4.75705743e-01 4.85637307e-01\n",
            " 5.01122236e-01 5.36220670e-01 5.48393607e-01 7.41344571e-01\n",
            " 7.55443692e-01 9.33970809e-01 9.43479776e-01 9.49245691e-01\n",
            " 9.49711800e-01 9.52416420e-01 9.56727505e-01 9.62035894e-01\n",
            " 9.65035915e-01 9.78936195e-01 9.79720116e-01 9.85764980e-01\n",
            " 9.87357855e-01 9.87362742e-01 9.88947988e-01 9.90031004e-01\n",
            " 9.90285873e-01 9.90708470e-01 9.92028475e-01 9.96262431e-01\n",
            " 1.00136113e+00 1.00664842e+00 1.00789261e+00 1.01005650e+00\n",
            " 1.01049078e+00 1.01213634e+00 1.02560878e+00 1.03064644e+00\n",
            " 1.03210354e+00 1.03391957e+00 1.03504145e+00 1.03605556e+00\n",
            " 1.03754044e+00 1.03756618e+00 1.03765905e+00 1.03885770e+00\n",
            " 1.04315889e+00 1.04599404e+00 1.05631459e+00 1.05685174e+00\n",
            " 1.06058216e+00 1.06538486e+00 1.06739151e+00 1.06994331e+00\n",
            " 1.06994331e+00 1.07142341e+00 1.07397175e+00 1.07585001e+00\n",
            " 1.07601786e+00 1.07770503e+00 1.08505917e+00 1.08680367e+00\n",
            " 1.08817172e+00 1.08902550e+00 1.09062469e+00 1.09164238e+00\n",
            " 1.09226370e+00 1.10191607e+00 1.10201144e+00 1.10387802e+00\n",
            " 1.10442805e+00 1.10478568e+00 1.10882235e+00 1.10900879e+00\n",
            " 1.10919142e+00 1.11012876e+00 1.11215758e+00 1.11316061e+00\n",
            " 1.11366820e+00 1.11534023e+00 1.12077057e+00 1.12533951e+00\n",
            " 1.12635112e+00 1.13241196e+00 1.14403856e+00 1.14631629e+00\n",
            " 1.15551054e+00 1.15645421e+00 1.15820503e+00 1.15822530e+00\n",
            " 1.16368222e+00 1.16481304e+00 1.16512966e+00 1.16515732e+00\n",
            " 1.17012739e+00 1.17270303e+00 1.17740870e+00 1.17902565e+00\n",
            " 1.17932844e+00 1.18363810e+00 1.18604517e+00 1.18660045e+00\n",
            " 1.19114423e+00 1.19578338e+00 1.19835234e+00 1.19894099e+00\n",
            " 1.20307207e+00 1.20547175e+00 1.20785820e+00 1.21472788e+00\n",
            " 1.21548843e+00 1.21594679e+00 1.21640992e+00 1.22002983e+00\n",
            " 1.22368646e+00 1.22614491e+00 1.22660673e+00 1.22936165e+00\n",
            " 1.23133647e+00 1.23144352e+00 1.23368812e+00 1.23470831e+00\n",
            " 1.23614228e+00 1.23639059e+00 1.23729599e+00 1.24229002e+00\n",
            " 1.24252415e+00 1.24268305e+00 1.25274587e+00 1.25323939e+00\n",
            " 1.25584245e+00 1.25584245e+00 1.25637770e+00 1.25746191e+00\n",
            " 1.25810742e+00 1.26089382e+00 1.26147938e+00 1.26318824e+00\n",
            " 1.26401150e+00 1.26575327e+00 1.26704192e+00 1.26718020e+00\n",
            " 1.26784039e+00 1.26784039e+00 1.26784039e+00 1.26867247e+00\n",
            " 1.27560937e+00 1.27882445e+00 1.28156090e+00 1.28485978e+00\n",
            " 1.28524446e+00 1.28686404e+00 1.28686404e+00 1.28835201e+00\n",
            " 1.29310203e+00 1.29750013e+00 1.30352616e+00 1.30675840e+00\n",
            " 1.31097507e+00 1.31450725e+00 1.31580734e+00 1.31618941e+00\n",
            " 1.31634140e+00 1.31666923e+00 1.31953788e+00 1.32340932e+00\n",
            " 1.32447529e+00 1.32502985e+00 1.32726991e+00 1.33073533e+00\n",
            " 1.33149290e+00 1.33281446e+00 1.33290875e+00 1.33290875e+00\n",
            " 1.33445263e+00 1.33529496e+00 1.33575273e+00 1.33855247e+00\n",
            " 1.33900273e+00 1.34437847e+00 1.34437847e+00 1.34543884e+00\n",
            " 1.34686291e+00 1.34754133e+00 1.35034776e+00 1.35064912e+00\n",
            " 1.35095406e+00 1.35107350e+00 1.35132718e+00 1.35370636e+00\n",
            " 1.35804975e+00 1.35960543e+00 1.36554933e+00 1.36660552e+00\n",
            " 1.37336087e+00 1.37506378e+00 1.37594151e+00 1.37655568e+00\n",
            " 1.37964630e+00 1.38193321e+00 1.38348854e+00 1.38348854e+00\n",
            " 1.41668344e+00 1.42974508e+00 1.43854427e+00 1.44269979e+00\n",
            " 1.44456875e+00 1.46222472e+00 1.48409545e+00 1.51102030e+00\n",
            " 1.56443262e+00 1.65644395e+00 1.67591047e+00]\n"
          ]
        }
      ],
      "source": [
        "# Example vectors\n",
        "vector1 = xtrain\n",
        "vector2 = xtest\n",
        "\n",
        "# Concatenate the vectors into a single array\n",
        "all_vectors = np.concatenate((vector1, vector2), axis=0)\n",
        "\n",
        "# Initialize Faiss index\n",
        "d = all_vectors.shape[1]  # Dimension of vectors\n",
        "index = faiss.IndexFlatL2(d)  # L2 distance (Euclidean distance)\n",
        "\n",
        "# Add vectors to the index\n",
        "index.add(all_vectors)\n",
        "\n",
        "# Query for the nearest neighbors (in this case, excluding the vector itself)\n",
        "k = all_vectors.shape[0] - 1  # Return distances to all other vectors\n",
        "D, I = index.search(all_vectors, k)\n",
        "\n",
        "# The first row of D corresponds to distances from vector1 to all vectors,\n",
        "# and the second row corresponds to distances from vector2 to all vectors\n",
        "pairwise_distances = D[1]\n",
        "\n",
        "print(\"Pairwise distances:\")\n",
        "print(pairwise_distances)"
      ]
    },
    {
      "cell_type": "code",
      "execution_count": null,
      "metadata": {
        "id": "AZGjUXNKsOZ9"
      },
      "outputs": [],
      "source": []
    }
  ],
  "metadata": {
    "colab": {
      "provenance": []
    },
    "kernelspec": {
      "display_name": "Python 3",
      "name": "python3"
    },
    "language_info": {
      "name": "python"
    }
  },
  "nbformat": 4,
  "nbformat_minor": 0
}
