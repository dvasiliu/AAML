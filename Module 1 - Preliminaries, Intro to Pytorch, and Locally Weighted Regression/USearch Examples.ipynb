{
 "cells": [
  {
   "cell_type": "code",
   "execution_count": 53,
   "metadata": {},
   "outputs": [],
   "source": [
    "# libraries\n",
    "import numpy as np\n",
    "import pandas as pd\n",
    "from sklearn.preprocessing import MinMaxScaler, StandardScaler\n",
    "from scipy.spatial.distance import cdist\n",
    "from usearch.index import Index, search, MetricKind, Matches, BatchMatches"
   ]
  },
  {
   "cell_type": "code",
   "execution_count": 146,
   "metadata": {},
   "outputs": [],
   "source": [
    "# Generate 10'000 random vectors with 1024 dimensions\n",
    "vectors = np.random.normal(size=(100000, 500))\n",
    "vector = np.random.normal(size=(1,500))\n",
    "\n",
    "one_in_many: Matches = search(vectors, vector, 50, MetricKind.L2sq, exact=True)"
   ]
  },
  {
   "cell_type": "code",
   "execution_count": 148,
   "metadata": {},
   "outputs": [
    {
     "data": {
      "text/plain": [
       "array([27.50897 , 27.542465, 27.67461 , 27.762684, 27.831715, 27.873785,\n",
       "       27.882494, 27.915936, 27.926235, 27.926502, 27.935497, 28.073334,\n",
       "       28.073772, 28.09972 , 28.118332, 28.121338, 28.14302 , 28.153204,\n",
       "       28.177824, 28.193396, 28.196007, 28.208061, 28.219082, 28.220667,\n",
       "       28.224743, 28.249775, 28.257025, 28.26767 , 28.274187, 28.27597 ,\n",
       "       28.28245 , 28.307507, 28.308802, 28.31129 , 28.313234, 28.320265,\n",
       "       28.324936, 28.343542, 28.34546 , 28.349876, 28.350168, 28.356617,\n",
       "       28.362871, 28.36302 , 28.372284, 28.37434 , 28.387037, 28.387089,\n",
       "       28.39362 , 28.398333], dtype=float32)"
      ]
     },
     "execution_count": 148,
     "metadata": {},
     "output_type": "execute_result"
    }
   ],
   "source": [
    "np.sqrt(one_in_many.distances)"
   ]
  },
  {
   "cell_type": "code",
   "execution_count": 149,
   "metadata": {},
   "outputs": [
    {
     "data": {
      "text/plain": [
       "[(62471, 756.743408203125),\n",
       " (88511, 758.5873413085938),\n",
       " (9091, 765.8840942382812),\n",
       " (78912, 770.7666015625),\n",
       " (46735, 774.6043090820312),\n",
       " (4291, 776.9479370117188),\n",
       " (97507, 777.4334716796875),\n",
       " (55547, 779.2994995117188),\n",
       " (7021, 779.8745727539062),\n",
       " (97230, 779.8895263671875),\n",
       " (16934, 780.3919677734375),\n",
       " (42857, 788.112060546875),\n",
       " (67145, 788.13671875),\n",
       " (60196, 789.5942993164062),\n",
       " (99628, 790.640625),\n",
       " (46152, 790.8096923828125),\n",
       " (98318, 792.0296630859375),\n",
       " (31877, 792.6028442382812),\n",
       " (90875, 793.9898071289062),\n",
       " (91399, 794.8675537109375),\n",
       " (66344, 795.0148315429688),\n",
       " (56346, 795.6947631835938),\n",
       " (32807, 796.3165283203125),\n",
       " (86459, 796.4060668945312),\n",
       " (58338, 796.6361083984375),\n",
       " (23148, 798.0498046875),\n",
       " (65232, 798.4594116210938),\n",
       " (34587, 799.0611572265625),\n",
       " (16259, 799.4296875),\n",
       " (53502, 799.5304565429688),\n",
       " (63853, 799.8969116210938),\n",
       " (23955, 801.3148803710938),\n",
       " (80420, 801.3882446289062),\n",
       " (690, 801.5292358398438),\n",
       " (89421, 801.6392211914062),\n",
       " (71853, 802.037353515625),\n",
       " (64129, 802.3019409179688),\n",
       " (11997, 803.3563842773438),\n",
       " (79896, 803.4651489257812),\n",
       " (38799, 803.7155151367188),\n",
       " (64636, 803.7319946289062),\n",
       " (93400, 804.0977783203125),\n",
       " (54003, 804.4525146484375),\n",
       " (14459, 804.4608764648438),\n",
       " (31760, 804.9864501953125),\n",
       " (97638, 805.1032104492188),\n",
       " (67523, 805.8238525390625),\n",
       " (43158, 805.8267822265625),\n",
       " (60241, 806.1976318359375),\n",
       " (15187, 806.46533203125)]"
      ]
     },
     "execution_count": 149,
     "metadata": {},
     "output_type": "execute_result"
    }
   ],
   "source": [
    "# Extract information about the index of the closest rows\n",
    "one_in_many.to_list()"
   ]
  },
  {
   "cell_type": "markdown",
   "metadata": {},
   "source": [
    "This means that from vectors, the row that is closest to vector has the index 62471."
   ]
  },
  {
   "cell_type": "code",
   "execution_count": 150,
   "metadata": {},
   "outputs": [],
   "source": [
    "# Compute pairwise distances using Euclidean distance metric\n",
    "pairwise_distances = cdist(vectors, vector.reshape(1,-1), metric='euclidean')\n"
   ]
  },
  {
   "cell_type": "markdown",
   "metadata": {},
   "source": [
    "### The 'cdist' method computes the same values"
   ]
  },
  {
   "cell_type": "code",
   "execution_count": 151,
   "metadata": {},
   "outputs": [
    {
     "data": {
      "text/plain": [
       "array([27.50896934, 27.5424647 , 27.67461108, 27.76268412, 27.83171455,\n",
       "       27.87378531, 27.88249395, 27.91593608, 27.92623458, 27.92650213,\n",
       "       27.93549644, 28.07333346, 28.07377298, 28.09972017, 28.11833298,\n",
       "       28.12133849, 28.14302201, 28.15320344, 28.1778244 , 28.19339526,\n",
       "       28.19600717, 28.20806207, 28.21908104, 28.22066716, 28.2247423 ,\n",
       "       28.24977517, 28.25702424, 28.26767002, 28.27418778, 28.27596947,\n",
       "       28.28244932, 28.30750543, 28.30880194, 28.31129113, 28.31323456,\n",
       "       28.32026408, 28.32493508, 28.34354224, 28.34546068, 28.34987672,\n",
       "       28.35016789, 28.35661834, 28.36287239, 28.36301906, 28.37228275,\n",
       "       28.37434085, 28.38703636, 28.38708856, 28.39362008, 28.39833346])"
      ]
     },
     "execution_count": 151,
     "metadata": {},
     "output_type": "execute_result"
    }
   ],
   "source": [
    "np.sort(pairwise_distances.ravel())[:50]"
   ]
  },
  {
   "cell_type": "code",
   "execution_count": null,
   "metadata": {},
   "outputs": [],
   "source": []
  }
 ],
 "metadata": {
  "kernelspec": {
   "display_name": "rocm_env",
   "language": "python",
   "name": "python3"
  },
  "language_info": {
   "codemirror_mode": {
    "name": "ipython",
    "version": 3
   },
   "file_extension": ".py",
   "mimetype": "text/x-python",
   "name": "python",
   "nbconvert_exporter": "python",
   "pygments_lexer": "ipython3",
   "version": "3.12.5"
  }
 },
 "nbformat": 4,
 "nbformat_minor": 2
}
