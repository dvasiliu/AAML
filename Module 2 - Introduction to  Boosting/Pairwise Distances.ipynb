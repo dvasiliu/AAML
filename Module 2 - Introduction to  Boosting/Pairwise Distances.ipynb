{
 "cells": [
  {
   "cell_type": "code",
   "execution_count": 56,
   "metadata": {},
   "outputs": [],
   "source": [
    "import pandas as pd\n",
    "import numpy as np\n",
    "from sklearn.preprocessing import StandardScaler\n",
    "from sklearn.metrics import mean_squared_error as mse\n",
    "from sklearn.neighbors import KNeighborsRegressor\n",
    "from scipy.spatial.distance import cdist\n",
    "from usearch.index import search, MetricKind, Matches, BatchMatches"
   ]
  },
  {
   "cell_type": "markdown",
   "metadata": {},
   "source": [
    "# Example with USearch library\n",
    "\n",
    "Reference: https://github.com/unum-cloud/usearch"
   ]
  },
  {
   "cell_type": "code",
   "execution_count": 49,
   "metadata": {},
   "outputs": [],
   "source": [
    "# Generate 10'000 random vectors with 1024 dimensions\n",
    "vectors = np.random.rand(10000, 1024).astype(np.float32)\n",
    "vector = np.random.rand(1024).astype(np.float32)\n",
    "\n",
    "one_in_many: Matches = search(vectors, vector, 50, MetricKind.L2sq, exact=True)\n",
    "# many_in_many: BatchMatches = search(vectors, vectors, 50, MetricKind.L2sq, exact=True)\n",
    "\n"
   ]
  },
  {
   "cell_type": "markdown",
   "metadata": {},
   "source": [
    "## Real Data Application\n"
   ]
  },
  {
   "cell_type": "code",
   "execution_count": 41,
   "metadata": {},
   "outputs": [],
   "source": [
    "data = pd.read_csv('../Data Sets/concrete.csv')"
   ]
  },
  {
   "cell_type": "code",
   "execution_count": 42,
   "metadata": {},
   "outputs": [],
   "source": [
    "x = data.drop(columns='strength').values\n",
    "y = data['strength'].values"
   ]
  },
  {
   "cell_type": "code",
   "execution_count": null,
   "metadata": {},
   "outputs": [],
   "source": [
    "for row in x:\n",
    "    print(row)"
   ]
  },
  {
   "cell_type": "code",
   "execution_count": 54,
   "metadata": {},
   "outputs": [
    {
     "data": {
      "text/plain": [
       "0.7528885893274251"
      ]
     },
     "execution_count": 54,
     "metadata": {},
     "output_type": "execute_result"
    }
   ],
   "source": [
    "model = KNeighborsRegressor(n_neighbors=10)\n",
    "model.fit(x,y)\n",
    "model.score(x,y)"
   ]
  },
  {
   "cell_type": "code",
   "execution_count": 57,
   "metadata": {},
   "outputs": [
    {
     "data": {
      "text/plain": [
       "68.89734524174757"
      ]
     },
     "execution_count": 57,
     "metadata": {},
     "output_type": "execute_result"
    }
   ],
   "source": [
    "mse(model.predict(x),y)"
   ]
  },
  {
   "cell_type": "code",
   "execution_count": 4,
   "metadata": {},
   "outputs": [],
   "source": [
    "# Generate 10'000 random vectors with 1024 dimensions\n",
    "train = np.random.rand(2000, 1024).astype(np.float32)\n",
    "test = np.random.rand(20,1024).astype(np.float32)\n",
    "\n",
    "#one_in_many: Matches = search(vectors, vector, 50, MetricKind.L2sq, exact=True)\n",
    "many_in_many: BatchMatches = search(train, test, 5, MetricKind.L2sq, exact=True)"
   ]
  },
  {
   "cell_type": "code",
   "execution_count": 50,
   "metadata": {},
   "outputs": [],
   "source": [
    "output = many_in_many.to_list()"
   ]
  },
  {
   "cell_type": "code",
   "execution_count": 51,
   "metadata": {},
   "outputs": [
    {
     "data": {
      "text/plain": [
       "[(1923, 153.38187),\n",
       " (1117, 155.98915),\n",
       " (1327, 157.62474),\n",
       " (1515, 158.20346),\n",
       " (139, 158.45634),\n",
       " (1018, 150.89204),\n",
       " (1191, 153.86111),\n",
       " (1192, 155.33842),\n",
       " (1217, 155.46008),\n",
       " (1270, 155.64658),\n",
       " (223, 152.95477),\n",
       " (1364, 154.72516),\n",
       " (1966, 154.74345),\n",
       " (1925, 155.19516),\n",
       " (812, 155.64015),\n",
       " (660, 152.79694),\n",
       " (379, 153.18756),\n",
       " (1972, 153.31203),\n",
       " (358, 154.70497),\n",
       " (1467, 155.29631),\n",
       " (447, 151.20822),\n",
       " (1640, 151.51291),\n",
       " (1594, 151.95554),\n",
       " (946, 152.25009),\n",
       " (1818, 152.36336),\n",
       " (941, 148.99124),\n",
       " (564, 151.87589),\n",
       " (971, 153.8834),\n",
       " (1548, 154.96663),\n",
       " (1451, 155.93024),\n",
       " (627, 155.25912),\n",
       " (452, 155.6015),\n",
       " (1258, 156.03473),\n",
       " (1461, 156.88412),\n",
       " (1683, 157.11961),\n",
       " (747, 148.4409),\n",
       " (222, 149.54985),\n",
       " (183, 149.57553),\n",
       " (1366, 153.1477),\n",
       " (1242, 153.42387),\n",
       " (13, 149.38934),\n",
       " (188, 149.56116),\n",
       " (1261, 150.89915),\n",
       " (1630, 151.43372),\n",
       " (1509, 151.54802),\n",
       " (1799, 148.84427),\n",
       " (62, 149.0828),\n",
       " (934, 150.40575),\n",
       " (1215, 150.95244),\n",
       " (1847, 151.3516),\n",
       " (368, 151.0336),\n",
       " (1235, 152.78026),\n",
       " (1527, 153.3915),\n",
       " (1162, 154.19928),\n",
       " (844, 154.34589),\n",
       " (1781, 151.27272),\n",
       " (1131, 151.88142),\n",
       " (86, 152.2619),\n",
       " (1509, 152.96033),\n",
       " (62, 152.9914),\n",
       " (1792, 145.04575),\n",
       " (1905, 149.0558),\n",
       " (1993, 149.22324),\n",
       " (1479, 151.59068),\n",
       " (1175, 151.65707),\n",
       " (188, 146.52097),\n",
       " (1640, 148.83182),\n",
       " (1846, 151.60056),\n",
       " (764, 151.95148),\n",
       " (1672, 152.30128),\n",
       " (892, 152.70132),\n",
       " (1718, 153.41931),\n",
       " (1158, 153.80023),\n",
       " (1146, 154.55298),\n",
       " (1008, 154.89223),\n",
       " (1626, 150.8399),\n",
       " (2, 155.96677),\n",
       " (1147, 155.98697),\n",
       " (1683, 156.78911),\n",
       " (1174, 158.48032),\n",
       " (659, 152.87866),\n",
       " (520, 153.36705),\n",
       " (1944, 153.40182),\n",
       " (873, 154.83003),\n",
       " (958, 155.35593),\n",
       " (1427, 150.9137),\n",
       " (1092, 151.0433),\n",
       " (72, 152.17355),\n",
       " (964, 153.82698),\n",
       " (206, 153.98369),\n",
       " (740, 147.68439),\n",
       " (577, 151.54463),\n",
       " (62, 151.6856),\n",
       " (116, 151.73685),\n",
       " (1298, 152.89294),\n",
       " (222, 148.13272),\n",
       " (1324, 150.01848),\n",
       " (697, 150.67021),\n",
       " (972, 150.97632),\n",
       " (947, 151.01324)]"
      ]
     },
     "execution_count": 51,
     "metadata": {},
     "output_type": "execute_result"
    }
   ],
   "source": [
    "output"
   ]
  },
  {
   "cell_type": "code",
   "execution_count": 25,
   "metadata": {},
   "outputs": [],
   "source": [
    "ind = np.array(output)[:,0].astype('int64')\n",
    "dist = np.array(output)[:,1].astype(float)"
   ]
  },
  {
   "cell_type": "code",
   "execution_count": 37,
   "metadata": {},
   "outputs": [],
   "source": [
    "weights = 1/dist[5:10]\n",
    "weights[weights==np.inf]=100\n",
    "np.sum(weights)\n",
    "weights = weights/np.sum(weights)"
   ]
  },
  {
   "cell_type": "code",
   "execution_count": 38,
   "metadata": {},
   "outputs": [
    {
     "data": {
      "text/plain": [
       "array([0.20440918, 0.20046468, 0.19855821, 0.19840282, 0.1981651 ])"
      ]
     },
     "execution_count": 38,
     "metadata": {},
     "output_type": "execute_result"
    }
   ],
   "source": [
    "weights"
   ]
  },
  {
   "cell_type": "code",
   "execution_count": 11,
   "metadata": {},
   "outputs": [
    {
     "data": {
      "text/plain": [
       "[(6398, 148.28492736816406),\n",
       " (143, 149.36392211914062),\n",
       " (5364, 149.3961181640625),\n",
       " (2408, 150.33773803710938),\n",
       " (4788, 150.7617645263672),\n",
       " (4569, 151.26873779296875),\n",
       " (8272, 151.555419921875),\n",
       " (3095, 151.58168029785156),\n",
       " (7043, 151.61358642578125),\n",
       " (5500, 151.66888427734375),\n",
       " (5613, 151.77276611328125),\n",
       " (6301, 151.88189697265625),\n",
       " (5890, 152.1690673828125),\n",
       " (540, 152.28231811523438),\n",
       " (9951, 152.41409301757812),\n",
       " (171, 152.41915893554688),\n",
       " (7865, 152.45040893554688),\n",
       " (9505, 152.47854614257812),\n",
       " (2065, 152.56646728515625),\n",
       " (762, 152.61732482910156),\n",
       " (2186, 152.81068420410156),\n",
       " (8400, 152.9129180908203),\n",
       " (649, 152.93020629882812),\n",
       " (4983, 152.9842071533203),\n",
       " (7042, 153.01051330566406),\n",
       " (5245, 153.03829956054688),\n",
       " (2278, 153.0926513671875),\n",
       " (609, 153.14703369140625),\n",
       " (3126, 153.23403930664062),\n",
       " (6393, 153.30552673339844),\n",
       " (950, 153.60391235351562),\n",
       " (1871, 153.6868133544922),\n",
       " (8731, 153.98638916015625),\n",
       " (1245, 154.013427734375),\n",
       " (8291, 154.26998901367188),\n",
       " (7755, 154.36090087890625),\n",
       " (5956, 154.38693237304688),\n",
       " (1757, 154.43190002441406),\n",
       " (3876, 154.45643615722656),\n",
       " (3581, 154.46511840820312),\n",
       " (4078, 154.51248168945312),\n",
       " (7307, 154.59295654296875),\n",
       " (3793, 154.6326141357422),\n",
       " (2265, 154.65158081054688),\n",
       " (7167, 154.65528869628906),\n",
       " (780, 154.65904235839844),\n",
       " (6597, 154.66281127929688),\n",
       " (4494, 154.69044494628906),\n",
       " (4969, 154.720947265625),\n",
       " (4393, 154.80172729492188)]"
      ]
     },
     "execution_count": 11,
     "metadata": {},
     "output_type": "execute_result"
    }
   ],
   "source": [
    "one_in_many.to_list()"
   ]
  },
  {
   "cell_type": "markdown",
   "metadata": {},
   "source": [
    "# Comparison with Scipy Spatial Distance"
   ]
  },
  {
   "cell_type": "code",
   "execution_count": 12,
   "metadata": {},
   "outputs": [],
   "source": [
    "# Another example to compare with scipy spatial.distance\n",
    "# Example vectors\n",
    "vector1 = np.random.uniform(2,3,size=[10,5])\n",
    "vector2 =np.array([np.random.uniform(2,3,size=5)])"
   ]
  },
  {
   "cell_type": "code",
   "execution_count": 13,
   "metadata": {},
   "outputs": [],
   "source": [
    "result: BatchMatches = search(vector1, vector2, 10, MetricKind.L2sq, exact=True)"
   ]
  },
  {
   "cell_type": "code",
   "execution_count": 35,
   "metadata": {},
   "outputs": [],
   "source": [
    "# get the indeces for ordering the pairwise distances\n",
    "ind = np.array(result.to_list())[:,0].astype('int64')"
   ]
  },
  {
   "cell_type": "code",
   "execution_count": 44,
   "metadata": {},
   "outputs": [
    {
     "data": {
      "text/plain": [
       "array([0, 1, 2, 3, 4, 5, 6, 7, 8, 9])"
      ]
     },
     "execution_count": 44,
     "metadata": {},
     "output_type": "execute_result"
    }
   ],
   "source": [
    "np.sort(ind)"
   ]
  },
  {
   "cell_type": "code",
   "execution_count": 15,
   "metadata": {},
   "outputs": [],
   "source": [
    "d = result.distances"
   ]
  },
  {
   "cell_type": "code",
   "execution_count": 47,
   "metadata": {},
   "outputs": [
    {
     "data": {
      "text/plain": [
       "array([1.2775285 , 0.6731909 , 0.61250603, 1.0589464 , 0.5932575 ,\n",
       "       0.94723815, 0.7952991 , 0.21066497, 0.96343386, 0.587761  ],\n",
       "      dtype=float32)"
      ]
     },
     "execution_count": 47,
     "metadata": {},
     "output_type": "execute_result"
    }
   ],
   "source": [
    "np.sqrt(d)[np.argsort(ind)]"
   ]
  },
  {
   "cell_type": "code",
   "execution_count": 37,
   "metadata": {},
   "outputs": [
    {
     "name": "stdout",
     "output_type": "stream",
     "text": [
      "Pairwise distances:\n",
      "[[1.27752856]\n",
      " [0.67319091]\n",
      " [0.61250603]\n",
      " [1.0589464 ]\n",
      " [0.59325747]\n",
      " [0.94723814]\n",
      " [0.79529909]\n",
      " [0.21066497]\n",
      " [0.96343388]\n",
      " [0.58776098]]\n"
     ]
    }
   ],
   "source": [
    "# Compute pairwise distances using Euclidean distance metric\n",
    "pairwise_distances = cdist(vector1, vector2, metric='euclidean')\n",
    "\n",
    "print(\"Pairwise distances:\")\n",
    "print(pairwise_distances)"
   ]
  },
  {
   "cell_type": "code",
   "execution_count": 16,
   "metadata": {},
   "outputs": [
    {
     "data": {
      "text/plain": [
       "(10, 1)"
      ]
     },
     "execution_count": 16,
     "metadata": {},
     "output_type": "execute_result"
    }
   ],
   "source": [
    "pairwise_distances.shape"
   ]
  },
  {
   "cell_type": "markdown",
   "metadata": {},
   "source": [
    "# FAISS is dangerous\n",
    "\n",
    "...and slower than USearch."
   ]
  },
  {
   "cell_type": "code",
   "execution_count": 51,
   "metadata": {},
   "outputs": [],
   "source": [
    "import faiss"
   ]
  },
  {
   "cell_type": "code",
   "execution_count": 54,
   "metadata": {},
   "outputs": [
    {
     "name": "stdout",
     "output_type": "stream",
     "text": [
      "Pairwise distances:\n",
      "[  0.      147.81537 149.88068 ... 188.24158 188.37915 188.89383]\n"
     ]
    }
   ],
   "source": [
    "# Concatenate the vectors into a single array\n",
    "all_vectors = np.concatenate((vectors, vector.reshape(1,-1)), axis=0)\n",
    "\n",
    "# Initialize Faiss index\n",
    "d = all_vectors.shape[1]  # Dimension of vectors\n",
    "index = faiss.IndexFlatL2(d)  # L2 distance (Euclidean distance)\n",
    "\n",
    "# Add vectors to the index\n",
    "index.add(all_vectors)\n",
    "\n",
    "# Query for the nearest neighbors (in this case, excluding the vector itself)\n",
    "k = all_vectors.shape[0] - 1  # Return distances to all other vectors\n",
    "D, I = index.search(all_vectors, k)\n",
    "\n",
    "# The first row of D corresponds to distances from vector1 to all vectors,\n",
    "# and the second row corresponds to distances from vector2 to all vectors\n",
    "pairwise_distances = D[1]\n",
    "\n",
    "print(\"Pairwise distances:\")\n",
    "print(pairwise_distances)"
   ]
  },
  {
   "cell_type": "code",
   "execution_count": 52,
   "metadata": {},
   "outputs": [
    {
     "name": "stdout",
     "output_type": "stream",
     "text": [
      "Pairwise distances:\n",
      "[0.         0.29514208 0.30921572 0.32049134 0.32110634 0.45318595\n",
      " 0.69156986 0.7355278  0.94303757 1.1888701 ]\n"
     ]
    }
   ],
   "source": [
    "# Concatenate the vectors into a single array\n",
    "all_vectors = np.concatenate((vector1, vector2), axis=0)\n",
    "\n",
    "# Initialize Faiss index\n",
    "d = all_vectors.shape[1]  # Dimension of vectors\n",
    "index = faiss.IndexFlatL2(d)  # L2 distance (Euclidean distance)\n",
    "\n",
    "# Add vectors to the index\n",
    "index.add(all_vectors)\n",
    "\n",
    "# Query for the nearest neighbors (in this case, excluding the vector itself)\n",
    "k = all_vectors.shape[0] - 1  # Return distances to all other vectors\n",
    "D, I = index.search(all_vectors, k)\n",
    "\n",
    "# The first row of D corresponds to distances from vector1 to all vectors,\n",
    "# and the second row corresponds to distances from vector2 to all vectors\n",
    "pairwise_distances = D[1]\n",
    "\n",
    "print(\"Pairwise distances:\")\n",
    "print(pairwise_distances)\n"
   ]
  },
  {
   "cell_type": "markdown",
   "metadata": {},
   "source": [
    "# Excuse for FAISS performance\n",
    "\n",
    "https://medium.com/mlearning-ai/why-you-should-be-careful-using-faiss-c44996eda9ee"
   ]
  },
  {
   "cell_type": "code",
   "execution_count": null,
   "metadata": {},
   "outputs": [],
   "source": []
  }
 ],
 "metadata": {
  "kernelspec": {
   "display_name": "venv",
   "language": "python",
   "name": "python3"
  },
  "language_info": {
   "codemirror_mode": {
    "name": "ipython",
    "version": 3
   },
   "file_extension": ".py",
   "mimetype": "text/x-python",
   "name": "python",
   "nbconvert_exporter": "python",
   "pygments_lexer": "ipython3",
   "version": "3.10.12"
  }
 },
 "nbformat": 4,
 "nbformat_minor": 2
}
